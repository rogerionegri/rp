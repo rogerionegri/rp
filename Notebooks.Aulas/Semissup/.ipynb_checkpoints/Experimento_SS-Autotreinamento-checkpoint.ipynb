{
 "cells": [
  {
   "cell_type": "markdown",
   "metadata": {},
   "source": [
    "## Declaração de biblioteca e outras configurações"
   ]
  },
  {
   "cell_type": "code",
   "execution_count": 1,
   "metadata": {},
   "outputs": [],
   "source": [
    "import numpy as np\n",
    "import matplotlib.pyplot as plt\n",
    "from matplotlib import cm\n",
    "import matplotlib.gridspec as gridspec\n",
    "\n",
    "import csv\n",
    "\n",
    "#from matplotlib import rcParams\n",
    "#rcParams['text.usetex'] = True\n",
    "#rcParams['text.latex.preamble'] = r'\\usepackage{amsmath}'"
   ]
  },
  {
   "cell_type": "markdown",
   "metadata": {},
   "source": [
    "## Funções usadas no método"
   ]
  },
  {
   "cell_type": "code",
   "execution_count": 2,
   "metadata": {},
   "outputs": [],
   "source": [
    "#Função de leitura dos dados------------------------------------\n",
    "def read_class_data(path):\n",
    "    with open(path, newline='') as f:\n",
    "        reader = csv.reader(f,delimiter=',')\n",
    "        for row in reader:\n",
    "            try:\n",
    "                data = np.vstack( (data , np.asarray(row).astype(np.float) ) )\n",
    "            except:\n",
    "                data = np.asarray(row).astype(np.float)\n",
    "    f.close()\n",
    "    y = data[:,0]\n",
    "    x = data[:,1:]\n",
    "    return y,x"
   ]
  },
  {
   "cell_type": "code",
   "execution_count": 4,
   "metadata": {},
   "outputs": [],
   "source": [
    "#Distribuição gaussiana multivarada\n",
    "def multivariate_gaussian(x, mu, Sigma):\n",
    "    n = mu.shape[0]\n",
    "    Sigma_det = np.linalg.det(Sigma)\n",
    "    Sigma_inv = np.linalg.inv(Sigma)\n",
    "    fator = 1 / np.sqrt((2*np.pi)**n * Sigma_det)\n",
    "    expo =  ( ((x-mu).T).dot( Sigma_inv ) ).dot(x-mu)\n",
    "    return np.exp(-0.5*expo) / fator\n",
    "\n",
    "#Estmação dos parâmetros\n",
    "def compute_pars_gauss_multi(x,y):\n",
    "    _,n = x.shape\n",
    "    c = len(np.unique(y))\n",
    "\n",
    "    #Instanciação das variáveis associadas aos parâmetros dos modelo\n",
    "    mu = np.ndarray((n,c))     #vetores médio\n",
    "    sigm = np.ndarray((n,n,c)) #matrizes de coveriância\n",
    "\n",
    "    for ind in np.unique(y):\n",
    "        pos = np.where(y == ind)\n",
    "        mu[:,int(ind)] = np.mean( x[pos,:].reshape((len(pos[0]),n))  , axis=0)\n",
    "        sigm[:,:,int(ind)] = np.cov(x[pos,:].reshape((len(pos[0]),n)) , rowvar=False)\n",
    "    return mu, sigm"
   ]
  },
  {
   "cell_type": "markdown",
   "metadata": {},
   "source": [
    "## Leitura dos dados (início do experimento)"
   ]
  },
  {
   "cell_type": "code",
   "execution_count": 5,
   "metadata": {},
   "outputs": [],
   "source": [
    "#Arquivos com informações de treinamento e avaliação\n",
    "path_data_Rotulado = 'simTreino.txt'\n",
    "path_data_naoRotulado = 'simNaoRotulado.txt'\n",
    "\n",
    "yD,xD = read_class_data(path_data_Rotulado)    #Dados de treinamento\n",
    "yI,xI = read_class_data(path_data_naoRotulado) #Dados não rotulados (avaliação)"
   ]
  },
  {
   "cell_type": "markdown",
   "metadata": {},
   "source": [
    "## Configurações usadas no processo\n",
    "* Número máximo de autotreinamentos\n",
    "* Nível de confiança exigido"
   ]
  },
  {
   "cell_type": "code",
   "execution_count": null,
   "metadata": {},
   "outputs": [],
   "source": [
    "repeticoes = 5\n",
    "nivel = 0.85"
   ]
  },
  {
   "cell_type": "markdown",
   "metadata": {},
   "source": [
    "## Execução do método\n",
    "* O método MLC é usado neste processo\n",
    "* A \"confiança\" é medida por $\\displaystyle \\frac{p(x_i|\\omega_j)}{max \\{ p(x_k|\\omega_j) \\}}, k=1,\\ldots,m$"
   ]
  },
  {
   "cell_type": "code",
   "execution_count": null,
   "metadata": {},
   "outputs": [],
   "source": [
    "yDcopy = np.copy(yD); xDcopy = np.copy(xD) #Cópias para uso posterior\n",
    "yIcopy = np.copy(yI); xIcopy = np.copy(xI) #Idem...\n",
    "iteracao = 0\n",
    "\n",
    "while (iteracao < repeticoes) and (len(yI) > 0):\n",
    "\n",
    "    m,n = xI.shape; c = len(np.unique(yD)) #Número de observações e de classes\n",
    "    mu,sigm = compute_pars_gauss_multi(xD,yD) #Cálculo dos parâmetros via conjunto de treino atual\n",
    "\n",
    "    #Classificação em termos do nível de confiança\n",
    "    conf = np.ndarray((m,c))\n",
    "    refConf = np.zeros((c))\n",
    "    for i in range(m):\n",
    "        for j in range(c):\n",
    "            conf[i,j] = multivariate_gaussian(xI[i,:], mu[:,j], sigm[:,:,j])\n",
    "            if conf[i,j] > refConf[j]:\n",
    "                refConf[j] = conf[i,j]\n",
    "\n",
    "    #Geração de uma representação em termos de \"nível de confiança\" (normalização pelo máximo) \n",
    "    for j in range(c):\n",
    "        conf[:,j] /= refConf[j]\n",
    "\n",
    "    #Verificação do exemplo que ultrapassa o nível de confiança estabelecido e ajuste dos conjuntos\n",
    "    itensRemove = []\n",
    "    for i in range(m):\n",
    "        pos1 = np.where(conf[i,:] > nivel)[0]\n",
    "        if len(pos1) > 0:\n",
    "            pos2 = np.argmax(conf[i,pos1])\n",
    "            \n",
    "            #Inclusão no conjunto de treino\n",
    "            xD = np.append(xD, (xI[i,:]).reshape((1,n)), axis=0)\n",
    "            yD = np.append(yD, pos1[pos2])\n",
    "\n",
    "            #Lista de itens para remoção posterior\n",
    "            itensRemove.append(i)\n",
    "\n",
    "    #Remoção/atualização de xI e yI\n",
    "    if len(itensRemove) > 0:\n",
    "        xI = np.delete(xI, itensRemove, axis=0)\n",
    "        yI = np.delete(yI, itensRemove)\n",
    "\n",
    "    iteracao += 1"
   ]
  },
  {
   "cell_type": "markdown",
   "metadata": {},
   "source": [
    "## Desempenho do método MLC *com* autotreinamento"
   ]
  },
  {
   "cell_type": "code",
   "execution_count": null,
   "metadata": {},
   "outputs": [],
   "source": [
    "#Treinamento\n",
    "mu,sigm = compute_pars_gauss_multi(xD,yD) #Cálculo dos parâmetros\n",
    "pred = np.zeros((yIcopy.shape[0]))        #Variável para armazenamento das predições\n",
    "maxlike = np.ndarray((c))                 #Vetor para armazenar os valor de verossimilhança\n",
    "for i in range(yIcopy.shape[0]):\n",
    "    for j in range(c):\n",
    "        maxlike[j] = multivariate_gaussian(xIcopy[i,:], mu[:,j], sigm[:,:,j])\n",
    "    pred[i] = np.argmax(maxlike)\n",
    "    \n",
    "#Avaliação \n",
    "acuracia = np.count_nonzero(pred == yIcopy)/yIcopy.shape[0]\n",
    "print('Acurácia: ',acuracia)"
   ]
  },
  {
   "cell_type": "markdown",
   "metadata": {},
   "source": [
    "## Desempenho do método MLC *sem* autotreinamento"
   ]
  },
  {
   "cell_type": "code",
   "execution_count": null,
   "metadata": {},
   "outputs": [],
   "source": [
    "#Treinamento\n",
    "mu,sigm = compute_pars_gauss_multi(xDcopy,yDcopy) #Cálculo dos parâmetros\n",
    "predSem = np.zeros((yIcopy.shape[0]))                #Variável para armazenamento das predições\n",
    "maxlike = np.ndarray((c))                         #Vetor para armazenar os valor de verossimilhança\n",
    "for i in range(yIcopy.shape[0]):\n",
    "    for j in range(c):\n",
    "        maxlike[j] = multivariate_gaussian(xIcopy[i,:], mu[:,j], sigm[:,:,j])\n",
    "    predSem[i] = np.argmax(maxlike)\n",
    "\n",
    "#Avaliação\n",
    "acuracia = np.count_nonzero(predSem == yIcopy)/yIcopy.shape[0]\n",
    "print('Acurácia: ',acuracia)"
   ]
  },
  {
   "cell_type": "markdown",
   "metadata": {},
   "source": [
    "## Visualização dos resultados"
   ]
  },
  {
   "cell_type": "code",
   "execution_count": null,
   "metadata": {},
   "outputs": [],
   "source": [
    "cores = ['red','blue','green','orange'] #Deve ser compatível com o número de classes\n",
    "\n",
    "FS = (12,5) #Tamanho da figura a ser gerada\n",
    "fig = plt.figure(constrained_layout=True,figsize=FS)\n",
    "spec = gridspec.GridSpec(ncols=2, nrows=1, figure=fig)\n",
    "\n",
    "#Subgráfico sem autotreinamento\n",
    "ax = fig.add_subplot(spec[0,0])\n",
    "for i in range(0,c):\n",
    "    pos = np.where( np.array(predSem) == i)\n",
    "    ax.scatter(xIcopy[pos, 0], xIcopy[pos, 1], marker='o', c=cores[i], s=30)\n",
    "\n",
    "ax.set_xlabel('$x_1$', fontsize=20)\n",
    "ax.set_ylabel('$x_2$', fontsize=20)\n",
    "\n",
    "#Subgráfico com autotreinamento\n",
    "ax = fig.add_subplot(spec[0,1])\n",
    "for i in range(0,c):\n",
    "    pos = np.where( np.array(pred) == i)\n",
    "    ax.scatter(xIcopy[pos, 0], xIcopy[pos, 1], marker='o', c=cores[i], s=30)\n",
    "\n",
    "ax.set_xlabel('$x_1$', fontsize=20)\n",
    "ax.set_ylabel('$x_2$', fontsize=20)\n",
    "\n",
    "plt.show()"
   ]
  },
  {
   "cell_type": "code",
   "execution_count": null,
   "metadata": {},
   "outputs": [],
   "source": []
  }
 ],
 "metadata": {
  "kernelspec": {
   "display_name": "Python 3",
   "language": "python",
   "name": "python3"
  },
  "language_info": {
   "codemirror_mode": {
    "name": "ipython",
    "version": 3
   },
   "file_extension": ".py",
   "mimetype": "text/x-python",
   "name": "python",
   "nbconvert_exporter": "python",
   "pygments_lexer": "ipython3",
   "version": "3.8.3"
  }
 },
 "nbformat": 4,
 "nbformat_minor": 4
}
