{
 "cells": [
  {
   "cell_type": "markdown",
   "metadata": {},
   "source": [
    "## Declaração de biblioteca e outras configurações"
   ]
  },
  {
   "cell_type": "code",
   "execution_count": null,
   "metadata": {},
   "outputs": [],
   "source": [
    "import numpy as np\n",
    "import matplotlib.pyplot as plt\n",
    "from matplotlib import cm\n",
    "import matplotlib.gridspec as gridspec\n",
    "\n",
    "from sklearn.datasets import make_blobs\n",
    "from sklearn.datasets import make_classification\n",
    "\n",
    "import csv\n",
    "\n",
    "#from matplotlib import rcParams\n",
    "#rcParams['text.usetex'] = True\n",
    "#rcParams['text.latex.preamble'] = r'\\usepackage{amsmath}'"
   ]
  },
  {
   "cell_type": "markdown",
   "metadata": {},
   "source": [
    "## Simulação dos dados"
   ]
  },
  {
   "cell_type": "code",
   "execution_count": null,
   "metadata": {},
   "outputs": [],
   "source": [
    "np.random.seed(0) #np.random.seed(3) #np.random.seed(25)\n",
    "n_clusters = 4\n",
    "exemplosTreino = 5\n",
    "\n",
    "#Dados rotulados\n",
    "#x,y = make_blobs(n_features=2, centers=n_clusters, n_samples=400)\n",
    "x,y = make_classification(n_features=2, n_redundant=0, n_informative=2,n_clusters_per_class=1,\n",
    "                          n_classes=n_clusters, n_samples=1000)\n",
    "\n",
    "#Definição de um conjunto de treinamento (pequeno) e outra parcela tratada como dados não rotulados\n",
    "rotuladoPos = []; naoRotuladoPos = []; geralPos = []\n",
    "for i in range(n_clusters):\n",
    "    posClass = np.where(y == i)\n",
    "    posRand = posClass[0][ np.argsort( np.random.uniform(0,1,len(posClass[0]))).tolist() ]\n",
    "    \n",
    "    for item in posRand[0:exemplosTreino]: rotuladoPos.append( item )\n",
    "    for item in posRand[exemplosTreino:]: naoRotuladoPos.append( item )\n",
    "    #for item in posRand: geralPos.append( item )\n",
    "\n",
    "#Divisão dos dados (para fins de experimento)\n",
    "xD = x[rotuladoPos,:]; yD = y[rotuladoPos]\n",
    "xI = x[naoRotuladoPos,:]; yI = y[naoRotuladoPos]"
   ]
  },
  {
   "cell_type": "markdown",
   "metadata": {},
   "source": [
    "## Visualização do conjunto simulado"
   ]
  },
  {
   "cell_type": "code",
   "execution_count": null,
   "metadata": {},
   "outputs": [],
   "source": [
    "corI = ['pink','lightgreen','cyan','gold']; corD = ['darkred','darkgreen','darkblue','orange']\n",
    "vecI = []; vecD = []\n",
    "for i in yI: vecI.append(corI[i])\n",
    "for i in yD: vecD.append(corD[i])\n",
    "\n",
    "FS = (5,5) #Tamanho da figura a ser gerada\n",
    "fig = plt.figure(constrained_layout=True,figsize=FS)\n",
    "spec = gridspec.GridSpec(ncols=1, nrows=1, figure=fig)\n",
    "\n",
    "ax = fig.add_subplot(spec[0, 0])\n",
    "    \n",
    "ax.scatter(xI[:,0],xI[:,1], marker='.', c=vecI, s=20)\n",
    "ax.scatter(xD[:,0],xD[:,1], marker='*', c=vecD, s=80)\n",
    "ax.set_xlabel('$x_1$',fontsize=20)\n",
    "ax.set_ylabel('$x_2$',fontsize=20)\n",
    "\n",
    "plt.show()"
   ]
  },
  {
   "cell_type": "markdown",
   "metadata": {},
   "source": [
    "## Registro das informações em arquivos de texto"
   ]
  },
  {
   "cell_type": "code",
   "execution_count": null,
   "metadata": {},
   "outputs": [],
   "source": [
    "#Nome dos arquivos a serem salvos\n",
    "path_data_Rotulado = 'simTreino.txt'\n",
    "path_data_naoRotulado = 'simNaoRotulado.txt'\n",
    "\n",
    "\n",
    "#Conjunto rotulado\n",
    "f= open(path_data_Rotulado,\"w\")\n",
    "for i in range(len(yD)):\n",
    "    st = str(yD[i])\n",
    "    for j in range(0,xD.shape[1]): #xD.shape = ('num. simula.','dim. espaço')\n",
    "        st += ','+ str(xD[i,j])\n",
    "    st += '\\n' #depois que forma linha, 'pula para próxima linha'\n",
    "    f.write(st)\n",
    "f.close()\n",
    "\n",
    "\n",
    "#Conjunto não rotulado (de avaliação)\n",
    "f= open(path_data_naoRotulado,\"w\")\n",
    "for i in range(len(yI)):\n",
    "    st = str(yI[i])\n",
    "    for j in range(0,xI.shape[1]): #xD.shape = ('num. simula.','dim. espaço')\n",
    "        st += ','+ str(xI[i,j])\n",
    "    st += '\\n' #depois que forma linha, 'pula para próxima linha'\n",
    "    f.write(st)\n",
    "f.close()"
   ]
  }
 ],
 "metadata": {
  "kernelspec": {
   "display_name": "Python 3",
   "language": "python",
   "name": "python3"
  },
  "language_info": {
   "codemirror_mode": {
    "name": "ipython",
    "version": 3
   },
   "file_extension": ".py",
   "mimetype": "text/x-python",
   "name": "python",
   "nbconvert_exporter": "python",
   "pygments_lexer": "ipython3",
   "version": "3.8.3"
  }
 },
 "nbformat": 4,
 "nbformat_minor": 4
}
