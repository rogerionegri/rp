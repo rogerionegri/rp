{
 "cells": [
  {
   "cell_type": "markdown",
   "metadata": {},
   "source": [
    "## Declaração de biblioteca e outras configurações"
   ]
  },
  {
   "cell_type": "code",
   "execution_count": null,
   "metadata": {},
   "outputs": [],
   "source": [
    "import numpy as np\n",
    "import matplotlib.pyplot as plt\n",
    "from matplotlib import cm\n",
    "import matplotlib.gridspec as gridspec\n",
    "\n",
    "from sklearn.mixture import GaussianMixture\n",
    "\n",
    "import csv\n",
    "\n",
    "#from matplotlib import rcParams\n",
    "#rcParams['text.usetex'] = True\n",
    "#rcParams['text.latex.preamble'] = r'\\usepackage{amsmath}'"
   ]
  },
  {
   "cell_type": "markdown",
   "metadata": {},
   "source": [
    "## Funções usadas no método"
   ]
  },
  {
   "cell_type": "code",
   "execution_count": null,
   "metadata": {},
   "outputs": [],
   "source": [
    "#Função de leitura dos dados------------------------------------\n",
    "def read_class_data(path):\n",
    "    with open(path, newline='') as f:\n",
    "        reader = csv.reader(f,delimiter=',')\n",
    "        for row in reader:\n",
    "            try:\n",
    "                data = np.vstack( (data , np.asarray(row).astype(np.float) ) )\n",
    "            except:\n",
    "                data = np.asarray(row).astype(np.float)\n",
    "    f.close()\n",
    "    y = data[:,0]\n",
    "    x = data[:,1:]\n",
    "    return y,x\n",
    "\n",
    "#Distribuição gaussiana multivarada\n",
    "def multivariate_gaussian(x, mu, Sigma):\n",
    "    n = mu.shape[0]\n",
    "    Sigma_det = np.linalg.det(Sigma)\n",
    "    Sigma_inv = np.linalg.inv(Sigma)\n",
    "    fator = 1 / np.sqrt((2*np.pi)**n * Sigma_det)\n",
    "    expo =  ( ((x-mu).T).dot( Sigma_inv ) ).dot(x-mu)\n",
    "    return np.exp(-0.5*expo) / fator\n",
    "\n",
    "\n",
    "#Inicialização dos lambdas\n",
    "def init_lambda(xD,mu,sigm):\n",
    "    m,_ = xD.shape\n",
    "    _,c = mu.shape\n",
    "    lamb = np.zeros((c))\n",
    "    for ind in range(c):\n",
    "        for i in range(m):\n",
    "            lamb[int(ind)] += multivariate_gaussian(xD[i,:], mu[:,int(ind)], sigm[:,:,int(ind)])\n",
    "\n",
    "    lamb[:] /= np.sum(lamb)\n",
    "    return lamb\n",
    "\n",
    "\n",
    "#Inicialização dos parametros\n",
    "def init_pars_gmm(data,labels):\n",
    "    _,n = data.shape\n",
    "    c = len(np.unique(labels))\n",
    "\n",
    "    #Instanciação das variáveis associadas aos parâmetros dos modelo\n",
    "    mu = np.ndarray((n,c))     #vetores médio\n",
    "    sigm = np.ndarray((n,n,c)) #matrizes de coveriância\n",
    "\n",
    "    for ind in np.unique(labels):\n",
    "        pos = np.where(labels == ind)\n",
    "        mu[:,int(ind)] = np.mean( data[pos,:].reshape((len(pos[0]),n))  , axis=0)\n",
    "        sigm[:,:,int(ind)] = np.cov(data[pos,:].reshape((len(pos[0]),n)) , rowvar=False)\n",
    "    return mu, sigm"
   ]
  },
  {
   "cell_type": "markdown",
   "metadata": {},
   "source": [
    "## Leitura dos dados (início do experimento)"
   ]
  },
  {
   "cell_type": "code",
   "execution_count": null,
   "metadata": {},
   "outputs": [],
   "source": [
    "#Arquivos com informações de treinamento e avaliação\n",
    "path_data_Rotulado = 'simTreino.txt'\n",
    "path_data_naoRotulado = 'simNaoRotulado.txt'\n",
    "\n",
    "yD,xD = read_class_data(path_data_Rotulado)    #Dados de treinamento\n",
    "yI,xI = read_class_data(path_data_naoRotulado) #Dados de avaliação\n",
    "\n",
    "data = np.append(xD,xI,axis=0) #Junção dos dados em um único conjunto"
   ]
  },
  {
   "cell_type": "markdown",
   "metadata": {},
   "source": [
    "## Inicialização dos parâmetros e treinamento do GMM"
   ]
  },
  {
   "cell_type": "code",
   "execution_count": null,
   "metadata": {},
   "outputs": [],
   "source": [
    "muInit, sigmaInit = init_pars_gmm(xD,yD)\n",
    "lamb = init_lambda(xD,muInit,sigmaInit)\n",
    "\n",
    "G = GaussianMixture(n_components=len(np.unique(yD)),\n",
    "                    means_init=muInit.T,weights_init=lamb,\n",
    "                    covariance_type='full')\n",
    "\n",
    "G.fit(data)\n",
    "predProb = G.predict_proba(data)\n",
    "pred = np.argmax(G.predict_proba(data),axis=1)\n",
    "predI = np.argmax(G.predict_proba(xI),axis=1)\n",
    "predD = np.argmax(G.predict_proba(xD),axis=1)\n",
    "\n",
    "#Cálculo da acurácia\n",
    "acuracia = np.count_nonzero( np.where( np.array(predI) == yI ) )/yI.shape[0]\n",
    "print('Acurácia: ',acuracia)"
   ]
  },
  {
   "cell_type": "markdown",
   "metadata": {},
   "source": [
    "## Gráficos de saída"
   ]
  },
  {
   "cell_type": "code",
   "execution_count": null,
   "metadata": {},
   "outputs": [],
   "source": [
    "marr = ['o','s','^','D']\n",
    "cores = ['red','blue','green','orange'] #Deve ser compatível com o número de classes\n",
    "\n",
    "FS = (5,5) #Tamanho da figura a ser gerada\n",
    "fig = plt.figure(constrained_layout=True,figsize=FS)\n",
    "spec = gridspec.GridSpec(ncols=1, nrows=1, figure=fig)\n",
    "\n",
    "#Subgráfico...\n",
    "ax = fig.add_subplot(spec[0,0])\n",
    "for i in range(0,len(np.unique(yD))):\n",
    "    pos = (np.where( np.array(pred) == i))[0]\n",
    "    ax.scatter(data[pos, 0], data[pos, 1], marker='o', c=cores[i], s=30)\n",
    "\n",
    "ax.set_xlabel('$x_1$', fontsize=20)\n",
    "ax.set_ylabel('$x_2$', fontsize=20)\n",
    "ax.set_xticks([])\n",
    "ax.set_yticks([])"
   ]
  },
  {
   "cell_type": "code",
   "execution_count": null,
   "metadata": {},
   "outputs": [],
   "source": []
  },
  {
   "cell_type": "code",
   "execution_count": null,
   "metadata": {},
   "outputs": [],
   "source": []
  },
  {
   "cell_type": "code",
   "execution_count": null,
   "metadata": {},
   "outputs": [],
   "source": [
    "\n",
    "\n",
    "\n",
    "\n",
    "\n",
    "\n",
    "FS = (5,5) #Tamanho da figura a ser gerada\n",
    "fig = plt.figure(constrained_layout=True,figsize=FS)\n",
    "spec = gridspec.GridSpec(ncols=1, nrows=1, figure=fig)\n",
    "\n",
    "cores = ['red','blue','green','orange']\n",
    "marcador = ['o','+','^','*']\n",
    "\n",
    "#Subgráfico...\n",
    "ax = fig.add_subplot(spec[0,0])\n",
    "for i in range( muInit.shape[1] ):\n",
    "    pos = (np.where( np.array(predI) == i))[0]\n",
    "    ax.scatter(xI[pos, 0], xI[pos, 1], marker='o', c=cores[i], s=30)\n",
    "    \n",
    "ax.set_xlabel('$x_1$', fontsize=20)\n",
    "ax.set_ylabel('$x_2$', fontsize=20)\n",
    "#ax.set(xlim=(-9, 5), ylim=(-13, 6))\n",
    "\n",
    "plt.savefig(path_out,dpi=300)\n",
    "plt.show()\n",
    "\n",
    "\n",
    "\n",
    "print(1)"
   ]
  },
  {
   "cell_type": "markdown",
   "metadata": {},
   "source": [
    "## Configuração do método"
   ]
  },
  {
   "cell_type": "code",
   "execution_count": null,
   "metadata": {},
   "outputs": [],
   "source": [
    "k = 3 #numero de componentes\n",
    "m = data.shape[1]   #número de observações\n",
    "dim = data.shape[0] #dimensão do espaço de atributos\n",
    "epsilon = 0.001"
   ]
  },
  {
   "cell_type": "code",
   "execution_count": null,
   "metadata": {},
   "outputs": [],
   "source": []
  },
  {
   "cell_type": "code",
   "execution_count": null,
   "metadata": {},
   "outputs": [],
   "source": []
  },
  {
   "cell_type": "code",
   "execution_count": null,
   "metadata": {},
   "outputs": [],
   "source": []
  },
  {
   "cell_type": "code",
   "execution_count": null,
   "metadata": {},
   "outputs": [],
   "source": [
    "gmix = mixture.GaussianMixture(n_components=2, covariance_type='full')\n",
    "gmix.fit(rand(10, 2))  # Now it thinks it is trained\n",
    "gmix.weights_ = weights   # mixture weights (n_components,) \n",
    "gmix.means_ = mu          # mixture means (n_components, 2) \n",
    "gmix.covariances_ = sigma  # mixture cov (n_components, 2, 2)\n",
    "x = gmix.sample(1000)  # Should work now"
   ]
  },
  {
   "cell_type": "markdown",
   "metadata": {},
   "source": [
    "## Execução do método (GMM+EM)"
   ]
  },
  {
   "cell_type": "code",
   "execution_count": null,
   "metadata": {},
   "outputs": [],
   "source": [
    "\n",
    "    \n",
    "\n",
    "\n",
    "\n",
    "\n",
    "\n",
    "\n",
    "lamb = np.zeros(k) + (1/k) #inicialização dos lambdas\n",
    "\n",
    "mu = np.ndarray((dim,k)) #inicializacao dos 'mus' [usando matriz]\n",
    "for j in range(0,k):\n",
    "    mu[:,j] = data[:,  np.random.randint(0,m, size=1)[0]]\n",
    "\n",
    "sigm = np.ndarray((dim,dim,k)) #inicializacao dos 'sigmas'\n",
    "for j in range(0,k):\n",
    "    for i in range(0,m):\n",
    "        sigm[:,:,j] += (1/m) * np.dot( np.array( [data[:,i] - mu[:,j]] ).T  , np.array( [data[:,i] - mu[:,j]] ) )\n",
    "\n",
    "W = np.ndarray((m,k)) #matriz de pertinencia...\n",
    "logVer = log_likelihood(data,lamb,mu,sigm)\n",
    "\n",
    "\n",
    "while True:  #inicio do processo iterativo (\"while True para simular um laço do-while\")\n",
    "\n",
    "    #armazenando para verificacao de convergencia\n",
    "    lamb_old = np.copy(lamb); mu_old = np.copy(mu)\n",
    "    sigm_old = np.copy(sigm); logVer_old = logVer\n",
    "\n",
    "    ##Passo E: -----------------------------------------\n",
    "\n",
    "    #calculo das pertinencias\n",
    "    for i in range(0,m):\n",
    "\n",
    "        denominador  = 0\n",
    "        for l in range(0,k):\n",
    "            denominador += lamb[l] * multivariate_gaussian(data[:,i],mu[:,l],sigm[:,:,l])\n",
    "    \n",
    "        for j in range(0,k):    \n",
    "            W[i,j] = (lamb[j] * multivariate_gaussian(data[:,i],mu[:,j],sigm[:,:,j]) ) / denominador\n",
    "\n",
    "\n",
    "\n",
    "    ##Passo M: -----------------------------------------\n",
    "\n",
    "    #atualizacao dos lambdas...\n",
    "    for j in range(0,k):\n",
    "        lamb[j] = np.sum(W[:,j]) / m\n",
    "\n",
    "    #atualizacao dos mus\n",
    "    for j in range(0,k):\n",
    "        for d in range(0,dim):\n",
    "            mu[d,j] = ( 1 / np.sum(W[:,j]) ) * np.dot( W[:,j] , data[d,:] )\n",
    "\n",
    "    #atualizacao dos sigmas\n",
    "    sigm = sigm[:,:,:] * 0\n",
    "    for j in range(0,k):\n",
    "        fator = ( 1 / np.sum(W[:,j]) )\n",
    "        for i in range(0,m):\n",
    "            sigm[:,:,j] +=  np.dot( np.array(  [W[i,j]*(data[:,i] - mu[:,j])] ).T  , np.array( [data[:,i] - mu[:,j]] ) )\n",
    "        sigm[:,:,j] *= fator\n",
    "\n",
    "\n",
    "    #verificacao de convergencia\n",
    "    logVer = log_likelihood(data,lamb,mu,sigm)\n",
    "\n",
    "    print( np.abs( logVer - logVer_old) )\n",
    "\n",
    "    if np.abs( logVer - logVer_old ) < epsilon:\n",
    "        break"
   ]
  },
  {
   "cell_type": "markdown",
   "metadata": {},
   "source": [
    "## Aplicação do modelo obtido"
   ]
  },
  {
   "cell_type": "code",
   "execution_count": null,
   "metadata": {},
   "outputs": [],
   "source": [
    "N = 100\n",
    "x1min = -6; x1max = 6\n",
    "x2min = -6; x2max = 6\n",
    "\n",
    "pxw1 = np.zeros((N,N)) #Função de verossimilhança da classe 1\n",
    "pxw2 = np.zeros((N,N)) #Iden para classe 2\n",
    "\n",
    "prod_pxw1 = np.zeros((N,N)) #Produto das funções de verossimilhança da classe 1\n",
    "prod_pxw2 = np.zeros((N,N)) #Iden para classe 2\n",
    "\n",
    "#Útil o experimento e para os gráficos a seguir\n",
    "X1, X2 = np.meshgrid(np.linspace(x1min, x1max, N), np.linspace(x2min, x2max, N))\n",
    "\n",
    "Z = np.ndarray((num,num))\n",
    "Z2 = np.ndarray((num,num))\n",
    "for i in range(0,num):\n",
    "    for j in range(0,num):\n",
    "        Z[i,j] = gmm_model( [X1[i,j], X2[i,j]] ,lamb,mu,sigm)"
   ]
  },
  {
   "cell_type": "markdown",
   "metadata": {},
   "source": [
    "## Resultados dos métodos MAP e NavieBayes"
   ]
  },
  {
   "cell_type": "code",
   "execution_count": null,
   "metadata": {},
   "outputs": [],
   "source": [
    "path_out = '/home/rogerio/GIT/rp/author/figs/Cap1/Exp_GMM-EM.png'\n",
    "\n",
    "FS = (15,10) #Tamanho da figura a ser gerada\n",
    "props = dict(boxstyle='round', facecolor='white', alpha=0.75)\n",
    "\n",
    "\n",
    "fig = plt.figure(constrained_layout=True,figsize=FS)\n",
    "spec = gridspec.GridSpec(ncols=1, nrows=3, figure=fig)\n",
    "\n",
    "\n",
    "# Subplot 1 ------------------------\n",
    "ax1 = fig.add_subplot(spec[0, 0])\n",
    "ax1.scatter(data[0,:],data[1,:], marker='o', color='green', s=40, alpha=0.5)\n",
    "ax1.set_xlabel('$x_1$', fontsize=18)\n",
    "ax1.set_ylabel('$x_2$', fontsize=18)\n",
    "ax1.set_xlim(-4.5, 4.5)\n",
    "ax1.set_ylim(-4.5, 4.5)\n",
    "\n",
    "\n",
    "# Subplot 2 ------------------------\n",
    "ax2 = fig.add_subplot(spec[1, 0],projection='3d')\n",
    "ax2.plot_surface(X, Y, Z, rstride=2, cstride=2, linewidth=0.25, antialiased=True,cmap=cm.coolwarm, edgecolors='k',alpha=0.5)\n",
    "ax2.w_xaxis.set_pane_color((0.75, 0.75, 0.75, 0.75))\n",
    "ax2.w_yaxis.set_pane_color((0.75, 0.75, 0.75, 0.75))\n",
    "ax2.w_zaxis.set_pane_color((0.95, 0.95, 0.95, 0.95))\n",
    "ax2.set_xlabel('$x_1$', fontsize=18)\n",
    "ax2.set_ylabel('$x_2$', fontsize=18)\n",
    "\n",
    "\n",
    "# Subplot 3 ------------------------\n",
    "ax3 = fig.add_subplot(spec[2, 0])\n",
    "g1 = ax3.contourf(vX, vY, Z, cmap=cm.RdBu)\n",
    "ax3.set_xlabel('$x_1$', fontsize=18)\n",
    "ax3.set_ylabel('$x_2$', fontsize=18)\n",
    "fig.colorbar(g1, orientation=\"vertical\", label= r'$\\widehat{p}(\\mathbf{x})$')\n",
    "ax3.text(-2.2, 3.5, r'$k=3$', fontsize=16, ha=\"right\", va=\"top\", bbox=props)\n",
    "\n",
    "\n",
    "plt.savefig(path_out, dpi=300)\n",
    "\n",
    "plt.show()\n",
    "\n",
    "print(1)"
   ]
  },
  {
   "cell_type": "code",
   "execution_count": null,
   "metadata": {},
   "outputs": [],
   "source": []
  },
  {
   "cell_type": "code",
   "execution_count": null,
   "metadata": {},
   "outputs": [],
   "source": []
  }
 ],
 "metadata": {
  "kernelspec": {
   "display_name": "Python 3",
   "language": "python",
   "name": "python3"
  },
  "language_info": {
   "codemirror_mode": {
    "name": "ipython",
    "version": 3
   },
   "file_extension": ".py",
   "mimetype": "text/x-python",
   "name": "python",
   "nbconvert_exporter": "python",
   "pygments_lexer": "ipython3",
   "version": "3.8.3"
  }
 },
 "nbformat": 4,
 "nbformat_minor": 4
}
