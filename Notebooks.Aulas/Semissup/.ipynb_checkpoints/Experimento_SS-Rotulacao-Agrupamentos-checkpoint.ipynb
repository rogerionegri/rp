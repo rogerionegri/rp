{
 "cells": [
  {
   "cell_type": "markdown",
   "metadata": {},
   "source": [
    "## Declaração de biblioteca e outras configurações"
   ]
  },
  {
   "cell_type": "code",
   "execution_count": 1,
   "metadata": {},
   "outputs": [],
   "source": [
    "import numpy as np\n",
    "import matplotlib.pyplot as plt\n",
    "from matplotlib import cm\n",
    "import matplotlib.gridspec as gridspec\n",
    "\n",
    "import csv\n",
    "\n",
    "from sklearn.cluster import KMeans\n",
    "\n",
    "#from matplotlib import rcParams\n",
    "#rcParams['text.usetex'] = True\n",
    "#rcParams['text.latex.preamble'] = r'\\usepackage{amsmath}'"
   ]
  },
  {
   "cell_type": "markdown",
   "metadata": {},
   "source": [
    "## Funções usadas no método"
   ]
  },
  {
   "cell_type": "code",
   "execution_count": 3,
   "metadata": {},
   "outputs": [],
   "source": [
    "#Função de leitura dos dados------------------------------------\n",
    "def read_class_data(path):\n",
    "    with open(path, newline='') as f:\n",
    "        reader = csv.reader(f,delimiter=',')\n",
    "        for row in reader:\n",
    "            try:\n",
    "                data = np.vstack( (data , np.asarray(row).astype(np.float) ) )\n",
    "            except:\n",
    "                data = np.asarray(row).astype(np.float)\n",
    "    f.close()\n",
    "    y = data[:,0]\n",
    "    x = data[:,1:]\n",
    "    return y,x"
   ]
  },
  {
   "cell_type": "markdown",
   "metadata": {},
   "source": [
    "## Leitura dos dados (início do experimento)"
   ]
  },
  {
   "cell_type": "code",
   "execution_count": 4,
   "metadata": {},
   "outputs": [],
   "source": [
    "#Arquivos com informações de treinamento e avaliação\n",
    "path_data_Rotulado = 'simTreino.txt'\n",
    "path_data_naoRotulado = 'simNaoRotulado.txt'\n",
    "\n",
    "yD,xD = read_class_data(path_data_Rotulado)    #Dados de treinamento\n",
    "yI,xI = read_class_data(path_data_naoRotulado) #Dados não rotulados (avaliação)"
   ]
  },
  {
   "cell_type": "markdown",
   "metadata": {},
   "source": [
    "## Execução do método"
   ]
  },
  {
   "cell_type": "code",
   "execution_count": null,
   "metadata": {},
   "outputs": [],
   "source": [
    "#Número de agrupamentos a ser identificado \n",
    "#(não precisa coincidir com a quantidade de classes)\n",
    "n_clusters = 4\n",
    "\n",
    "#Junção dos dados em um único conjunto\n",
    "data = np.append(xD,xI, axis=0)\n",
    "\n",
    "#Vetor que conta o índice da classe, quando o padrão é rotulado, ou -1 quando não rotulado\n",
    "labels = np.append(yD, np.zeros(yI.shape[0])-1, axis=0)\n",
    "\n",
    "t = data.shape[0]        #quantidade de padrões envolvidos no problema\n",
    "c = len( np.unique(yD) ) #quantidade de classes...\n",
    "\n",
    "#Instanciação e agrupamento dos dados\n",
    "g = KMeans(n_clusters=n_clusters)\n",
    "agrup = g.fit_predict(data)\n",
    "\n",
    "#Observação e rotulação dos agrupamentos detectados\n",
    "pred = np.zeros(t)-1 #Elementos identificados por -1 não possui rótulo associado\n",
    "for i in range(0,n_clusters):\n",
    "    posAgrup = np.where(agrup == i)[0]\n",
    "    \n",
    "    #contagem da ocorrência de exemplos rotualados no interior do agrupamento\n",
    "    countClass = np.zeros(c)\n",
    "    for item in posAgrup:\n",
    "        if labels[item] != -1:\n",
    "            countClass[int(labels[item])] += 1\n",
    "\n",
    "    if np.sum(countClass) != 0:\n",
    "        win = np.argmax(countClass)\n",
    "        pred[posAgrup] = win"
   ]
  },
  {
   "cell_type": "markdown",
   "metadata": {},
   "source": [
    "## Avaliação \n",
    "* O processo de avalação é um pouco diferente..."
   ]
  },
  {
   "cell_type": "code",
   "execution_count": null,
   "metadata": {},
   "outputs": [],
   "source": [
    "posAvalia = np.where(labels == -1)\n",
    "accuracia = np.count_nonzero( pred[posAvalia] == yI )/yI.shape[0]\n",
    "print('Acurácia: ',accuracia)"
   ]
  },
  {
   "cell_type": "markdown",
   "metadata": {},
   "source": [
    "## Visualização dos resultados"
   ]
  },
  {
   "cell_type": "code",
   "execution_count": null,
   "metadata": {},
   "outputs": [],
   "source": [
    "cores = ['red','blue','green','orange'] #Deve ser compatível com o número de classes\n",
    "\n",
    "FS = (5,5) #Tamanho da figura a ser gerada\n",
    "fig = plt.figure(constrained_layout=True,figsize=FS)\n",
    "spec = gridspec.GridSpec(ncols=1, nrows=1, figure=fig)\n",
    "\n",
    "#Subgráfico...\n",
    "ax = fig.add_subplot(spec[0,0])\n",
    "for i in range(0,c):\n",
    "    pos = np.where( np.array(pred) == i)\n",
    "    ax.scatter(data[pos, 0], data[pos, 1], marker='o', c=cores[i], s=30)\n",
    "    \n",
    "#Inclusão de agrupamentos não rotulados\n",
    "pos = np.where( np.array(pred) == -1)\n",
    "if len(pos) > 0: ax.scatter(data[pos, 0], data[pos, 1], marker='o', c='black', s=30)\n",
    "\n",
    "ax.set_xlabel('$x_1$', fontsize=20)\n",
    "ax.set_ylabel('$x_2$', fontsize=20)\n",
    "\n",
    "plt.show()"
   ]
  }
 ],
 "metadata": {
  "kernelspec": {
   "display_name": "Python 3",
   "language": "python",
   "name": "python3"
  },
  "language_info": {
   "codemirror_mode": {
    "name": "ipython",
    "version": 3
   },
   "file_extension": ".py",
   "mimetype": "text/x-python",
   "name": "python",
   "nbconvert_exporter": "python",
   "pygments_lexer": "ipython3",
   "version": "3.8.3"
  }
 },
 "nbformat": 4,
 "nbformat_minor": 4
}
