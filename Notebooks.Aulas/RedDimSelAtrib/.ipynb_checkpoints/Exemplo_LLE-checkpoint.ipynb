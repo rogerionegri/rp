{
 "cells": [
  {
   "cell_type": "markdown",
   "metadata": {},
   "source": [
    "## Bibliotecas"
   ]
  },
  {
   "cell_type": "code",
   "execution_count": null,
   "metadata": {},
   "outputs": [],
   "source": [
    "import matplotlib.gridspec as gridspec\n",
    "\n",
    "import matplotlib.pyplot as plt\n",
    "from mpl_toolkits.mplot3d import Axes3D\n",
    "\n",
    "from sklearn import manifold, datasets\n",
    "\n",
    "#from matplotlib import rcParams\n",
    "#rcParams['text.usetex'] = True\n",
    "#rcParams['text.latex.preamble'] = r'\\usepackage{amsmath}'"
   ]
  },
  {
   "cell_type": "markdown",
   "metadata": {},
   "source": [
    "## Exemplo de transformação via LLE"
   ]
  },
  {
   "cell_type": "code",
   "execution_count": null,
   "metadata": {},
   "outputs": [],
   "source": [
    "n_points = 1000\n",
    "x, color = datasets.make_s_curve(n_points, random_state=0)\n",
    "n_neighbors = 20\n",
    "n_components = 2\n",
    "\n",
    "#lle = manifold.LocallyLinearEmbedding(n_neighbors, n_components,method='modified')#, eigen_solver='auto')\n",
    "lle = manifold.LocallyLinearEmbedding(n_neighbors, n_components, method='standard')#,eigen_solver='auto')\n",
    "transX = lle.fit_transform(x)\n",
    "\n",
    "\n",
    "#Geração das figuras\n",
    "FS = (10,5) #Tamanho da figura a ser gerada\n",
    "fig = plt.figure(constrained_layout=True,figsize=FS)\n",
    "spec = gridspec.GridSpec(ncols=2, nrows=1, figure=fig)\n",
    "\n",
    "#Subgráfico 1\n",
    "ax = fig.add_subplot(spec[0,0], projection='3d')\n",
    "ax.scatter(x[:, 0], x[:, 1], x[:, 2], c=color, cmap=plt.cm.RdBu)#Spectral)\n",
    "ax.view_init(4, -72)\n",
    "ax.set_xlabel(r'$x_1$',fontsize=20)\n",
    "ax.set_ylabel(r'$x_2$',fontsize=20)\n",
    "ax.set_zlabel(r'$x_3$',fontsize=20)\n",
    "ax.set_xticks([-1,1])\n",
    "ax.set_yticks([-1,1])\n",
    "\n",
    "#Subgráfico 2\n",
    "ax = fig.add_subplot(spec[0,1])\n",
    "ax.scatter(transX[:, 0], transX[:, 1], c=color, cmap=plt.cm.RdBu)\n",
    "ax.set_xlabel(r'$x_1^\\prime$',fontsize=20)\n",
    "ax.set_ylabel(r'$x_2^\\prime$',fontsize=20)\n",
    "\n",
    "plt.savefig('exemploLLE.png',dpi=300)\n",
    "plt.show()"
   ]
  },
  {
   "cell_type": "code",
   "execution_count": null,
   "metadata": {},
   "outputs": [],
   "source": []
  }
 ],
 "metadata": {
  "kernelspec": {
   "display_name": "Python 3",
   "language": "python",
   "name": "python3"
  },
  "language_info": {
   "codemirror_mode": {
    "name": "ipython",
    "version": 3
   },
   "file_extension": ".py",
   "mimetype": "text/x-python",
   "name": "python",
   "nbconvert_exporter": "python",
   "pygments_lexer": "ipython3",
   "version": "3.8.3"
  }
 },
 "nbformat": 4,
 "nbformat_minor": 4
}
