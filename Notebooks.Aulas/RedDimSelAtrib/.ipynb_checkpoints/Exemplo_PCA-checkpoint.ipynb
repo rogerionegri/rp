{
 "cells": [
  {
   "cell_type": "markdown",
   "metadata": {},
   "source": [
    "## Bibliotecas"
   ]
  },
  {
   "cell_type": "code",
   "execution_count": 1,
   "metadata": {},
   "outputs": [],
   "source": [
    "import matplotlib.pyplot as plt\n",
    "import matplotlib.gridspec as gridspec\n",
    "\n",
    "import numpy as np\n",
    "import pandas as pd\n",
    "\n",
    "from sklearn.datasets import make_blobs\n",
    "from sklearn.datasets import make_classification\n",
    "#from sklearn.cluster import KMeans\n",
    "\n",
    "from mpl_toolkits.mplot3d import Axes3D\n",
    "\n",
    "from sklearn.decomposition import PCA\n",
    "\n",
    "#from matplotlib import rcParams\n",
    "#rcParams['text.usetex'] = True\n",
    "#rcParams['text.latex.preamble'] = r'\\usepackage{amsmath}'"
   ]
  },
  {
   "cell_type": "markdown",
   "metadata": {},
   "source": [
    "## Projeção e reprojeção"
   ]
  },
  {
   "cell_type": "code",
   "execution_count": 2,
   "metadata": {},
   "outputs": [],
   "source": [
    "np.random.seed(2)\n",
    "x,y = make_classification(n_features=3, n_redundant=0, n_informative=3,n_clusters_per_class=1, n_classes=1, n_samples=200)\n",
    "\n",
    "#Transformação PCA\n",
    "pca = PCA(n_components=2)\n",
    "pca.fit(x)\n",
    "proj_x = pca.transform(x)\n",
    "reproj_x = pca.inverse_transform(proj_x)"
   ]
  },
  {
   "cell_type": "markdown",
   "metadata": {},
   "source": [
    "## Visualização do processo"
   ]
  },
  {
   "cell_type": "code",
   "execution_count": null,
   "metadata": {},
   "outputs": [],
   "source": [
    "FS = (12,5) #Tamanho da figura a ser gerada\n",
    "fig = plt.figure(constrained_layout=True,figsize=FS)\n",
    "spec = gridspec.GridSpec(ncols=3, nrows=1, figure=fig)\n",
    "\n",
    "\n",
    "#Subgráfico: dado original\n",
    "ax = fig.add_subplot(spec[0, 0] , projection='3d')\n",
    "ax.scatter(x[:, 0], x[:, 1], x[:, 2], marker='o', c='blue', s=20)\n",
    "ax.set_xlabel('$x_1$', fontsize=20)\n",
    "ax.set_ylabel('$x_2$', fontsize=20)\n",
    "ax.set_zlabel('$x_3$', fontsize=20)\n",
    "ax.set_title('Original',fontsize=20)\n",
    "\n",
    "#Subgráfico: dados projetados (eixos ortogonais)\n",
    "ax = fig.add_subplot(spec[0, 1] )\n",
    "ax.scatter(proj_x[:, 0], proj_x[:, 1], marker='o', c='blue', s=20)\n",
    "ax.set_xlabel('$x_1^\\prime$', fontsize=20)\n",
    "ax.set_ylabel('$x_2^\\prime$', fontsize=20)\n",
    "ax.set_title('Projeção',fontsize=20)\n",
    "\n",
    "#Subgráfico: dados reprojetados (espaço original)\n",
    "ax = fig.add_subplot(spec[0, 2] )\n",
    "ax.scatter(reproj_x[:, 0], reproj_x[:, 1], marker='o', c='blue', s=20)\n",
    "ax.set_xlabel('$x_1$', fontsize=20)\n",
    "ax.set_ylabel('$x_2$', fontsize=20)\n",
    "ax.set_title('Reprojeção',fontsize=20)\n",
    "\n",
    "#plt.savefig('projPCA.png',dpi=300)\n",
    "plt.show()"
   ]
  },
  {
   "cell_type": "code",
   "execution_count": null,
   "metadata": {},
   "outputs": [],
   "source": [
    "print('Vetor médio: ', pca.mean_)\n",
    "print('Eixos/componentes: ',pca.components_)\n",
    "print('Autovalores: ',pca.explained_variance_)"
   ]
  },
  {
   "cell_type": "markdown",
   "metadata": {},
   "source": [
    "### Análise sobre a redução do número de atributos"
   ]
  },
  {
   "cell_type": "code",
   "execution_count": null,
   "metadata": {},
   "outputs": [],
   "source": [
    "#Transformação PCA\n",
    "pca3 = PCA(n_components=3)\n",
    "pca3.fit(x)\n",
    "proj_x3 = pca3.transform(x)\n",
    "invProj3 = pca3.inverse_transform(proj_x3)\n",
    "\n",
    "\n",
    "#Transformação PCA\n",
    "pca2 = PCA(n_components=2)\n",
    "pca2.fit(x)\n",
    "proj_x2 = pca2.transform(x)\n",
    "invProj2 = pca2.inverse_transform(proj_x2)"
   ]
  },
  {
   "cell_type": "code",
   "execution_count": null,
   "metadata": {},
   "outputs": [],
   "source": [
    "print(\"Apenas uma comparação sobre a dimensão dos dados antes/após reprojeção\")\n",
    "print(\"pca3\",proj_x3.shape)\n",
    "print(\"pca2\",proj_x2.shape)\n",
    "print(\"pca3\",invProj3.shape)\n",
    "print(\"pca2\",invProj2.shape)\n",
    "\n",
    "print(\"\\n\")\n",
    "print(\"Variância explicada: \",pca3.explained_variance_)\n",
    "print(\"Variância explicada do 1o atributo: \",pca3.explained_variance_[0]/np.sum(pca3.explained_variance_))\n",
    "print(\"Razão da variância explicada: \",pca3.explained_variance_ratio_)\n",
    "print(\"Soma acumulada das variâncias explicadas: \",np.cumsum(pca3.explained_variance_ratio_))"
   ]
  },
  {
   "cell_type": "code",
   "execution_count": null,
   "metadata": {},
   "outputs": [],
   "source": []
  }
 ],
 "metadata": {
  "kernelspec": {
   "display_name": "Python 3",
   "language": "python",
   "name": "python3"
  },
  "language_info": {
   "codemirror_mode": {
    "name": "ipython",
    "version": 3
   },
   "file_extension": ".py",
   "mimetype": "text/x-python",
   "name": "python",
   "nbconvert_exporter": "python",
   "pygments_lexer": "ipython3",
   "version": "3.8.3"
  }
 },
 "nbformat": 4,
 "nbformat_minor": 4
}
