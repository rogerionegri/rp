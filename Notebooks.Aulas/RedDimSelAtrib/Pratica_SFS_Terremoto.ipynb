{
 "cells": [
  {
   "cell_type": "markdown",
   "metadata": {},
   "source": [
    "## Bibliotecas e módulos"
   ]
  },
  {
   "cell_type": "code",
   "execution_count": 6,
   "metadata": {},
   "outputs": [],
   "source": [
    "import matplotlib.pyplot as plt\n",
    "import matplotlib.gridspec as gridspec\n",
    "\n",
    "import numpy as np\n",
    "import pandas as pd\n",
    "import csv\n",
    "\n",
    "from sklearn import preprocessing\n",
    "from sklearn.model_selection import train_test_split\n",
    "from sklearn.metrics import cohen_kappa_score\n",
    "\n",
    "from sklearn.datasets import make_blobs\n",
    "from sklearn.cluster import KMeans\n",
    "from sklearn import svm\n",
    "\n",
    "#from matplotlib import rcParams\n",
    "#rcParams['text.usetex'] = True\n",
    "#rcParams['text.latex.preamble'] = r'\\usepackage{amsmath}'"
   ]
  },
  {
   "cell_type": "markdown",
   "metadata": {},
   "source": [
    "## Funções utilizadas"
   ]
  },
  {
   "cell_type": "code",
   "execution_count": 7,
   "metadata": {},
   "outputs": [],
   "source": [
    "#Função de leitura dos dados------------------------------------\n",
    "def read_class_data(path):\n",
    "    with open(path, newline='') as f:\n",
    "        reader = csv.reader(f,delimiter=',')\n",
    "        count = 0\n",
    "        for row in reader:\n",
    "            if count != 0:\n",
    "                try:\n",
    "                    data = np.vstack( (data , np.asarray(row).astype(np.float) ) )\n",
    "                except:\n",
    "                    data = np.asarray(row).astype(np.float)\n",
    "            count += 1\n",
    "    f.close()\n",
    "    y = data[:,0]\n",
    "    x = data[:,1:]\n",
    "    return y,x"
   ]
  },
  {
   "cell_type": "code",
   "execution_count": 8,
   "metadata": {},
   "outputs": [],
   "source": [
    "def compute_info(Z,x,posY):\n",
    "    m,_ = x.shape\n",
    "    \n",
    "    mu = np.mean(x[:,Z],axis=0).reshape((1,len(Z))) #Média geral\n",
    "    Sb = np.zeros((len(Z),len(Z)))\n",
    "    Sw = np.zeros((len(Z),len(Z)))\n",
    "       \n",
    "    for j in range(0,len(labY)):\n",
    "        _x = x[posY[j],:]; _x = _x[:,Z]\n",
    "        mu_j = np.mean(_x,axis=0).reshape((1,len(Z)))\n",
    "        sig_j = np.cov(_x.T).reshape((len(Z),len(Z)))\n",
    "        Sb += (len(posY[j])/m) * np.dot( (mu - mu_j).T,(mu - mu_j) )\n",
    "        Sw += (len(posY[j])/m) * sig_j\n",
    "\n",
    "    #return np.trace(Sb)/np.trace(Sw)\n",
    "    return np.linalg.det(Sb+Sw)/np.linalg.det(Sw)"
   ]
  },
  {
   "cell_type": "code",
   "execution_count": 9,
   "metadata": {},
   "outputs": [],
   "source": [
    "def compute_info_gain_add(Z,W,x,posY):\n",
    "    \n",
    "    m,_ = x.shape\n",
    "\n",
    "    vecJ = np.zeros(len(W))\n",
    "    for at in range(len(W)):\n",
    "        S = np.union1d(Z,W[at])\n",
    "        S = np.int64(S).tolist()\n",
    "\n",
    "        mu = np.mean(x[:,S],axis=0).reshape((1,len(S))) #Média geral\n",
    "        Sb = np.zeros((len(S),len(S)))\n",
    "        Sw = np.zeros((len(S),len(S)))\n",
    "\n",
    "        for j in range(0,len(posY)):\n",
    "            _x = x[posY[j],:]; _x = _x[:,S]\n",
    "            mu_j = np.mean(_x,axis=0).reshape((1,len(S)))\n",
    "            sig_j = np.cov(_x.T).reshape((len(S),len(S)))\n",
    "\n",
    "            Sb += (len(posY[j])/m) * np.dot( (mu - mu_j).T,(mu - mu_j) )\n",
    "            Sw += (len(posY[j])/m) * sig_j\n",
    "\n",
    "        #vecJ[at] = np.trace(Sb)/np.trace(Sw)\n",
    "        vecJ[at] = np.linalg.det(Sb+Sw)/np.linalg.det(Sw)\n",
    "        \n",
    "    return vecJ"
   ]
  },
  {
   "cell_type": "markdown",
   "metadata": {},
   "source": [
    "## Leitura dos dados - \"Terremoto\"\n",
    "* Atributos são:\n",
    "    * latitude\n",
    "    * longitude\n",
    "    * depth\n",
    "    * mag\n",
    "    * gap\n",
    "    * dmin\n",
    "    * rms\n",
    "    * horizontalError\n",
    "    * depthError\n",
    "* Classes:\n",
    "    * 1 - MB; (azul escuro)\n",
    "    * 2 - MD; (ciano)\n",
    "    * 3 - ML; (verde)\n",
    "    * 4 - MW; (laranja)"
   ]
  },
  {
   "cell_type": "code",
   "execution_count": 10,
   "metadata": {},
   "outputs": [],
   "source": [
    "#Dados\n",
    "path = 'EartQuakes_USGS_mar-abr2020.csv'\n",
    "\n",
    "#Leitura dos dados\n",
    "y,x = read_class_data(path)\n",
    "y -= 1 #ajustar a classe para iniciar em 0\n",
    "\n",
    "xOrig = np.copy(x)\n",
    "x = preprocessing.normalize(xOrig, axis=0, norm='max')"
   ]
  },
  {
   "cell_type": "markdown",
   "metadata": {},
   "source": [
    "## Processo de seleção de atributos"
   ]
  },
  {
   "cell_type": "code",
   "execution_count": 11,
   "metadata": {},
   "outputs": [
    {
     "name": "stdout",
     "output_type": "stream",
     "text": [
      "Atributos selecionados:  [3. 4. 6. 7.]\n"
     ]
    }
   ],
   "source": [
    "#Numero de atributos a ser selecionado\n",
    "atributos = [2,3,4,5,6,7,8]\n",
    "n_sel = 4\n",
    "\n",
    "#Conjuntos de atributos: a ideia é passar de W para Z\n",
    "W = [i for i in atributos]\n",
    "Z = []\n",
    "\n",
    "#determina a posição de cada exemplo rotulado em x\n",
    "labY = {}\n",
    "for i in np.unique(y):\n",
    "    pos = np.where(y == i)\n",
    "    labY[i] = (pos[0]).tolist()\n",
    "\n",
    "while len(Z) < n_sel:\n",
    "    ind = np.argmax( compute_info_gain_add(Z,W,x,labY) )\n",
    "    Z = np.union1d( Z,W[ind] )\n",
    "    W.remove(W[ind])\n",
    "\n",
    "print('Atributos selecionados: ',Z)\n",
    "\n",
    "selAtributos = np.int64(Z)"
   ]
  },
  {
   "cell_type": "markdown",
   "metadata": {},
   "source": [
    "## Divisão treino/teste"
   ]
  },
  {
   "cell_type": "code",
   "execution_count": 12,
   "metadata": {},
   "outputs": [],
   "source": [
    "percentAvalia = 0.33\n",
    "xD, xI, yD, yI = train_test_split(x,y,test_size=percentAvalia,random_state=1)"
   ]
  },
  {
   "cell_type": "markdown",
   "metadata": {},
   "source": [
    "## Classificação com/sem seleção de atributos"
   ]
  },
  {
   "cell_type": "code",
   "execution_count": 13,
   "metadata": {},
   "outputs": [
    {
     "name": "stdout",
     "output_type": "stream",
     "text": [
      "Kappa sem seleção de atributos:  0.6691578814702948\n",
      "Kappa com seleção de atributos:  0.6763145368915843\n"
     ]
    }
   ],
   "source": [
    "xD_sub = xD[:,selAtributos]\n",
    "xI_sub = xI[:,selAtributos]\n",
    "\n",
    "#Instanciação dos classificadores\n",
    "svmLin = svm.SVC(C=100, kernel='linear',decision_function_shape='ovr')\n",
    "\n",
    "#Treinamento e avaliação SEM atributos selecionados\n",
    "svmLin.fit(xD[:,atributos],yD)\n",
    "yEst = svmLin.predict(xI[:,atributos])\n",
    "kappa_sem = cohen_kappa_score(yI, yEst)\n",
    "\n",
    "#Treinamento e avaliação COM atributos selecionados\n",
    "svmLin.fit(xD_sub,yD)\n",
    "yEst = svmLin.predict(xI_sub)\n",
    "kappa_com = cohen_kappa_score(yI, yEst)\n",
    "\n",
    "print('Kappa sem seleção de atributos: ',kappa_sem)\n",
    "print('Kappa com seleção de atributos: ',kappa_com)"
   ]
  },
  {
   "cell_type": "code",
   "execution_count": null,
   "metadata": {},
   "outputs": [],
   "source": []
  }
 ],
 "metadata": {
  "kernelspec": {
   "display_name": "Python 3",
   "language": "python",
   "name": "python3"
  },
  "language_info": {
   "codemirror_mode": {
    "name": "ipython",
    "version": 3
   },
   "file_extension": ".py",
   "mimetype": "text/x-python",
   "name": "python",
   "nbconvert_exporter": "python",
   "pygments_lexer": "ipython3",
   "version": "3.8.3"
  }
 },
 "nbformat": 4,
 "nbformat_minor": 4
}
