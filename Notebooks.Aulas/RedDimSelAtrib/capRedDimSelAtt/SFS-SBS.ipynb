{
 "cells": [
  {
   "cell_type": "code",
   "execution_count": null,
   "metadata": {},
   "outputs": [],
   "source": [
    "import matplotlib.pyplot as plt\n",
    "import matplotlib.gridspec as gridspec\n",
    "\n",
    "import csv\n",
    "import numpy as np\n",
    "import pandas as pd\n",
    "\n",
    "from sklearn.datasets import make_blobs\n",
    "from sklearn.datasets import make_classification\n",
    "\n",
    "from sklearn.cluster import KMeans\n",
    "\n",
    "from matplotlib import rcParams\n",
    "rcParams['text.usetex'] = True\n",
    "rcParams['text.latex.preamble'] = r'\\usepackage{amsmath}'"
   ]
  },
  {
   "cell_type": "code",
   "execution_count": null,
   "metadata": {},
   "outputs": [],
   "source": [
    "#Função de leitura dos dados------------------------------------\n",
    "def read_class_data_2(path):\n",
    "    with open(path, newline='') as f:\n",
    "        reader = csv.reader(f,delimiter=',')\n",
    "        for row in reader:\n",
    "            try:\n",
    "                data = np.vstack( (data , np.asarray(row).astype(np.float) ) )\n",
    "            except:\n",
    "                data = np.asarray(row).astype(np.float)\n",
    "    f.close()\n",
    "    y = data[:,-1]\n",
    "    x = data[:,0:-1]\n",
    "    return y,x"
   ]
  },
  {
   "cell_type": "code",
   "execution_count": null,
   "metadata": {},
   "outputs": [],
   "source": [
    "def compute_info(Z,x,posY):\n",
    "    m,_ = x.shape\n",
    "    \n",
    "    mu = np.mean(x[:,Z],axis=0).reshape((1,len(Z))) #Média geral\n",
    "    Sb = np.zeros((len(Z),len(Z)))\n",
    "    Sw = np.zeros((len(Z),len(Z)))\n",
    "       \n",
    "    for j in range(0,len(labY)):\n",
    "        _x = x[posY[j],:]; _x = _x[:,Z]\n",
    "        mu_j = np.mean(_x,axis=0).reshape((1,len(Z)))\n",
    "        sig_j = np.cov(_x.T).reshape((len(Z),len(Z)))\n",
    "        Sb += (len(posY[j])/m) * np.dot( (mu - mu_j).T,(mu - mu_j) )\n",
    "        Sw += (len(posY[j])/m) * sig_j\n",
    "\n",
    "    #return np.trace(Sb)/np.trace(Sw)\n",
    "    return np.linalg.det(Sb+Sw)/np.linalg.det(Sw)"
   ]
  },
  {
   "cell_type": "code",
   "execution_count": null,
   "metadata": {},
   "outputs": [],
   "source": [
    "def compute_info_gain_add(Z,W,x,posY):\n",
    "    \n",
    "    m,_ = x.shape\n",
    "\n",
    "    vecJ = np.zeros(len(W))\n",
    "    for at in range(len(W)):\n",
    "        S = np.union1d(Z,W[at])\n",
    "        S = np.int64(S).tolist()\n",
    "\n",
    "        mu = np.mean(x[:,S],axis=0).reshape((1,len(S))) #Média geral\n",
    "        Sb = np.zeros((len(S),len(S)))\n",
    "        Sw = np.zeros((len(S),len(S)))\n",
    "\n",
    "        for j in range(0,len(posY)):\n",
    "            _x = x[posY[j],:]; _x = _x[:,S]\n",
    "            mu_j = np.mean(_x,axis=0).reshape((1,len(S)))\n",
    "            sig_j = np.cov(_x.T).reshape((len(S),len(S)))\n",
    "\n",
    "            Sb += (len(posY[j])/m) * np.dot( (mu - mu_j).T,(mu - mu_j) )\n",
    "            Sw += (len(posY[j])/m) * sig_j\n",
    "\n",
    "        #vecJ[at] = np.trace(Sb)/np.trace(Sw)\n",
    "        vecJ[at] = np.linalg.det(Sb+Sw)/np.linalg.det(Sw)\n",
    "        \n",
    "    return vecJ"
   ]
  },
  {
   "cell_type": "code",
   "execution_count": null,
   "metadata": {},
   "outputs": [],
   "source": [
    "def compute_info_gain_remove(Z,x,posY):\n",
    "    \n",
    "    m,_ = x.shape\n",
    "\n",
    "    vecJ = np.zeros(len(Z))\n",
    "    for item in range(len(Z)):\n",
    "        at = Z[item]\n",
    "\n",
    "        S = Z.copy(); S.remove(at)\n",
    "\n",
    "        mu = np.mean(x[:,S],axis=0).reshape((1,len(S))) #Média geral\n",
    "        Sb = np.zeros((len(S),len(S)))\n",
    "        Sw = np.zeros((len(S),len(S)))\n",
    "\n",
    "        for j in range(0,len(posY)):\n",
    "            _x = x[posY[j],:]; _x = _x[:,S]\n",
    "            mu_j = np.mean(_x,axis=0).reshape((1,len(S)))\n",
    "            sig_j = np.cov(_x.T).reshape((len(S),len(S)))\n",
    "\n",
    "            Sb += (len(posY[j])/m) * np.dot( (mu - mu_j).T,(mu - mu_j) )\n",
    "            Sw += (len(posY[j])/m) * sig_j\n",
    "\n",
    "        #vecJ[item] = np.trace(Sb)/np.trace(Sw)\n",
    "        vecJ[item] = np.linalg.det(Sb+Sw)/np.linalg.det(Sw)\n",
    "   \n",
    "    return vecJ"
   ]
  },
  {
   "cell_type": "code",
   "execution_count": 9,
   "metadata": {},
   "outputs": [],
   "source": [
    "#-------------------------\n",
    "np.random.seed(12346)\n",
    "atributos = 60; agrupamentos = 10\n",
    "x, y = make_blobs(n_features=atributos, centers=agrupamentos, n_samples=200)\n",
    "x, y = make_classification(n_features=atributos, n_redundant=atributos-agrupamentos, n_informative=agrupamentos, n_clusters_per_class=2, n_classes=10, n_samples=200)\n",
    "\n",
    "#Numero de atributos a ser selecionado\n",
    "n_sel = 20"
   ]
  },
  {
   "cell_type": "code",
   "execution_count": 6,
   "metadata": {},
   "outputs": [],
   "source": [
    "np.random.seed(0)\n",
    "atributos = 40; agrupamentos = 15; redundante = 25\n",
    "#x, y = make_blobs(n_features=atributos, centers=agrupamentos, n_samples=200)\n",
    "x, y = make_classification(n_features=atributos, n_redundant=redundante, n_informative=atributos-redundante, n_clusters_per_class=np.int32((atributos-redundante)/agrupamentos), n_classes=agrupamentos, n_samples=1000)\n",
    "\n",
    "#Numero de atributos a ser selecionado\n",
    "n_sel = 19\n",
    "\n",
    "#plt.plot(x[:,0],x[:,2],'ro')\n",
    "#plt.show()\n",
    "\n",
    "\n",
    "x, y = make_classification(n_features=40,n_redundant=25,n_informative=15,n_clusters_per_class=1,n_classes=15,n_samples=1000)\n"
   ]
  },
  {
   "cell_type": "code",
   "execution_count": 7,
   "metadata": {},
   "outputs": [],
   "source": [
    "#path = '/home/rogerio/Desktop/Dados.RP/featureSelection/optdigits/optdigits.tra'\n",
    "#y,x = read_class_data_2(path)\n",
    "#n_sel = 10\n",
    "#atributos = np.shape(x)[1]\n",
    "#print(atributos)"
   ]
  },
  {
   "cell_type": "markdown",
   "metadata": {},
   "source": [
    "## SFS"
   ]
  },
  {
   "cell_type": "code",
   "execution_count": 12,
   "metadata": {},
   "outputs": [
    {
     "name": "stdout",
     "output_type": "stream",
     "text": [
      "conf Z:  [34, 25, 38, 18, 31, 0, 10, 6, 5, 39, 32, 20, 27, 21, 36, 3, 4, 9, 30]\n",
      "conf W:  [1, 2, 7, 8, 11, 12, 13, 14, 15, 16, 17, 19, 22, 23, 24, 26, 28, 29, 33, 35, 37]\n"
     ]
    },
    {
     "data": {
      "image/png": "[encoded data removed]",
      "text/plain": [
       "<Figure size 360x360 with 1 Axes>"
      ]
     },
     "metadata": {
      "needs_background": "light"
     },
     "output_type": "display_data"
    }
   ],
   "source": [
    "path_out = '/home/rogerio/GIT/rp/blucher/figs/CapRDSA/exemploSFS.pdf'\n",
    "\n",
    "#Geração das figuras\n",
    "FS = (5,5) #Tamanho da figura a ser gerada\n",
    "fig = plt.figure(constrained_layout=True,figsize=FS)\n",
    "spec = gridspec.GridSpec(ncols=1, nrows=1, figure=fig)\n",
    "\n",
    "#Subgráfico 1\n",
    "ax = fig.add_subplot(spec[0,0])\n",
    "ax.set_xlabel('Iterações',fontsize=20)\n",
    "ax.set_ylabel('Atributos',fontsize=20)\n",
    "#ax.set_xticks([-1,1])\n",
    "#ax.set_yticks([-1,1])\n",
    "\n",
    "#Conjuntos de atributos: a ideia é passar de W para Z\n",
    "W = [i for i in range(atributos)]\n",
    "Z = []\n",
    "\n",
    "#determina a posição de cada exemplo rotulado em x\n",
    "labY ={}\n",
    "for i in np.unique(y):\n",
    "    pos = np.where(y == i)\n",
    "    labY[i] = (pos[0]).tolist()\n",
    "\n",
    "posIter = 1\n",
    "\n",
    "while len(Z) < n_sel:\n",
    "    ind = np.argmax( compute_info_gain_add(Z,W,x,labY) )\n",
    "    #Z = np.union1d( Z,W[ind] )\n",
    "    Z.append(W[ind])\n",
    "    W.remove(W[ind]) \n",
    "    \n",
    "    for el in W: ax.scatter(posIter,el,marker='o',c='green', s=10, alpha=0.3)\n",
    "    for el in Z: ax.scatter(posIter,el,marker='s',c='red', s=25, alpha=1.0)\n",
    "\n",
    "    posIter += 1\n",
    "\n",
    "print('conf Z: ',Z)\n",
    "print('conf W: ',W)\n",
    "\n",
    "from matplotlib.ticker import MaxNLocator\n",
    "ax.xaxis.set_major_locator(MaxNLocator(integer=True))\n",
    "\n",
    "#plt.xlabel('Iteração',fontsize=15)\n",
    "#plt.ylabel('Atributos',fontsize=15)\n",
    "\n",
    "z1 = Z\n",
    "\n",
    "plt.savefig(path_out, dpi=300, bbox_inches='tight', format='pdf')\n",
    "plt.show()"
   ]
  },
  {
   "cell_type": "markdown",
   "metadata": {},
   "source": [
    "## SBS"
   ]
  },
  {
   "cell_type": "code",
   "execution_count": 13,
   "metadata": {},
   "outputs": [
    {
     "name": "stderr",
     "output_type": "stream",
     "text": [
      "<ipython-input-5-fce74067f183>:24: RuntimeWarning: invalid value encountered in double_scalars\n",
      "  vecJ[item] = np.linalg.det(Sb+Sw)/np.linalg.det(Sw)\n",
      "<ipython-input-5-fce74067f183>:24: RuntimeWarning: divide by zero encountered in double_scalars\n",
      "  vecJ[item] = np.linalg.det(Sb+Sw)/np.linalg.det(Sw)\n"
     ]
    },
    {
     "name": "stdout",
     "output_type": "stream",
     "text": [
      "conf Z:  [2, 4, 5, 6, 8, 9, 14, 15, 17, 19, 20, 24, 25, 27, 28, 30, 32, 34, 38]\n",
      "conf W:  [0, 23, 26, 10, 3, 7, 22, 37, 29, 18, 11, 31, 36, 1, 12, 13, 21, 39, 35, 33, 16]\n"
     ]
    },
    {
     "data": {
      "image/png": "[encoded data removed]",
      "text/plain": [
       "<Figure size 360x360 with 1 Axes>"
      ]
     },
     "metadata": {
      "needs_background": "light"
     },
     "output_type": "display_data"
    }
   ],
   "source": [
    "path_out = '/home/rogerio/GIT/rp/blucher/figs/CapRDSA/exemploSBS.pdf'\n",
    "\n",
    "#Geração das figuras\n",
    "FS = (5,5) #Tamanho da figura a ser gerada\n",
    "fig = plt.figure(constrained_layout=True,figsize=FS)\n",
    "spec = gridspec.GridSpec(ncols=1, nrows=1, figure=fig)\n",
    "\n",
    "#Subgráfico 1\n",
    "ax = fig.add_subplot(spec[0,0])\n",
    "ax.set_xlabel('Iterações',fontsize=20)\n",
    "ax.set_ylabel('Atributos',fontsize=20)\n",
    "\n",
    "#Conjuntos de atributos: a ideia é passar de W para Z\n",
    "W = []\n",
    "Z = [i for i in range(atributos)]\n",
    "\n",
    "#determina a posição de cada exemplo rotulado em x\n",
    "labY ={}\n",
    "for i in np.unique(y):\n",
    "    pos = np.where(y == i)\n",
    "    labY[i] = (pos[0]).tolist()\n",
    "\n",
    "posIter = 1\n",
    "while len(Z) > n_sel:\n",
    "    \n",
    "    #ind = np.argmin( compute_info_gain_remove(Z,x,labY) )   #???\n",
    "    ind = np.argmax( compute_info_gain_remove(Z,x,labY) )  #argmax significa que ao remover, não fez muita diferença!\n",
    "    W.append(Z[ind])\n",
    "    Z.remove(Z[ind])\n",
    "    \n",
    "    for el in W: ax.scatter(posIter,el,marker='o',c='green', s=10, alpha=0.3)\n",
    "    for el in Z: ax.scatter(posIter,el,marker='s',c='red', s=25, alpha=1.0)\n",
    "    \n",
    "    posIter += 1\n",
    "    \n",
    "print('conf Z: ',Z)\n",
    "print('conf W: ',W)\n",
    "\n",
    "z2 = Z\n",
    "\n",
    "from matplotlib.ticker import MaxNLocator\n",
    "ax.xaxis.set_major_locator(MaxNLocator(integer=True))\n",
    "\n",
    "#ax.set_xticks([np.int32(np.linspace(1,atributos,atributos))])\n",
    "#ax.set_yticks([np.int32(np.linspace(1,posIter-1,posIter-1))])\n",
    "\n",
    "plt.savefig(path_out, dpi=300, bbox_inches='tight', format='pdf')\n",
    "plt.show()"
   ]
  },
  {
   "cell_type": "markdown",
   "metadata": {},
   "source": [
    "## SFFS"
   ]
  },
  {
   "cell_type": "code",
   "execution_count": 11,
   "metadata": {},
   "outputs": [
    {
     "name": "stdout",
     "output_type": "stream",
     "text": [
      "entrou 34 card. 1\n",
      "entrou 25 card. 2\n",
      "entrou 38 card. 3\n",
      "entrou 18 card. 4\n",
      "entrou 31 card. 5\n",
      "entrou 0 card. 6\n",
      "entrou 10 card. 7\n",
      "entrou 6 card. 8\n",
      "entrou 5 card. 9\n",
      "entrou 39 card. 10\n",
      "entrou 32 card. 11\n",
      "entrou 20 card. 12\n",
      "entrou 27 card. 13\n",
      "entrou 21 card. 14\n",
      "entrou 36 card. 15\n",
      "entrou 3 card. 16\n",
      "saiu 25 card. 15\n",
      "saiu 39 card. 14\n",
      "entrou 11 card. 15\n",
      "entrou 33 card. 16\n",
      "entrou 13 card. 17\n",
      "saiu 18 card. 16\n",
      "saiu 10 card. 15\n",
      "entrou 4 card. 16\n",
      "entrou 12 card. 17\n",
      "entrou 14 card. 18\n",
      "saiu 3 card. 17\n",
      "saiu 5 card. 16\n",
      "entrou 2 card. 17\n",
      "saiu 6 card. 16\n",
      "entrou 10 card. 17\n",
      "entrou 19 card. 18\n",
      "saiu 34 card. 17\n",
      "saiu 13 card. 16\n",
      "saiu 4 card. 15\n",
      "saiu 31 card. 14\n",
      "saiu 12 card. 13\n",
      "saiu 36 card. 12\n",
      "saiu 14 card. 11\n",
      "entrou 22 card. 12\n",
      "entrou 35 card. 13\n",
      "entrou 1 card. 14\n",
      "entrou 37 card. 15\n",
      "entrou 12 card. 16\n",
      "entrou 4 card. 17\n",
      "saiu 0 card. 16\n",
      "entrou 0 card. 17\n",
      "saiu 33 card. 16\n",
      "entrou 33 card. 17\n",
      "entrou 36 card. 18\n",
      "saiu 32 card. 17\n",
      "saiu 0 card. 16\n",
      "saiu 21 card. 15\n",
      "saiu 27 card. 14\n",
      "saiu 11 card. 13\n",
      "saiu 2 card. 12\n",
      "saiu 12 card. 11\n",
      "entrou 24 card. 12\n",
      "entrou 18 card. 13\n",
      "entrou 23 card. 14\n",
      "entrou 25 card. 15\n",
      "entrou 15 card. 16\n",
      "saiu 23 card. 15\n",
      "saiu 24 card. 14\n",
      "entrou 24 card. 15\n",
      "entrou 21 card. 16\n",
      "entrou 5 card. 17\n",
      "saiu 25 card. 16\n",
      "entrou 31 card. 17\n",
      "saiu 24 card. 16\n",
      "entrou 27 card. 17\n",
      "entrou 8 card. 18\n",
      "saiu 27 card. 17\n",
      "entrou 27 card. 18\n",
      "entrou 32 card. 19\n",
      "Atributos selecionados:  [38, 20, 10, 19, 22, 35, 1, 37, 4, 33, 36, 18, 15, 21, 5, 31, 8, 27, 32]\n"
     ]
    },
    {
     "data": {
      "image/png": "[encoded data removed]",
      "text/plain": [
       "<Figure size 648x360 with 1 Axes>"
      ]
     },
     "metadata": {
      "needs_background": "light"
     },
     "output_type": "display_data"
    }
   ],
   "source": [
    "path_out = '/home/rogerio/GIT/rp/blucher/figs/CapRDSA/exemploSFFS.pdf'\n",
    "\n",
    "#Geração das figuras\n",
    "FS = (9,5) #Tamanho da figura a ser gerada\n",
    "fig = plt.figure(constrained_layout=True,figsize=FS)\n",
    "spec = gridspec.GridSpec(ncols=1, nrows=1, figure=fig)\n",
    "\n",
    "#Subgráfico 1\n",
    "ax = fig.add_subplot(spec[0,0])\n",
    "ax.set_xlabel('Iterações',fontsize=20)\n",
    "ax.set_ylabel('Atributos',fontsize=20)\n",
    "\n",
    "#Conjuntos de atributos: a ideia é passar de W para Z\n",
    "W = [i for i in range(atributos)]\n",
    "Z = []\n",
    "\n",
    "posIter = 1\n",
    "\n",
    "#determina a posição de cada exemplo rotulado em x\n",
    "labY ={}\n",
    "for i in np.unique(y):\n",
    "    pos = np.where(y == i)\n",
    "    labY[i] = (pos[0]).tolist()\n",
    "\n",
    "while len(Z) < n_sel:\n",
    "    \n",
    "    indAdd = np.argmax( compute_info_gain_add(Z,W,x,labY) )\n",
    "    Z.append(W[indAdd])\n",
    "    print('entrou',W[indAdd],'card.',len(Z))\n",
    "    W.remove(W[indAdd])\n",
    "    \n",
    "    for el in W: ax.scatter(posIter,el,marker='o',c='green', s=10, alpha=0.3)\n",
    "    for el in Z: ax.scatter(posIter,el,marker='s',c='red', s=25, alpha=1.0)\n",
    "    posIter += 1\n",
    "\n",
    "    Jadd = compute_info(Z,x,labY)\n",
    "\n",
    "    while True:\n",
    "        \n",
    "        if (len(Z) <= 1) or (len(Z) == n_sel): break\n",
    "        indRem = np.argmax( compute_info_gain_remove(Z,x,labY) )\n",
    "    \n",
    "        tempZ = Z.copy(); tempZ.remove(Z[indRem])\n",
    "        Jrem = compute_info(tempZ,x,labY)\n",
    "\n",
    "        if (Jrem < Jadd) or (Z[-1] == Z[indRem]): break\n",
    "        else: \n",
    "            #indAdd = -1 #Garante comparação válida só no 1o loop\n",
    "            print('saiu',Z[indRem],'card.',len(Z)-1)\n",
    "            W.append(Z[indRem])\n",
    "            Z.remove(Z[indRem])            \n",
    "            \n",
    "            for el in W: ax.scatter(posIter,el,marker='o',c='green', s=10, alpha=0.3)\n",
    "            for el in Z: ax.scatter(posIter,el,marker='s',c='red', s=25, alpha=1.0)\n",
    "            posIter += 1\n",
    "            \n",
    "    #posIter += 1\n",
    "\n",
    "print('Atributos selecionados: ',Z)\n",
    "selAtributos = np.int64(Z) #compatibilização do tipo\n",
    "\n",
    "plt.savefig(path_out, dpi=300, bbox_inches='tight', format='pdf')\n",
    "plt.show()"
   ]
  },
  {
   "cell_type": "code",
   "execution_count": 12,
   "metadata": {},
   "outputs": [
    {
     "name": "stdout",
     "output_type": "stream",
     "text": [
      "[ 4  5  7  9 11 12 18 20 33 34 39 42 43 44 47 49 51 53 57 58]\n",
      "[ 4  5  7  9 11 12 18 20 33 34 39 42 43 44 47 49 51 53 57 58]\n",
      "[ 4  5  7  9 11 12 17 18 20 33 38 39 42 43 44 47 49 53 57 58]\n"
     ]
    }
   ],
   "source": [
    "print(np.sort(Z))\n",
    "print(np.sort(z1))\n",
    "print(np.sort(z2))\n"
   ]
  },
  {
   "cell_type": "code",
   "execution_count": 96,
   "metadata": {},
   "outputs": [
    {
     "name": "stdout",
     "output_type": "stream",
     "text": [
      "200\n"
     ]
    }
   ],
   "source": [
    "print(x.shape[0])"
   ]
  },
  {
   "cell_type": "code",
   "execution_count": 83,
   "metadata": {},
   "outputs": [
    {
     "name": "stdout",
     "output_type": "stream",
     "text": [
      "[ 4.  5.  9. 10. 11. 12. 17. 18. 20. 23. 26. 28. 31. 33. 37. 38. 39. 41.\n",
      " 42. 43. 44. 46. 47. 49. 51. 53. 55. 56. 57. 58.]\n",
      "[4, 5, 9, 10, 11, 12, 17, 18, 20, 23, 26, 28, 31, 33, 37, 38, 39, 41, 42, 43, 44, 46, 47, 49, 51, 53, 55, 56, 57, 58]\n"
     ]
    }
   ],
   "source": [
    "zinter = np.intersect1d(z1,z2)\n",
    "print(z1)\n",
    "print(z2)"
   ]
  },
  {
   "cell_type": "code",
   "execution_count": 84,
   "metadata": {},
   "outputs": [
    {
     "name": "stdout",
     "output_type": "stream",
     "text": [
      "[ 4.  5.  9. 10. 11. 12. 17. 18. 20. 23. 26. 28. 31. 33. 37. 38. 39. 41.\n",
      " 42. 43. 44. 46. 47. 49. 51. 53. 55. 56. 57. 58.]\n",
      "30\n"
     ]
    }
   ],
   "source": [
    "print(zinter)\n",
    "print(len(zinter))"
   ]
  },
  {
   "cell_type": "code",
   "execution_count": 44,
   "metadata": {},
   "outputs": [
    {
     "name": "stdout",
     "output_type": "stream",
     "text": [
      "[2, 4, 6, 7, 8, 9, 11, 12, 15, 16, 18, 19, 20, 21, 22, 26, 28, 32, 34, 38, 40, 42, 46, 48, 51, 52, 53, 55, 57, 58]\n"
     ]
    }
   ],
   "source": [
    "print(z2)"
   ]
  },
  {
   "cell_type": "code",
   "execution_count": 28,
   "metadata": {},
   "outputs": [],
   "source": [
    "z1 = [ 3,  5,  6,  7,  8,  9, 10, 11, 12, 16, 17, 18, 19, 23, 28, 31, 35, 36, 38, 43, 44, 45, 47, 51, 53, 55, 56, 57, 58, 59]\n",
    "z2 = [0, 1, 2, 4, 5, 13, 14, 15, 20, 21, 22, 24, 25, 26, 29, 30, 32, 33, 34, 37, 40, 41, 42, 45, 46, 48, 49, 50, 52, 54]"
   ]
  },
  {
   "cell_type": "code",
   "execution_count": 42,
   "metadata": {},
   "outputs": [
    {
     "data": {
      "text/plain": [
       "(30,)"
      ]
     },
     "execution_count": 42,
     "metadata": {},
     "output_type": "execute_result"
    }
   ],
   "source": [
    "np.shape(z1)"
   ]
  },
  {
   "cell_type": "code",
   "execution_count": null,
   "metadata": {},
   "outputs": [],
   "source": []
  }
 ],
 "metadata": {
  "kernelspec": {
   "display_name": "Python 3",
   "language": "python",
   "name": "python3"
  },
  "language_info": {
   "codemirror_mode": {
    "name": "ipython",
    "version": 3
   },
   "file_extension": ".py",
   "mimetype": "text/x-python",
   "name": "python",
   "nbconvert_exporter": "python",
   "pygments_lexer": "ipython3",
   "version": "3.8.3"
  }
 },
 "nbformat": 4,
 "nbformat_minor": 4
}
