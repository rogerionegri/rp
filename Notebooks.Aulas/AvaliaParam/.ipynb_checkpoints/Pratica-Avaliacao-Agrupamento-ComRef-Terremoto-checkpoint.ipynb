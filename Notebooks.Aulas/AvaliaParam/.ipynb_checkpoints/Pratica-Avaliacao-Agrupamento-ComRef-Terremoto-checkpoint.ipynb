{
 "cells": [
  {
   "cell_type": "markdown",
   "metadata": {},
   "source": [
    "## Declaração de bibliotecas e demais configurações"
   ]
  },
  {
   "cell_type": "code",
   "execution_count": null,
   "metadata": {},
   "outputs": [],
   "source": [
    "import numpy as np\n",
    "import matplotlib.pyplot as plt\n",
    "from matplotlib import cm\n",
    "import csv\n",
    "import matplotlib.gridspec as gridspec\n",
    "\n",
    "import scipy\n",
    "\n",
    "from sklearn.cluster import KMeans\n",
    "from sklearn.cluster import AgglomerativeClustering\n",
    "from sklearn import mixture\n",
    "\n",
    "from sklearn import metrics\n",
    "\n",
    "import sklearn.preprocessing as preproc\n",
    "from sklearn import preprocessing\n",
    "from sklearn.model_selection import train_test_split\n",
    "\n",
    "#from matplotlib import rcParams\n",
    "#rcParams['text.usetex'] = True\n",
    "#rcParams['text.latex.preamble'] = r'\\usepackage{amsmath}'"
   ]
  },
  {
   "cell_type": "markdown",
   "metadata": {},
   "source": [
    "## Funções relacionadas ao método ou auxiliares"
   ]
  },
  {
   "cell_type": "code",
   "execution_count": null,
   "metadata": {},
   "outputs": [],
   "source": [
    "#Função de leitura dos dados------------------------------------\n",
    "def read_class_data(path):\n",
    "    with open(path, newline='') as f:\n",
    "        reader = csv.reader(f,delimiter=',')\n",
    "        for row in reader:\n",
    "            try:\n",
    "                data = np.vstack( (data , np.asarray(row).astype(np.float) ) )\n",
    "            except:\n",
    "                data = np.asarray(row).astype(np.float)\n",
    "    f.close()\n",
    "    y = data[:,0]\n",
    "    x = data[:,1:]\n",
    "    return y,x"
   ]
  },
  {
   "cell_type": "markdown",
   "metadata": {},
   "source": [
    "## Leitura dos dados\n",
    "* Os dados considerados aqui foram obtidos da USGS\n",
    "\n",
    "* Atributos são:\n",
    "    * latitude\n",
    "    * longitude\n",
    "    * depth\n",
    "    * mag\n",
    "    * gap\n",
    "    * dmin\n",
    "    * rms\n",
    "    * horizontalError\n",
    "    * depthError\n",
    "\n",
    "* Classes:\n",
    "    * 1 - MB; (azul escuro)\n",
    "    * 2 - MD; (ciano)\n",
    "    * 3 - ML; (verde)\n",
    "    * 4 - MW; (laranja)\n",
    "    \n",
    "##### Definição dos atributos em: https://earthquake.usgs.gov/data/comcat/data-eventterms.php\n",
    "##### Definição das classes em: https://www.usgs.gov/natural-hazards/earthquake-hazards/science/magnitude-types"
   ]
  },
  {
   "cell_type": "code",
   "execution_count": null,
   "metadata": {},
   "outputs": [],
   "source": [
    "#Dados\n",
    "path = 'EartQuakes_USGS_mar-abr2020.csv'\n",
    "\n",
    "#Leitura dos dados\n",
    "y,x = read_class_data(path)\n",
    "\n",
    "#Nomes das classes\n",
    "nomesClasses = ['MB','MD','ML','MW']"
   ]
  },
  {
   "cell_type": "markdown",
   "metadata": {},
   "source": [
    "## Visualizacão dos dados"
   ]
  },
  {
   "cell_type": "code",
   "execution_count": null,
   "metadata": {},
   "outputs": [],
   "source": [
    "classColor = ['darkblue','cyan','green','orange']\n",
    "vecCol = []\n",
    "for i in y: vecCol.append( classColor[int(i-1)] )    \n",
    "\n",
    "FS = (15,5) #Tamanho da figura a ser gerada\n",
    "fig = plt.figure(constrained_layout=True,figsize=FS)\n",
    "spec = gridspec.GridSpec(ncols=1, nrows=1, figure=fig)\n",
    "\n",
    "ax = fig.add_subplot(spec[0, 0])\n",
    "\n",
    "#ax.scatter( x[:,1], x[:,0], s=x[:,3], c=vecCol, alpha=0.5, label='Localização/Magnitude')\n",
    "ax.scatter( x[:,1], x[:,0], s=30, c=vecCol, alpha=0.5)\n",
    "ax.set_xlabel('Longitude',fontsize=20)\n",
    "ax.set_ylabel('Latitude',fontsize=20)\n",
    "\n",
    "#ax.set(xlim=(np.min(x[:,0])-1,np.max(x[:,0])+1), ylim=(np.min(x[:,1])-1,np.max(x[:,1])+1))\n",
    "ax.set_aspect('equal', 'box')\n",
    "\n",
    "ax.grid(True)"
   ]
  },
  {
   "cell_type": "markdown",
   "metadata": {},
   "source": [
    "## Escolha dos atributos e normalização dos dados (pelo máximo)"
   ]
  },
  {
   "cell_type": "code",
   "execution_count": null,
   "metadata": {},
   "outputs": [],
   "source": [
    "#0 - latitude, 1 - longitude, 2 - depth, 3 - mag\n",
    "#4 - gap, 5 - dmin, 6 - rms, 7 - horizontalError, 8 - depthError\n",
    "#atributos = [0,1,2,3] #Permite escolhar qual atributo usar\n",
    "atributos = [2,3,4,5,6,7,8] #Permite escolhar qual atributo usar\n",
    "x_sub = x[:,atributos]\n",
    "\n",
    "#Normalização...\n",
    "x_sub = preprocessing.normalize(x_sub, axis=0, norm='max')"
   ]
  },
  {
   "cell_type": "markdown",
   "metadata": {},
   "source": [
    "## Agrupamento dos dados"
   ]
  },
  {
   "cell_type": "code",
   "execution_count": null,
   "metadata": {},
   "outputs": [],
   "source": [
    "n_clusters = 4 #Usar até 8 ou acrescentar mais cores no vetor 'cores' \n",
    "epsilon = 0.0001\n",
    "#----------\n",
    "\n",
    "#===Instanciação e execução de agrupamento hierárquico\n",
    "aglom = AgglomerativeClustering(n_clusters=n_clusters, linkage='ward', affinity='euclidean')\n",
    "res = aglom.fit(x_sub)\n",
    "agrupWard = res.labels_\n",
    "\n",
    "#===Instanciação e execução do algoritmo K-Médias\n",
    "km = KMeans(n_clusters=n_clusters, max_iter=1000, tol=epsilon)\n",
    "agrupKM = km.fit_predict(x_sub)\n",
    "\n",
    "#===Instanciação e modelagem via GMM\n",
    "gmm = mixture.GaussianMixture(n_components=n_clusters)\n",
    "gmm.fit(x_sub)\n",
    "agrup = []\n",
    "for i in range(x.shape[0]): agrup.append( np.argmax( gmm.predict_proba( [x_sub[i,:]] ) ) )\n",
    "agrupGMM = np.array(agrup)"
   ]
  },
  {
   "cell_type": "markdown",
   "metadata": {},
   "source": [
    "## Avaliação do desempenho\n",
    "* Homogeneidade\n",
    "* Completude\n",
    "* Medida $V$"
   ]
  },
  {
   "cell_type": "code",
   "execution_count": null,
   "metadata": {},
   "outputs": [],
   "source": [
    "ho_ward,co_ward,vm_ward = metrics.homogeneity_completeness_v_measure(y, agrupWard)\n",
    "\n",
    "print(\"---Método de Ward---\")\n",
    "print(\"Homogeneidade: %f   Completude: %f   Medida-V: %f \\n\\n\"%(ho_ward,co_ward,vm_ward))\n",
    "\n",
    "\n",
    "ho_km,co_km,vm_km = metrics.homogeneity_completeness_v_measure(y, agrupKM)\n",
    "\n",
    "print(\"---K-Médias---\")\n",
    "print(\"Homogeneidade: %f   Completude: %f   Medida-V: %f \\n\\n\"%(ho_km,co_km,vm_km))\n",
    "\n",
    "\n",
    "ho_gmm,co_gmm,vm_gmm = metrics.homogeneity_completeness_v_measure(y, agrupGMM)\n",
    "\n",
    "print(\"---Agrupamento via GMM---\")\n",
    "print(\"Homogeneidade: %f   Completude: %f   Medida-V: %f \\n\\n\"%(ho_gmm,co_gmm,vm_gmm))"
   ]
  },
  {
   "cell_type": "markdown",
   "metadata": {},
   "source": [
    "## Visualização do resultado de agrupamento"
   ]
  },
  {
   "cell_type": "code",
   "execution_count": null,
   "metadata": {},
   "outputs": [],
   "source": [
    "FS = (15,15) #Tamanho da figura a ser gerada\n",
    "fig = plt.figure(constrained_layout=True,figsize=FS)\n",
    "spec = gridspec.GridSpec(ncols=1, nrows=3, figure=fig)\n",
    "\n",
    "cores = ['red','blue','green','orange','magenta','cyan','darkred','grey']\n",
    "marcadores = ['o','+','^','*','D','x','p','h']\n",
    "\n",
    "#Ward\n",
    "ax = fig.add_subplot(spec[0,0])\n",
    "for i in range(n_clusters):\n",
    "    pos = np.where( agrupWard == i )\n",
    "    ax.scatter(x[pos,1], x[pos,0], marker=marcadores[i], c=cores[i], s=50)    \n",
    "ax.set_xlabel('Longitude',fontsize=20)\n",
    "ax.set_ylabel('Latitude',fontsize=20)\n",
    "ax.set_aspect('equal', 'box')\n",
    "ax.set_title('Ward',fontsize=20)\n",
    "ax.grid(True) \n",
    "\n",
    "#K-Médias\n",
    "ax = fig.add_subplot(spec[1,0])\n",
    "for i in range(n_clusters):\n",
    "    pos = np.where( agrupKM == i )\n",
    "    ax.scatter(x[pos,1], x[pos,0], marker=marcadores[i], c=cores[i], s=50)    \n",
    "ax.set_xlabel('Longitude',fontsize=20)\n",
    "ax.set_ylabel('Latitude',fontsize=20)\n",
    "ax.set_aspect('equal', 'box')\n",
    "ax.set_title('K-Médias',fontsize=20)\n",
    "ax.grid(True) \n",
    "\n",
    "#GMM\n",
    "ax = fig.add_subplot(spec[2,0])\n",
    "for i in range(n_clusters):\n",
    "    pos = np.where( agrupGMM == i )\n",
    "    ax.scatter(x[pos,1], x[pos,0], marker=marcadores[i], c=cores[i], s=50)    \n",
    "ax.set_xlabel('Longitude',fontsize=20)\n",
    "ax.set_ylabel('Latitude',fontsize=20)\n",
    "ax.set_aspect('equal', 'box')\n",
    "ax.set_title('GMM',fontsize=20)\n",
    "ax.grid(True) \n",
    "\n",
    "\n",
    "#plt.savefig(path_out,dpi=300)\n",
    "plt.show()"
   ]
  },
  {
   "cell_type": "markdown",
   "metadata": {},
   "source": [
    "## Mais uma avaliação sobre o número de agrupamentos\n",
    "* Teste sobre o K-Médias\n",
    "* Investigação sobre $k \\in \\{2,\\ldots,80\\}$"
   ]
  },
  {
   "cell_type": "code",
   "execution_count": null,
   "metadata": {},
   "outputs": [],
   "source": [
    "vecK = []\n",
    "vecV = []; vecH = []; vecC = []\n",
    "for k in range(2,81):\n",
    "    #Instancia e agrupa os dados...\n",
    "    km = KMeans(n_clusters=k, max_iter=1000, tol=epsilon)\n",
    "    agrupKM = km.fit_predict(x_sub)\n",
    "    ho_km,co_km,vm_km = metrics.homogeneity_completeness_v_measure(y, agrupKM)\n",
    "    vecK.append(k) \n",
    "    vecV.append(vm_km)\n",
    "    vecH.append(ho_km)\n",
    "    vecC.append(co_km)"
   ]
  },
  {
   "cell_type": "code",
   "execution_count": null,
   "metadata": {},
   "outputs": [],
   "source": [
    "FS = (12,5) #Tamanho da figura a ser gerada\n",
    "fig = plt.figure(constrained_layout=True,figsize=FS)\n",
    "spec = gridspec.GridSpec(ncols=3, nrows=1, figure=fig)\n",
    "\n",
    "#Gráfico Ho\n",
    "ax = fig.add_subplot(spec[0,0])\n",
    "ax.plot(vecK,vecH,'r-')\n",
    "ax.set_xlabel('$k$',fontsize=20)\n",
    "ax.set_ylabel('Homogeneidade',fontsize=20)\n",
    "\n",
    "#Gráfico Co\n",
    "ax = fig.add_subplot(spec[0,1])\n",
    "ax.plot(vecK,vecC,'b-')\n",
    "ax.set_xlabel('$k$',fontsize=20)\n",
    "ax.set_ylabel('Completude',fontsize=20)\n",
    "\n",
    "#Gráfico V\n",
    "ax = fig.add_subplot(spec[0,2])\n",
    "ax.plot(vecK,vecV,'b-')\n",
    "ax.set_xlabel('$k$',fontsize=20)\n",
    "ax.set_ylabel('$V$',fontsize=20)"
   ]
  }
 ],
 "metadata": {
  "kernelspec": {
   "display_name": "Python 3",
   "language": "python",
   "name": "python3"
  },
  "language_info": {
   "codemirror_mode": {
    "name": "ipython",
    "version": 3
   },
   "file_extension": ".py",
   "mimetype": "text/x-python",
   "name": "python",
   "nbconvert_exporter": "python",
   "pygments_lexer": "ipython3",
   "version": "3.8.3"
  }
 },
 "nbformat": 4,
 "nbformat_minor": 4
}
