{
 "cells": [
  {
   "cell_type": "markdown",
   "metadata": {},
   "source": [
    "## Bibliotecas e módulos"
   ]
  },
  {
   "cell_type": "code",
   "execution_count": null,
   "metadata": {},
   "outputs": [],
   "source": [
    "import matplotlib.pyplot as plt\n",
    "import matplotlib.gridspec as gridspec\n",
    "\n",
    "import csv\n",
    "import numpy as np\n",
    "\n",
    "import sklearn.preprocessing as preproc\n",
    "\n",
    "from sklearn.cluster import KMeans\n",
    "from sklearn.cluster import AgglomerativeClustering\n",
    "from sklearn import mixture\n",
    "\n",
    "from sklearn import metrics\n",
    "\n",
    "#from matplotlib import rcParams\n",
    "#rcParams['text.usetex'] = True\n",
    "#rcParams['text.latex.preamble'] = r'\\usepackage{amsmath}'"
   ]
  },
  {
   "cell_type": "markdown",
   "metadata": {},
   "source": [
    "## Função para leitura dos dados"
   ]
  },
  {
   "cell_type": "code",
   "execution_count": null,
   "metadata": {},
   "outputs": [],
   "source": [
    "def read_class_data(path):\n",
    "    with open(path, newline='') as f:\n",
    "        reader = csv.reader(f,delimiter=',')\n",
    "        for row in reader:\n",
    "            try:\n",
    "                data = np.vstack( (data , np.asarray(row).astype(np.float) ) )\n",
    "            except:\n",
    "                data = np.asarray(row).astype(np.float)\n",
    "    f.close()\n",
    "    y = data[:,0]\n",
    "    x = data[:,1:]\n",
    "    return y,x"
   ]
  },
  {
   "cell_type": "markdown",
   "metadata": {},
   "source": [
    "## Conjunto de dados (World Air Quality Index):\n",
    "* Dados sobre qualiade do ar - Air Quality Open Data Platform - Worldwide COVID-19 dataset\n",
    "* Informações adicionais: https://aqicn.org/data-platform/covid19/\n",
    "* Os dados coletados são os mais próximos do dia 15/março/2020\n",
    "* Variáveis:\n",
    "    * Latitude\n",
    "    * Longitude\n",
    "    * wind-speed ($m/s$)\n",
    "    * wind-gust ($m/s$)\n",
    "    * humidity ($\\%$)\n",
    "    * dew ($C$)\n",
    "    * pressure ($mb$ - millibars)\n",
    "    * precipitation (inch $1.0 inch \\approx 25.4 mm$)\n",
    "    * temperature ($C$)\n",
    "    * CO - monóxido de carbono ($\\mu g/m^3 \\rightarrow$ EPA Standard)\n",
    "    * pm10 - particulas respiráveis ($\\mu g/m^3 \\rightarrow$ EPA Standard)\n",
    "    * pm25 - particulas finas ($\\mu g/m^3 \\rightarrow$ EPA Standard)\n",
    "    * SO2 - dióxido de enxofre ($\\mu g/m^3 \\rightarrow$ EPA Standard)\n",
    "    * NO2 - dióxido de nitrogênio ($\\mu g/m^3 \\rightarrow$ EPA Standard)\n",
    "    * O3 - ozônio ($\\mu g/m^3 \\rightarrow$ EPA Standard)\n",
    "\n",
    "* Detalhes sobre as unidades: https://weather.gladstonefamily.net/CWOP_Guide.pdf\n",
    "* EPA Standard: https://en.wikipedia.org/wiki/National_Ambient_Air_Quality_Standards"
   ]
  },
  {
   "cell_type": "code",
   "execution_count": null,
   "metadata": {},
   "outputs": [],
   "source": [
    "path = 'waqi.csv'\n",
    "\n",
    "#Não existe rótulo (y) válido para este conjunto de dados\n",
    "_,xOrig = read_class_data(path) \n",
    "\n",
    "#Escolha dos atributos\n",
    "Atributos = [2,3,4,5,6,7,8,9,10,11,12,13,14]\n",
    "\n",
    "#Normalização dos dados...\n",
    "x = np.copy(xOrig[:,Atributos])\n",
    "x = preproc.normalize(x, norm='max', axis=0, copy=True)"
   ]
  },
  {
   "cell_type": "code",
   "execution_count": null,
   "metadata": {},
   "outputs": [],
   "source": [
    "FS = (15,5) #Tamanho da figura a ser gerada\n",
    "fig = plt.figure(constrained_layout=True,figsize=FS)\n",
    "spec = gridspec.GridSpec(ncols=1, nrows=1, figure=fig)\n",
    "\n",
    "ax = fig.add_subplot(spec[0, 0])\n",
    "\n",
    "ax.scatter( xOrig[:,1], xOrig[:,0], c='blue', alpha=0.5)\n",
    "ax.set_xlabel('Longitude',fontsize=20)\n",
    "ax.set_ylabel('Latitude',fontsize=20)\n",
    "\n",
    "ax.set_aspect('equal', 'box')\n",
    "\n",
    "ax.grid(True)"
   ]
  },
  {
   "cell_type": "markdown",
   "metadata": {},
   "source": [
    "## Parametrização e execução"
   ]
  },
  {
   "cell_type": "code",
   "execution_count": null,
   "metadata": {},
   "outputs": [],
   "source": [
    "n_clusters = 4 #Usar até 8 ou acrescentar mais cores no vetor 'cores' \n",
    "epsilon = 0.0001\n",
    "#----------\n",
    "\n",
    "#===Instanciação e execução de agrupamento hierárquico\n",
    "aglom = AgglomerativeClustering(n_clusters=n_clusters, linkage='ward', affinity='euclidean')\n",
    "res = aglom.fit(x)\n",
    "agrupWard = res.labels_\n",
    "\n",
    "#===Instanciação e execução do algoritmo K-Médias\n",
    "km = KMeans(n_clusters=n_clusters, max_iter=1000, tol=epsilon)\n",
    "agrupKM = km.fit_predict(x)\n",
    "\n",
    "#===Instanciação e modelagem via GMM\n",
    "gmm = mixture.GaussianMixture(n_components=n_clusters)\n",
    "gmm.fit(x)\n",
    "agrup = []\n",
    "for i in range(x.shape[0]): agrup.append( np.argmax( gmm.predict_proba( [x[i,:]] ) ) )\n",
    "agrupGMM = np.array(agrup)"
   ]
  },
  {
   "cell_type": "markdown",
   "metadata": {},
   "source": [
    "## Avaliação de agrupamentos sem uso de referência\n",
    "* Coeficiente silhueta ($SC$)\n",
    "* Indice de Calinski-Harabasz ($CHI$)"
   ]
  },
  {
   "cell_type": "code",
   "execution_count": null,
   "metadata": {},
   "outputs": [],
   "source": [
    "sc_ward = metrics.silhouette_score(x, agrupWard, metric='euclidean')\n",
    "chi_ward = metrics.calinski_harabasz_score(x, agrupWard)\n",
    "\n",
    "sc_km = metrics.silhouette_score(x, agrupKM, metric='euclidean')\n",
    "chi_km = metrics.calinski_harabasz_score(x, agrupKM)\n",
    "\n",
    "sc_gmm = metrics.silhouette_score(x, agrupGMM, metric='euclidean')\n",
    "chi_gmm = metrics.calinski_harabasz_score(x, agrupGMM)\n",
    "\n",
    "print(\"---Método de Ward---\")\n",
    "print(\"SC: %f   CHI: %f\\n\\n\"%(sc_ward,chi_ward))\n",
    "\n",
    "print(\"---K-Médias---\")\n",
    "print(\"SC: %f   CHI: %f\\n\\n\"%(sc_km,chi_km))\n",
    "\n",
    "print(\"---Agrupamento via GMM---\")\n",
    "print(\"SC: %f   CHI: %f\"%(sc_gmm,chi_gmm))"
   ]
  },
  {
   "cell_type": "markdown",
   "metadata": {},
   "source": [
    "## Visualização do resultado de agrupamento"
   ]
  },
  {
   "cell_type": "code",
   "execution_count": null,
   "metadata": {},
   "outputs": [],
   "source": [
    "FS = (15,15) #Tamanho da figura a ser gerada\n",
    "fig = plt.figure(constrained_layout=True,figsize=FS)\n",
    "spec = gridspec.GridSpec(ncols=1, nrows=3, figure=fig)\n",
    "\n",
    "cores = ['red','blue','green','orange','magenta','cyan','darkred','grey']\n",
    "marcadores = ['o','+','^','*','D','x','p','h']\n",
    "\n",
    "#Ward\n",
    "ax = fig.add_subplot(spec[0,0])\n",
    "for i in range(n_clusters):\n",
    "    pos = np.where( agrupWard == i )\n",
    "    ax.scatter(xOrig[pos, 1], xOrig[pos, 0], marker=marcadores[i], c=cores[i], s=50)    \n",
    "ax.set_xlabel('Longitude',fontsize=20)\n",
    "ax.set_ylabel('Latitude',fontsize=20)\n",
    "ax.set_aspect('equal', 'box')\n",
    "ax.set_title('Ward',fontsize=20)\n",
    "ax.grid(True) \n",
    "\n",
    "#K-Médias\n",
    "ax = fig.add_subplot(spec[1,0])\n",
    "for i in range(n_clusters):\n",
    "    pos = np.where( agrupKM == i )\n",
    "    ax.scatter(xOrig[pos, 1], xOrig[pos, 0], marker=marcadores[i], c=cores[i], s=50)    \n",
    "ax.set_xlabel('Longitude',fontsize=20)\n",
    "ax.set_ylabel('Latitude',fontsize=20)\n",
    "ax.set_aspect('equal', 'box')\n",
    "ax.set_title('K-Médias',fontsize=20)\n",
    "ax.grid(True) \n",
    "\n",
    "#GMM\n",
    "ax = fig.add_subplot(spec[2,0])\n",
    "for i in range(n_clusters):\n",
    "    pos = np.where( agrupGMM == i )\n",
    "    ax.scatter(xOrig[pos, 1], xOrig[pos, 0], marker=marcadores[i], c=cores[i], s=50)    \n",
    "ax.set_xlabel('Longitude',fontsize=20)\n",
    "ax.set_ylabel('Latitude',fontsize=20)\n",
    "ax.set_aspect('equal', 'box')\n",
    "ax.set_title('GMM',fontsize=20)\n",
    "ax.grid(True) \n",
    "\n",
    "\n",
    "#plt.savefig(path_out,dpi=300)\n",
    "plt.show()"
   ]
  },
  {
   "cell_type": "markdown",
   "metadata": {},
   "source": [
    "## Seleção de parametro\n",
    "* Teste sobre o K-Médias\n",
    "* Investigação sobre $k \\in \\{2,\\ldots,80\\}$"
   ]
  },
  {
   "cell_type": "code",
   "execution_count": null,
   "metadata": {},
   "outputs": [],
   "source": [
    "vecK = []\n",
    "vecSC = []\n",
    "vecCHI = []\n",
    "for k in range(2,81):\n",
    "    #Instancia e agrupa os dados...\n",
    "    km = KMeans(n_clusters=k, max_iter=1000, tol=epsilon)\n",
    "    agrupKM = km.fit_predict(x)\n",
    "    sc = metrics.silhouette_score(x, agrupKM, metric='euclidean')\n",
    "    chi = metrics.calinski_harabasz_score(x, agrupKM)\n",
    "    vecK.append(k)\n",
    "    vecSC.append(sc)\n",
    "    vecCHI.append(chi)"
   ]
  },
  {
   "cell_type": "code",
   "execution_count": null,
   "metadata": {},
   "outputs": [],
   "source": [
    "FS = (12,5) #Tamanho da figura a ser gerada\n",
    "fig = plt.figure(constrained_layout=True,figsize=FS)\n",
    "spec = gridspec.GridSpec(ncols=2, nrows=1, figure=fig)\n",
    "\n",
    "#Gráfico SC\n",
    "ax = fig.add_subplot(spec[0,0])\n",
    "ax.plot(vecK,vecSC,'r-')\n",
    "ax.set_xlabel('$k$',fontsize=20)\n",
    "ax.set_ylabel('$SC$',fontsize=20)\n",
    "\n",
    "#Gráfico CHI\n",
    "ax = fig.add_subplot(spec[0,1])\n",
    "ax.plot(vecK,vecCHI,'b-')\n",
    "ax.set_xlabel('$k$',fontsize=20)\n",
    "ax.set_ylabel('$CHI$',fontsize=20)"
   ]
  },
  {
   "cell_type": "markdown",
   "metadata": {},
   "source": [
    "## Usando uma \"derivada\" do comportamento de $CHI$\n",
    "* Pode revelar algo importante!\n",
    "* A partir de qual valor de $k$ há estabilização?"
   ]
  },
  {
   "cell_type": "code",
   "execution_count": null,
   "metadata": {},
   "outputs": [],
   "source": [
    "vecDerCHI = []\n",
    "for i in range(1,len(vecCHI)): vecDerCHI.append( vecCHI[i] - vecCHI[i-1])\n",
    "    \n",
    "plt.plot(vecK[1:],vecDerCHI,'g-')\n",
    "plt.xlabel('$d \\ k$',fontsize=20)\n",
    "plt.ylabel('$d \\ CHI$',fontsize=20)\n",
    "plt.show()"
   ]
  },
  {
   "cell_type": "markdown",
   "metadata": {},
   "source": [
    "## Comparação entre resultados de agrupamento via Medida $V$\n",
    "* Vamos considerar pares de resultados\n",
    "    * Ward - K-Médias\n",
    "    * Ward - GMM\n",
    "    * K-Médias - GMM"
   ]
  },
  {
   "cell_type": "code",
   "execution_count": null,
   "metadata": {},
   "outputs": [],
   "source": [
    "ho_ward_km ,co_ward_km,vm_ward_km = metrics.homogeneity_completeness_v_measure(agrupWard, agrupKM)\n",
    "ho_ward_gmm ,co_ward_gmm,vm_ward_gmm = metrics.homogeneity_completeness_v_measure(agrupWard, agrupGMM)\n",
    "ho_km_gmm ,co_km_gmm,vm_km_gmm = metrics.homogeneity_completeness_v_measure(agrupKM, agrupGMM)\n",
    "ho_gmm_km ,co_gmm_km,vm_gmm_km = metrics.homogeneity_completeness_v_measure(agrupGMM,agrupKM)\n",
    "\n",
    "print('Ward - K-Médias',vm_ward_km)\n",
    "print('Ward - GMM',vm_ward_gmm)\n",
    "print('K-Médias - GMM',vm_km_gmm)\n",
    "print('GMM - K-Médias',vm_gmm_km) #<-------deve ser simétrico!"
   ]
  }
 ],
 "metadata": {
  "kernelspec": {
   "display_name": "Python 3",
   "language": "python",
   "name": "python3"
  },
  "language_info": {
   "codemirror_mode": {
    "name": "ipython",
    "version": 3
   },
   "file_extension": ".py",
   "mimetype": "text/x-python",
   "name": "python",
   "nbconvert_exporter": "python",
   "pygments_lexer": "ipython3",
   "version": "3.8.3"
  }
 },
 "nbformat": 4,
 "nbformat_minor": 4
}
