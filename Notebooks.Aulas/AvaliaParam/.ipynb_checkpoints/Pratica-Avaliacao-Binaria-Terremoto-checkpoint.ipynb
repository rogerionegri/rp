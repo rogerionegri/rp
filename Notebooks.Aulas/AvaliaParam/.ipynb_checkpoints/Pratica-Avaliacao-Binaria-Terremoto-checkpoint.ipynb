{
 "cells": [
  {
   "cell_type": "markdown",
   "metadata": {},
   "source": [
    "## Declaração de bibliotecas e demais configurações"
   ]
  },
  {
   "cell_type": "code",
   "execution_count": null,
   "metadata": {},
   "outputs": [],
   "source": [
    "import numpy as np\n",
    "import matplotlib.pyplot as plt\n",
    "from matplotlib import cm\n",
    "import csv\n",
    "import matplotlib.gridspec as gridspec\n",
    "\n",
    "import scipy\n",
    "\n",
    "from sklearn.ensemble import RandomForestClassifier\n",
    "from sklearn import svm\n",
    "\n",
    "from sklearn.model_selection import train_test_split\n",
    "\n",
    "from sklearn import preprocessing\n",
    "\n",
    "from sklearn.metrics import matthews_corrcoef\n",
    "from sklearn.metrics import f1_score\n",
    "from sklearn.metrics import fbeta_score\n",
    "\n",
    "from sklearn.metrics import confusion_matrix\n",
    "from sklearn.metrics import cohen_kappa_score\n",
    "from sklearn.metrics import accuracy_score\n",
    "\n",
    "#from matplotlib import rcParams\n",
    "#rcParams['text.usetex'] = True\n",
    "#rcParams['text.latex.preamble'] = r'\\usepackage{amsmath}'"
   ]
  },
  {
   "cell_type": "markdown",
   "metadata": {},
   "source": [
    "## Funções relacionadas ao método ou auxiliares"
   ]
  },
  {
   "cell_type": "code",
   "execution_count": null,
   "metadata": {},
   "outputs": [],
   "source": [
    "#Função de leitura dos dados------------------------------------\n",
    "def read_class_data(path):\n",
    "    with open(path, newline='') as f:\n",
    "        reader = csv.reader(f,delimiter=',')\n",
    "        for row in reader:\n",
    "            try:\n",
    "                data = np.vstack( (data , np.asarray(row).astype(np.float) ) )\n",
    "            except:\n",
    "                data = np.asarray(row).astype(np.float)\n",
    "    f.close()\n",
    "    y = data[:,0]\n",
    "    x = data[:,1:]\n",
    "    return y,x"
   ]
  },
  {
   "cell_type": "markdown",
   "metadata": {},
   "source": [
    "## Leitura dos dados\n",
    "* Os dados considerados aqui foram obtidos da USGS (http://www.dartmouth.edu)\n",
    "\n",
    "* Atributos são:\n",
    "    * latitude\n",
    "    * longitude\n",
    "    * depth\n",
    "    * mag\n",
    "    * gap\n",
    "    * dmin\n",
    "    * rms\n",
    "    * horizontalError\n",
    "    * depthError\n",
    "\n",
    "* Classes:\n",
    "    * 1 - MB; (azul escuro)\n",
    "    * 2 - MD; (ciano)\n",
    "    * 3 - ML; (verde)\n",
    "    * 4 - MW; (laranja)\n",
    "    \n",
    "##### Definição dos atributos em: https://earthquake.usgs.gov/data/comcat/data-eventterms.php\n",
    "##### Definição das classes em: https://www.usgs.gov/natural-hazards/earthquake-hazards/science/magnitude-types"
   ]
  },
  {
   "cell_type": "code",
   "execution_count": null,
   "metadata": {},
   "outputs": [],
   "source": [
    "#Dados\n",
    "path = 'EartQuakes_USGS_mar-abr2020.csv'\n",
    "\n",
    "#Leitura dos dados\n",
    "y,x = read_class_data(path)"
   ]
  },
  {
   "cell_type": "markdown",
   "metadata": {},
   "source": [
    "## Suposição/motivação para classificação binária\n",
    "* Há grande interesse na classe 'ML', sua ocorrência será julgada \"condição verdadeira\"\n",
    "* Em relação as demais classes, quando ocorrem implicam \"condição falsa\" (para a classe ML)"
   ]
  },
  {
   "cell_type": "code",
   "execution_count": null,
   "metadata": {},
   "outputs": [],
   "source": [
    "posTrue = np.where(y == 3)\n",
    "yBin = np.zeros(y.shape[0])\n",
    "yBin[posTrue] = 1"
   ]
  },
  {
   "cell_type": "markdown",
   "metadata": {},
   "source": [
    "## Visualizacão dos dados de treino/avaliação"
   ]
  },
  {
   "cell_type": "code",
   "execution_count": null,
   "metadata": {},
   "outputs": [],
   "source": [
    "classColor = ['red','blue']\n",
    "vecCol = []\n",
    "for i in yBin: vecCol.append( classColor[int(i)] )    \n",
    "\n",
    "FS = (15,5) #Tamanho da figura a ser gerada\n",
    "fig = plt.figure(constrained_layout=True,figsize=FS)\n",
    "spec = gridspec.GridSpec(ncols=1, nrows=1, figure=fig)\n",
    "\n",
    "ax = fig.add_subplot(spec[0, 0])\n",
    "\n",
    "ax.scatter( x[:,1], x[:,0], s=x[:,3], c=vecCol, alpha=0.5, label='Localização/Magnitude')\n",
    "ax.set_xlabel('Longitude',fontsize=20)\n",
    "ax.set_ylabel('Latitude',fontsize=20)\n",
    "\n",
    "ax.set_aspect('equal', 'box')\n",
    "\n",
    "ax.legend(fontsize=10)\n",
    "ax.grid(True)"
   ]
  },
  {
   "cell_type": "markdown",
   "metadata": {},
   "source": [
    "## Normalização e separação aleatória dos dados para treinamento e avaliação"
   ]
  },
  {
   "cell_type": "code",
   "execution_count": null,
   "metadata": {},
   "outputs": [],
   "source": [
    "#Normalização dos atributos\n",
    "x = preprocessing.normalize(x, axis=0, norm='max')\n",
    "\n",
    "#Gerar conjunto de treino e avaliação a partir de uma única fonte\n",
    "#N = y.shape[0]\n",
    "percentAvalia = 0.33\n",
    "\n",
    "#Seleção de dados de treinamento e avaliação\n",
    "xD, xI, yD, yI = train_test_split(x,yBin,test_size=percentAvalia)"
   ]
  },
  {
   "cell_type": "markdown",
   "metadata": {},
   "source": [
    "## Escolha dos atributos e normalização dos dados (pelo máximo)"
   ]
  },
  {
   "cell_type": "code",
   "execution_count": null,
   "metadata": {},
   "outputs": [],
   "source": [
    "#0 - latitude, 1 - longitude, 2 - depth, 3 - mag\n",
    "#4 - gap, 5 - dmin, 6 - rms, 7 - horizontalError, 8 - depthError\n",
    "#atributos = [0,1,2,3] #Permite escolhar qual atributo usar\n",
    "atributos = [2,3,4,5,6,7,8] #Permite escolhar qual atributo usar\n",
    "xD_sub = xD[:,atributos]\n",
    "xI_sub = xI[:,atributos]"
   ]
  },
  {
   "cell_type": "markdown",
   "metadata": {},
   "source": [
    "## Classificação dos dados\n",
    "* SVM (kernel Linear e RBF)\n",
    "* Rnadom Forest"
   ]
  },
  {
   "cell_type": "code",
   "execution_count": null,
   "metadata": {},
   "outputs": [],
   "source": [
    "#Instanciação dos classificadores\n",
    "svmRBF = svm.SVC(C=100, kernel='rbf', gamma=2.5, decision_function_shape='ovr')\n",
    "RF = RandomForestClassifier(n_estimators=100, criterion='entropy', min_samples_split=10, min_impurity_decrease=10**(-5))\n",
    "\n",
    "#Treinamento dos classificadores \n",
    "svmRBF.fit(xD_sub,yD)\n",
    "RF.fit(xD_sub,yD)\n",
    "\n",
    "#Aplicação\n",
    "yEst_svmRBF = svmRBF.predict(xI_sub)\n",
    "yEst_RF = RF.predict(xI_sub)"
   ]
  },
  {
   "cell_type": "markdown",
   "metadata": {},
   "source": [
    "## Avaliação do desempenho\n",
    "* Tabela de contingência (matriz de confusão) para o caso binário\n",
    "* Precison, Recall, F1-Score\n",
    "* MCC"
   ]
  },
  {
   "cell_type": "code",
   "execution_count": null,
   "metadata": {},
   "outputs": [],
   "source": [
    "#SVM+RBF\n",
    "tab_svmRBF = confusion_matrix(yI, yEst_svmRBF)\n",
    "f1_svmRBF = f1_score(yI, yEst_svmRBF)\n",
    "f2_svmRBF = fbeta_score(yI, yEst_svmRBF, beta=2)\n",
    "mcc_svmRBF = matthews_corrcoef(yI, yEst_svmRBF)\n",
    "\n",
    "#RF\n",
    "tab_RF = confusion_matrix(yI, yEst_RF)\n",
    "f1_RF = f1_score(yI, yEst_RF)\n",
    "f2_RF = fbeta_score(yI, yEst_RF, beta=2)\n",
    "mcc_RF = matthews_corrcoef(yI, yEst_RF)\n",
    "\n",
    "print('---SVM com kernel Linear---')\n",
    "print('F1-Score:       ',f1_svmRBF)\n",
    "print('Fbeta (beta=2): ',f2_svmRBF)\n",
    "print('MCC:            ',mcc_svmRBF)\n",
    "print(tab_svmRBF)\n",
    "print('')\n",
    "\n",
    "print('---Random Forest---')\n",
    "print('F1-Score:       ',f1_RF)\n",
    "print('Fbeta (beta=2): ',f2_RF)\n",
    "print('MCC:            ',mcc_RF)\n",
    "print(tab_RF)\n",
    "print('')"
   ]
  },
  {
   "cell_type": "code",
   "execution_count": null,
   "metadata": {},
   "outputs": [],
   "source": [
    "#Lembrete....\n",
    "#Organização da matriz de True/False Pos./Neg.\n",
    "#-----------\n",
    "#| TN | FP |\n",
    "#| FN | TP |\n",
    "#-----------"
   ]
  }
 ],
 "metadata": {
  "kernelspec": {
   "display_name": "Python 3",
   "language": "python",
   "name": "python3"
  },
  "language_info": {
   "codemirror_mode": {
    "name": "ipython",
    "version": 3
   },
   "file_extension": ".py",
   "mimetype": "text/x-python",
   "name": "python",
   "nbconvert_exporter": "python",
   "pygments_lexer": "ipython3",
   "version": "3.8.3"
  }
 },
 "nbformat": 4,
 "nbformat_minor": 4
}
