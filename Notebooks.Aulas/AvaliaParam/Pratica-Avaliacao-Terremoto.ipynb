{
 "cells": [
  {
   "cell_type": "markdown",
   "metadata": {},
   "source": [
    "## Declaração de bibliotecas e demais configurações"
   ]
  },
  {
   "cell_type": "code",
   "execution_count": 1,
   "metadata": {},
   "outputs": [],
   "source": [
    "import numpy as np\n",
    "import matplotlib.pyplot as plt\n",
    "from matplotlib import cm\n",
    "import csv\n",
    "import matplotlib.gridspec as gridspec\n",
    "\n",
    "import scipy\n",
    "\n",
    "from sklearn.ensemble import RandomForestClassifier\n",
    "from sklearn.ensemble import AdaBoostClassifier\n",
    "from sklearn import svm\n",
    "\n",
    "\n",
    "from sklearn import preprocessing\n",
    "from sklearn.model_selection import train_test_split\n",
    "\n",
    "from sklearn.metrics import confusion_matrix\n",
    "from sklearn.metrics import cohen_kappa_score\n",
    "from sklearn.metrics import accuracy_score\n",
    "\n",
    "#from matplotlib import rcParams\n",
    "#rcParams['text.usetex'] = True\n",
    "#rcParams['text.latex.preamble'] = r'\\usepackage{amsmath}'"
   ]
  },
  {
   "cell_type": "markdown",
   "metadata": {},
   "source": [
    "## Funções relacionadas ao método ou auxiliares"
   ]
  },
  {
   "cell_type": "code",
   "execution_count": 2,
   "metadata": {},
   "outputs": [],
   "source": [
    "#Função de leitura dos dados------------------------------------\n",
    "def read_class_data(path):\n",
    "    with open(path, newline='') as f:\n",
    "        reader = csv.reader(f,delimiter=',')\n",
    "        for row in reader:\n",
    "            try:\n",
    "                data = np.vstack( (data , np.asarray(row).astype(np.float) ) )\n",
    "            except:\n",
    "                data = np.asarray(row).astype(np.float)\n",
    "    f.close()\n",
    "    y = data[:,0]\n",
    "    x = data[:,1:]\n",
    "    return y,x"
   ]
  },
  {
   "cell_type": "code",
   "execution_count": 3,
   "metadata": {},
   "outputs": [],
   "source": [
    "#--------------------------------------\n",
    "def compute_kappa_varkappa(matConf):\n",
    "    \n",
    "    total = float(sum(sum(matConf)))\n",
    "    c = len(matConf[0])\n",
    "    diag = float(sum(matConf.diagonal()))\n",
    "    acGlobal = float(diag/total)\n",
    "    \n",
    "    marg = 0.0\n",
    "    for i in range(0,c):\n",
    "        marg += sum(matConf[i,:])*sum(matConf[:,i])\n",
    "    \n",
    "    #Coeficiente kappa\n",
    "    kappa = (total*diag - marg)/(total*total - marg)\n",
    "    \n",
    "    phi1 = acGlobal; phi2 = marg/((total)**2)\n",
    "    phi3 = 0.0; phi4 = 0.0\n",
    "    for i in range(0,c):\n",
    "        phi3 += matConf[i,i]*(sum(matConf[i,:])+sum(matConf[:,i]))\n",
    "    for i in range(0,c):\n",
    "        for j in range(0,c):\n",
    "            phi4 += matConf[i,j]*((sum(matConf[j,:])+sum(matConf[:,i]))**2)\n",
    "    \n",
    "    phi3 = phi3/((total)**2)\n",
    "    phi4 = phi4/((total)**3)\n",
    "    \n",
    "    #Variância do coeficiente kappa\n",
    "    vkappa = (1/total)*( ((phi1*(1-phi1))/((1-phi2)**2)) + \n",
    "             ((2*(1-phi1)*(2*phi1*phi2-phi3))/((1-phi2)**3)) + \n",
    "             ((((1-phi1)**2)*(phi4-4*(phi2**2)))/((1-phi2)**4)) )\n",
    "    \n",
    "    \n",
    "    return kappa,vkappa\n",
    "\n",
    "\n",
    "#--------------------------------------\n",
    "def compute_tau_varkappa(matConf):\n",
    "    \n",
    "    total = float(sum(sum(matConf)))\n",
    "    c = len(matConf[0])\n",
    "    diag = float(sum(matConf.diagonal()))\n",
    "    acGlobal = float(diag/total)\n",
    "    \n",
    "    #Coeficiente tau e sua variância\n",
    "    tau = (acGlobal - (1/c))/(1 - (1/c))\n",
    "    vtau = (1/total)*((acGlobal*(1-acGlobal))/((1-(1/c))**2))\n",
    "     \n",
    "    return tau,vtau"
   ]
  },
  {
   "cell_type": "markdown",
   "metadata": {},
   "source": [
    "## Leitura dos dados\n",
    "* Os dados considerados aqui foram obtidos da USGS\n",
    "\n",
    "* Atributos são:\n",
    "    * latitude\n",
    "    * longitude\n",
    "    * depth\n",
    "    * mag\n",
    "    * gap\n",
    "    * dmin\n",
    "    * rms\n",
    "    * horizontalError\n",
    "    * depthError\n",
    "\n",
    "* Classes:\n",
    "    * 1 - MB; (azul escuro)\n",
    "    * 2 - MD; (ciano)\n",
    "    * 3 - ML; (verde)\n",
    "    * 4 - MW; (laranja)\n",
    "    \n",
    "##### Definição dos atributos em: https://earthquake.usgs.gov/data/comcat/data-eventterms.php\n",
    "##### Definição das classes em: https://www.usgs.gov/natural-hazards/earthquake-hazards/science/magnitude-types"
   ]
  },
  {
   "cell_type": "code",
   "execution_count": 4,
   "metadata": {},
   "outputs": [],
   "source": [
    "#Dados\n",
    "path = 'EartQuakes_USGS_mar-abr2020.csv'\n",
    "\n",
    "#Leitura dos dados\n",
    "y,x = read_class_data(path)\n",
    "\n",
    "#Nomes das classes\n",
    "nomesClasses = ['MB','MD','ML','MW']"
   ]
  },
  {
   "cell_type": "markdown",
   "metadata": {},
   "source": [
    "## Visualizacão dos dados de treino/avaliação"
   ]
  },
  {
   "cell_type": "code",
   "execution_count": 5,
   "metadata": {},
   "outputs": [
    {
     "name": "stderr",
     "output_type": "stream",
     "text": [
      "/home/rogerio/anaconda3/lib/python3.8/site-packages/matplotlib/collections.py:922: RuntimeWarning: invalid value encountered in sqrt\n",
      "  scale = np.sqrt(self._sizes) * dpi / 72.0 * self._factor\n"
     ]
    },
    {
     "data": {
      "image/png": "[encoded data removed]",
      "text/plain": [
       "<Figure size 1080x360 with 1 Axes>"
      ]
     },
     "metadata": {
      "needs_background": "light"
     },
     "output_type": "display_data"
    }
   ],
   "source": [
    "classColor = ['darkblue','cyan','green','orange']\n",
    "vecCol = []\n",
    "for i in y: vecCol.append( classColor[int(i-1)] )    \n",
    "\n",
    "FS = (15,5) #Tamanho da figura a ser gerada\n",
    "fig = plt.figure(constrained_layout=True,figsize=FS)\n",
    "spec = gridspec.GridSpec(ncols=1, nrows=1, figure=fig)\n",
    "\n",
    "ax = fig.add_subplot(spec[0, 0])\n",
    "\n",
    "ax.scatter( x[:,1], x[:,0], s=x[:,3], c=vecCol, alpha=0.5, label='Localização/Magnitude')\n",
    "ax.set_xlabel('Longitude',fontsize=20)\n",
    "ax.set_ylabel('Latitude',fontsize=20)\n",
    "\n",
    "ax.set_aspect('equal', 'box')\n",
    "\n",
    "ax.legend(fontsize=10)\n",
    "ax.grid(True)"
   ]
  },
  {
   "cell_type": "markdown",
   "metadata": {},
   "source": [
    "## Separação aleatória dos dados para treinamento e avaliação"
   ]
  },
  {
   "cell_type": "code",
   "execution_count": 7,
   "metadata": {},
   "outputs": [],
   "source": [
    "#Gerar conjunto de treino e avaliação a partir de uma única fonte\n",
    "#N = y.shape[0]\n",
    "percentAvalia = 0.33\n",
    "\n",
    "###Procedimento anterior!\n",
    "##A ordenação dos valores aleatórios segundo seu índice/argumento\n",
    "#posAleatorias = np.argsort(np.random.uniform(0,1, y.shape[0] ))\n",
    "#\n",
    "##Subconjunto de avaliação\n",
    "#yI = y[ posAleatorias[0: np.int64(np.ceil(N*percentAvalia)) ] ]\n",
    "#xI = x[ posAleatorias[0: np.int64(np.ceil(N*percentAvalia)) ] , :]\n",
    "#\n",
    "#Subconjunto de treino\n",
    "#yD = y[ posAleatorias[np.int64(np.floor(N*percentAvalia)):-1] ]\n",
    "#xD = x[ posAleatorias[np.int64(np.floor(N*percentAvalia)):-1] , :]\n",
    "\n",
    "xD, xI, yD, yI = train_test_split(x,y,test_size=percentAvalia)"
   ]
  },
  {
   "cell_type": "markdown",
   "metadata": {},
   "source": [
    "## Escolha dos atributos e normalização dos dados (pelo máximo)"
   ]
  },
  {
   "cell_type": "code",
   "execution_count": 17,
   "metadata": {},
   "outputs": [],
   "source": [
    "#0 - latitude, 1 - longitude, 2 - depth, 3 - mag\n",
    "#4 - gap, 5 - dmin, 6 - rms, 7 - horizontalError, 8 - depthError\n",
    "atributos = [2,3,4,5,6,7,8] #Permite escolhar qual atributo usar\n",
    "xD_sub = xD[:,atributos]\n",
    "xI_sub = xI[:,atributos]\n",
    "\n",
    "#Normalização...\n",
    "#Necessário para a convergência do SVM (normaliza os atributos)\n",
    "normalizer = preprocessing.Normalizer(norm='max').fit(xD_sub)\n",
    "\n",
    "xD_sub = normalizer.transform(xD_sub)\n",
    "xI_sub = normalizer.transform(xI_sub)"
   ]
  },
  {
   "cell_type": "markdown",
   "metadata": {},
   "source": [
    "## Classificação dos dados\n",
    "* SVM (kernel Linear e RBF)\n",
    "* Random Forest"
   ]
  },
  {
   "cell_type": "code",
   "execution_count": 18,
   "metadata": {},
   "outputs": [],
   "source": [
    "#Instanciação dos classificadores\n",
    "svmLin = svm.SVC(C=100, kernel='linear', decision_function_shape='ovr')\n",
    "svmRBF = svm.SVC(C=100, kernel='rbf', gamma=0.5, decision_function_shape='ovr')\n",
    "RF = RandomForestClassifier(n_estimators=100, criterion='entropy', min_samples_split=10, min_impurity_decrease=10**(-5))\n",
    "\n",
    "#Treinamento dos classificadores \n",
    "svmLin.fit(xD_sub,yD)\n",
    "svmRBF.fit(xD_sub,yD)\n",
    "RF.fit(xD_sub,yD)\n",
    "\n",
    "#Aplicação\n",
    "yEst_svmLin = svmLin.predict(xI_sub)\n",
    "yEst_svmRBF = svmRBF.predict(xI_sub)\n",
    "yEst_RF = RF.predict(xI_sub)"
   ]
  },
  {
   "cell_type": "markdown",
   "metadata": {},
   "source": [
    "## Avaliação do desempenho\n",
    "* Matriz de confusão\n",
    "* Acerto global\n",
    "* Coeficiente kappa e tau"
   ]
  },
  {
   "cell_type": "code",
   "execution_count": 19,
   "metadata": {},
   "outputs": [
    {
     "name": "stdout",
     "output_type": "stream",
     "text": [
      "---SVM com kernel Linear---\n",
      "Acerto Global:  0.6645073303784521\n",
      "Kappa:          0.4111656609194524\n",
      "[[ 154    1   68   27]\n",
      " [   1  772  573    2]\n",
      " [  16  293 1023    3]\n",
      " [   0    0    0    0]]\n",
      "\n",
      "---SVM com kernel RBF---\n",
      "Acerto Global:  0.686327991817252\n",
      "Kappa:          0.42884973873044185\n",
      "[[ 143    1   29   23]\n",
      " [   1  710  475    1]\n",
      " [  27  355 1160    8]\n",
      " [   0    0    0    0]]\n",
      "\n",
      "---Random Forest---\n",
      "Acerto Global:  0.8772587794067508\n",
      "Kappa:          0.7710970208013209\n",
      "[[ 155    0    6   20]\n",
      " [   0  879  125    1]\n",
      " [  10  187 1533    5]\n",
      " [   6    0    0    6]]\n",
      "\n"
     ]
    }
   ],
   "source": [
    "matConf_svmLin = confusion_matrix(yI, yEst_svmLin)\n",
    "matConf_svmRBF = confusion_matrix(yI, yEst_svmRBF)\n",
    "matConf_RF = confusion_matrix(yI, yEst_RF)\n",
    "\n",
    "acGlobal_svmLin = accuracy_score(yI, yEst_svmLin, normalize=True)\n",
    "kappa_svmLin = cohen_kappa_score(yI, yEst_svmLin)\n",
    "\n",
    "acGlobal_svmRBF = accuracy_score(yI, yEst_svmRBF, normalize=True)\n",
    "kappa_svmRBF = cohen_kappa_score(yI, yEst_svmRBF)\n",
    "\n",
    "acGlobal_RF = accuracy_score(yI, yEst_RF, normalize=True)\n",
    "kappa_RF = cohen_kappa_score(yI, yEst_RF)\n",
    "\n",
    "print('---SVM com kernel Linear---')\n",
    "print('Acerto Global: ',acGlobal_svmLin)\n",
    "print('Kappa:         ',kappa_svmLin)\n",
    "print(matConf_svmLin.T)\n",
    "print('')\n",
    "\n",
    "print('---SVM com kernel RBF---')\n",
    "print('Acerto Global: ',acGlobal_svmRBF)\n",
    "print('Kappa:         ',kappa_svmRBF)\n",
    "print(matConf_svmRBF.T)\n",
    "print('')\n",
    "\n",
    "print('---Random Forest---')\n",
    "print('Acerto Global: ',acGlobal_RF)\n",
    "print('Kappa:         ',kappa_RF)\n",
    "print(matConf_RF.T)\n",
    "print('')"
   ]
  },
  {
   "cell_type": "markdown",
   "metadata": {},
   "source": [
    "## Comparação entre kappa e tau"
   ]
  },
  {
   "cell_type": "code",
   "execution_count": 20,
   "metadata": {},
   "outputs": [
    {
     "name": "stdout",
     "output_type": "stream",
     "text": [
      "SVM+RBF ------ kappa: 0.428850  var.kappa: 0.000256  tau: 0.581771  var.tau: 0.000130\n",
      "Rand.Forest -- kappa: 0.771097  var.kappa: 0.000128  tau: 0.836345  var.tau: 0.000065\n"
     ]
    }
   ],
   "source": [
    "kappa_svmRBF, vkappa_svmRBF = compute_kappa_varkappa(matConf_svmRBF)\n",
    "tau_svmRBF, vtau_svmRBF = compute_tau_varkappa(matConf_svmRBF)\n",
    "\n",
    "kappa_RF, vkappa_RF = compute_kappa_varkappa(matConf_RF)\n",
    "tau_RF, vtau_RF = compute_tau_varkappa(matConf_RF)\n",
    "\n",
    "print('SVM+RBF ------ kappa: %f  var.kappa: %f  tau: %f  var.tau: %f'\n",
    "      %(kappa_svmRBF, vkappa_svmRBF,tau_svmRBF, vtau_svmRBF))\n",
    "\n",
    "print('Rand.Forest -- kappa: %f  var.kappa: %f  tau: %f  var.tau: %f'\n",
    "      %(kappa_RF, vkappa_RF,tau_RF, vtau_RF))"
   ]
  },
  {
   "cell_type": "markdown",
   "metadata": {},
   "source": [
    "## Teste de hipóteses para comparação entre coefs. kappa (ou tau)"
   ]
  },
  {
   "cell_type": "code",
   "execution_count": 21,
   "metadata": {},
   "outputs": [
    {
     "name": "stdout",
     "output_type": "stream",
     "text": [
      "p-valor -- unilateral: 0.000000  bilateral: 0.000000\n",
      "Teste unilateral rejeita H0\n",
      "Teste bilateral rejeita H_0\n"
     ]
    }
   ],
   "source": [
    "significancia = 0.05\n",
    "\n",
    "kappa1 = kappa_svmRBF;  vkappa1 = vkappa_svmRBF\n",
    "kappa2 = kappa_RF;  vkappa2 = vkappa_RF\n",
    "\n",
    "z_kappa = (kappa1 - kappa2)/np.sqrt(vkappa1 + vkappa2)\n",
    "\n",
    "#teste unilateral -- kappa1 dif. kappa2\n",
    "pVal_uni = 1 - scipy.stats.norm.cdf(np.abs(z_kappa))\n",
    "\n",
    "#teste bilateral -- kappa1 > kappa2\n",
    "pVal_bil = 1 - 2*(scipy.stats.norm.cdf(np.abs(z_kappa)) - 0.5)\n",
    "\n",
    "print('p-valor -- unilateral: %f  bilateral: %f'%(pVal_uni,pVal_bil))\n",
    "\n",
    "if pVal_uni < significancia: print('Teste unilateral rejeita H0')\n",
    "else: print('Teste unilateral não rejeita H0')\n",
    "    \n",
    "if pVal_bil < significancia: print('Teste bilateral rejeita H_0')\n",
    "else: print('Teste unilateral não rejeita H0')"
   ]
  },
  {
   "cell_type": "markdown",
   "metadata": {},
   "source": [
    "## Prévia sobre seleção do modelo\n",
    "### (\"Grid Search simplificado\")"
   ]
  },
  {
   "cell_type": "code",
   "execution_count": 22,
   "metadata": {},
   "outputs": [
    {
     "data": {
      "image/png": "[encoded data removed]",
      "text/plain": [
       "<Figure size 432x288 with 1 Axes>"
      ]
     },
     "metadata": {
      "needs_background": "light"
     },
     "output_type": "display_data"
    }
   ],
   "source": [
    "percentAvalia = 0.33\n",
    "repeticoes = 10\n",
    "\n",
    "fator = np.linspace(-2,2,10)\n",
    "vecPerformance = []\n",
    "vecGamma = []\n",
    "for f in fator:\n",
    "    gam = 10**f; vecGamma.append(gam)\n",
    "    svmRBF = svm.SVC(C=100, kernel='rbf', gamma=gam, decision_function_shape='ovr')\n",
    "    vec = []\n",
    "    for j in range(repeticoes):\n",
    "        xD_sel_train, xI_sel_test, yD_sel_train, yI_sel_test = train_test_split(xD_sub, yD, test_size=percentAvalia,shuffle=True)\n",
    "        \n",
    "        svmRBF.fit(xD_sel_train,yD_sel_train)\n",
    "        yEst = svmRBF.predict(xI_sel_test)    \n",
    "        vec.append( cohen_kappa_score(yI_sel_test, yEst) )\n",
    "    \n",
    "    vecPerformance.append(np.mean(vec))\n",
    "\n",
    "plt.plot(vecGamma, vecPerformance, 'r-')\n",
    "plt.xlabel(r'$\\gamma$',fontsize=20)\n",
    "plt.ylabel(r'$\\kappa$ (médio)',fontsize=20)\n",
    "\n",
    "plt.show()"
   ]
  },
  {
   "cell_type": "code",
   "execution_count": 24,
   "metadata": {},
   "outputs": [
    {
     "name": "stdout",
     "output_type": "stream",
     "text": [
      "gamma: 0.010000   kappa: 0.676026\n",
      "gamma: 0.027826   kappa: 0.680726\n",
      "gamma: 0.077426   kappa: 0.720121\n",
      "gamma: 0.215443   kappa: 0.727059\n",
      "gamma: 0.599484   kappa: 0.733939\n",
      "gamma: 1.668101   kappa: 0.747233\n",
      "gamma: 4.641589   kappa: 0.741636\n",
      "gamma: 12.915497   kappa: 0.751995\n",
      "gamma: 35.938137   kappa: 0.765915\n",
      "gamma: 100.000000   kappa: 0.749129\n"
     ]
    }
   ],
   "source": [
    "for a,b in zip(vecGamma,vecPerformance):\n",
    "    print('gamma: %f   kappa: %f'%(a,b))"
   ]
  },
  {
   "cell_type": "markdown",
   "metadata": {},
   "source": [
    "## Incrementando o processo de seleção dos parâmetros\n",
    "* Agora com $\\gamma$ e $C$ (penalidade)"
   ]
  },
  {
   "cell_type": "code",
   "execution_count": 25,
   "metadata": {},
   "outputs": [],
   "source": [
    "percentAvalia = 0.33\n",
    "repeticoes = 5\n",
    "\n",
    "N1, N2 = 5, 5\n",
    "\n",
    "fatorG = np.linspace(-2,2,N1)\n",
    "fatorP = np.linspace(-2,5,N2)\n",
    "\n",
    "matPars = np.zeros((3,N1,N2))\n",
    "\n",
    "for i in range(N1):\n",
    "    gam = 10**fatorG[i]\n",
    "    for j in range(N2):\n",
    "        pen = 10**fatorP[j]\n",
    "        svmRBF = svm.SVC(C=pen, kernel='rbf', gamma=gam, decision_function_shape='ovr')\n",
    "        \n",
    "        vec = []\n",
    "        for k in range(repeticoes):\n",
    "            xD_sel_train, xI_sel_test, yD_sel_train, yI_sel_test = train_test_split(xD_sub, yD, test_size=percentAvalia,shuffle=True)\n",
    "        \n",
    "            svmRBF.fit(xD_sel_train,yD_sel_train)\n",
    "            yEst = svmRBF.predict(xI_sel_test)    \n",
    "            vec.append( cohen_kappa_score(yI_sel_test, yEst) )\n",
    "    \n",
    "        matPars[0,i,j] = gam\n",
    "        matPars[1,i,j] = pen\n",
    "        matPars[2,i,j] = np.mean(vec)"
   ]
  },
  {
   "cell_type": "code",
   "execution_count": 26,
   "metadata": {},
   "outputs": [
    {
     "data": {
      "image/png": "[encoded data removed]",
      "text/plain": [
       "<Figure size 432x288 with 2 Axes>"
      ]
     },
     "metadata": {
      "needs_background": "light"
     },
     "output_type": "display_data"
    }
   ],
   "source": [
    "fig, ax = plt.subplots()\n",
    "ax = plt.contourf(np.log10(matPars[0,:,:]),np.log10(matPars[1,:,:]),matPars[2,:,:],cmap=cm.PuBu_r)\n",
    "plt.xlabel(r'$\\log_{10}(\\gamma)$',fontsize=20)\n",
    "plt.ylabel(r'$\\log_{10}(C)$',fontsize=20)\n",
    "\n",
    "cbar = fig.colorbar(ax)\n",
    "plt.show()"
   ]
  },
  {
   "cell_type": "code",
   "execution_count": null,
   "metadata": {},
   "outputs": [],
   "source": []
  }
 ],
 "metadata": {
  "kernelspec": {
   "display_name": "Python 3",
   "language": "python",
   "name": "python3"
  },
  "language_info": {
   "codemirror_mode": {
    "name": "ipython",
    "version": 3
   },
   "file_extension": ".py",
   "mimetype": "text/x-python",
   "name": "python",
   "nbconvert_exporter": "python",
   "pygments_lexer": "ipython3",
   "version": "3.8.3"
  }
 },
 "nbformat": 4,
 "nbformat_minor": 4
}
