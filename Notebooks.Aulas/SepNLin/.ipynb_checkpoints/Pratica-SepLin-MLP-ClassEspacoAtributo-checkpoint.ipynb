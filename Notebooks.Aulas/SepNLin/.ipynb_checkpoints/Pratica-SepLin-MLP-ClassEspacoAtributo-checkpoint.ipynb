{
 "cells": [
  {
   "cell_type": "markdown",
   "metadata": {},
   "source": [
    "## Declaração de bibliotecas e demais configurações"
   ]
  },
  {
   "cell_type": "code",
   "execution_count": 1,
   "metadata": {},
   "outputs": [],
   "source": [
    "import numpy as np\n",
    "import matplotlib.pyplot as plt\n",
    "from matplotlib import cm\n",
    "import csv\n",
    "\n",
    "from sklearn.neural_network import MLPClassifier\n",
    "\n",
    "from matplotlib import rcParams\n",
    "rcParams['text.usetex'] = True\n",
    "rcParams['text.latex.preamble'] = r'\\usepackage{amsmath}'"
   ]
  },
  {
   "cell_type": "markdown",
   "metadata": {},
   "source": [
    "## Funções relacionadas ao método ou auxiliares"
   ]
  },
  {
   "cell_type": "code",
   "execution_count": 2,
   "metadata": {},
   "outputs": [],
   "source": [
    "#Função de leitura dos dados------------------------------------\n",
    "def read_class_data(path):\n",
    "    with open(path, newline='') as f:\n",
    "        reader = csv.reader(f,delimiter=',')\n",
    "        for row in reader:\n",
    "            try:\n",
    "                data = np.vstack( (data , np.asarray(row).astype(np.float) ) )\n",
    "            except:\n",
    "                data = np.asarray(row).astype(np.float)\n",
    "    f.close()\n",
    "    y = data[:,0]\n",
    "    x = data[:,1:]\n",
    "    return y,x"
   ]
  },
  {
   "cell_type": "markdown",
   "metadata": {},
   "source": [
    "## Leitura dos dados\n",
    "* Fazemos aqui a leitura dos dados simulados no 'juputer-notebook':\"Pratica-SepLin-SimulacaoDados\"\n",
    "* $\\texttt{path_D}$ corresponde aos dados de treinamento\n",
    "* $\\texttt{path_I}$ corresponde aos dados usados para avaliação do método"
   ]
  },
  {
   "cell_type": "code",
   "execution_count": 3,
   "metadata": {},
   "outputs": [],
   "source": [
    "#Dados de treinamento\n",
    "path_D = 'conjuntoD.txt'\n",
    "\n",
    "#Dados de avaliação\n",
    "path_I = 'conjuntoI.txt'\n",
    "\n",
    "#Leitura dos dados\n",
    "yD,xD_ = read_class_data(path_D)\n",
    "yI,xI_ = read_class_data(path_I)"
   ]
  },
  {
   "cell_type": "markdown",
   "metadata": {},
   "source": [
    "## Normalização dos dados..."
   ]
  },
  {
   "cell_type": "code",
   "execution_count": 4,
   "metadata": {},
   "outputs": [],
   "source": [
    "from sklearn import preprocessing\n",
    "\n",
    "escalonador = preprocessing.MinMaxScaler()\n",
    "\n",
    "escalonador.fit(xD_)\n",
    "xD = escalonador.transform(xD_)\n",
    "xI = escalonador.transform(xI_)"
   ]
  },
  {
   "cell_type": "code",
   "execution_count": 7,
   "metadata": {},
   "outputs": [
    {
     "data": {
      "text/plain": [
       "1.252590398056317"
      ]
     },
     "execution_count": 7,
     "metadata": {},
     "output_type": "execute_result"
    }
   ],
   "source": [
    "xI.max()\n"
   ]
  },
  {
   "cell_type": "markdown",
   "metadata": {},
   "source": [
    "## Classificação dos dados\n",
    "---\n",
    "* \"g = MLPClassifier\" é a oinstanciação do classificador MLP\n",
    "* \"g.fit\" e \"g.predict\" realiza o treinamento e aplicação do métotdo na predição de classes\n",
    "---\n",
    "* Definimos a arquiteturas (segundo $\\texttt{hidden_layer_sizes}$):\n",
    "* Os demais parâmetros podem ser consultados na documentação"
   ]
  },
  {
   "cell_type": "code",
   "execution_count": 8,
   "metadata": {},
   "outputs": [
    {
     "data": {
      "text/plain": [
       "MLPClassifier(activation='logistic', hidden_layer_sizes=2, max_iter=10000,\n",
       "              random_state=1, solver='lbfgs', tol=1e-05)"
      ]
     },
     "execution_count": 8,
     "metadata": {},
     "output_type": "execute_result"
    }
   ],
   "source": [
    "arquitetura = (2)\n",
    "\n",
    "g = MLPClassifier(solver='lbfgs', hidden_layer_sizes=arquitetura, max_iter=10000, tol=10**(-5),\n",
    "    activation='logistic', learning_rate='constant', shuffle=True, random_state=1)\n",
    "\n",
    "g.fit(xD,yD)"
   ]
  },
  {
   "cell_type": "markdown",
   "metadata": {},
   "source": [
    "## Classificação do espaço de atributos \n",
    "### (na verdade, vamos classificar um conjunto ampo de elementos neste espaço!)\n",
    "* Como já sabemos, a classificação (predição) é realizada pelo método 'predict'\n",
    "* Para fins de visualização,é preciso compatibilizar os elementos (veja código)"
   ]
  },
  {
   "cell_type": "code",
   "execution_count": null,
   "metadata": {},
   "outputs": [],
   "source": [
    "minX, maxX = (np.min(xI[:,0]), np.max(xI[:,0]))\n",
    "minY, maxY = (np.min(xI[:,1]), np.max(xI[:,1]))\n",
    "\n",
    "N = 50\n",
    "X1 = np.linspace(minX, maxX,N)\n",
    "X2 = np.linspace(minY, maxY,N)\n",
    "X1, X2 = np.meshgrid(X1, X2)\n",
    "\n",
    "cla = np.ndarray((N,N))\n",
    "for i in range(0,N):\n",
    "    for j in range(0,N):\n",
    "        cla[i,j] = g.predict( [ [X1[i,j] , X2[i,j]] ] ) \n",
    "\n",
    "plt.contourf(X1, X2, cla, cmap=cm.Set3,alpha=0.5)\n",
    "\n",
    "plt.plot( xI[np.where(yI == 0), 0], xI[np.where(yI == 0), 1], 's', color='green', markersize=2)\n",
    "plt.plot( xI[np.where(yI == 1), 0], xI[np.where(yI == 1), 1], 's', color='red', markersize=2)\n",
    "plt.plot( xI[np.where(yI == 2), 0], xI[np.where(yI == 2), 1], 's', color='grey', markersize=2)\n",
    "plt.plot( xI[np.where(yI == 3), 0], xI[np.where(yI == 3), 1], 's', color='orange', markersize=2)\n",
    "\n",
    "plt.xlabel(r'$x_1$', fontsize=22)\n",
    "plt.ylabel(r'$x_2$', fontsize=22)\n",
    "\n",
    "plt.show()"
   ]
  },
  {
   "cell_type": "code",
   "execution_count": null,
   "metadata": {},
   "outputs": [],
   "source": []
  }
 ],
 "metadata": {
  "kernelspec": {
   "display_name": "Python 3",
   "language": "python",
   "name": "python3"
  },
  "language_info": {
   "codemirror_mode": {
    "name": "ipython",
    "version": 3
   },
   "file_extension": ".py",
   "mimetype": "text/x-python",
   "name": "python",
   "nbconvert_exporter": "python",
   "pygments_lexer": "ipython3",
   "version": "3.8.3"
  }
 },
 "nbformat": 4,
 "nbformat_minor": 4
}
