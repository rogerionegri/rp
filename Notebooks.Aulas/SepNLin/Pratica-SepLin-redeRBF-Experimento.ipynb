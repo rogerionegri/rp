{
 "cells": [
  {
   "cell_type": "markdown",
   "metadata": {},
   "source": [
    "## Declaração de bibliotecas e demais configurações"
   ]
  },
  {
   "cell_type": "code",
   "execution_count": 11,
   "metadata": {},
   "outputs": [],
   "source": [
    "import numpy as np\n",
    "import matplotlib.pyplot as plt\n",
    "from matplotlib import cm\n",
    "import csv\n",
    "import matplotlib.gridspec as gridspec\n",
    "\n",
    "#import sklearn\n",
    "#from sklearn import svm\n",
    "\n",
    "from matplotlib import rcParams\n",
    "rcParams['text.usetex'] = True\n",
    "rcParams['text.latex.preamble'] = r'\\usepackage{amsmath}'\n",
    "\n",
    "np.random.seed(12345) #Deseja fixar a semente geradora de números aleatórios?"
   ]
  },
  {
   "cell_type": "markdown",
   "metadata": {},
   "source": [
    "## Funções relacionadas ao método ou auxiliares"
   ]
  },
  {
   "cell_type": "code",
   "execution_count": 12,
   "metadata": {},
   "outputs": [],
   "source": [
    "#Função de leitura dos dados------------------------------------\n",
    "def read_class_data(path):\n",
    "    with open(path, newline='') as f:\n",
    "        reader = csv.reader(f,delimiter=',')\n",
    "        for row in reader:\n",
    "            try:\n",
    "                data = np.vstack( (data , np.asarray(row).astype(np.float) ) )\n",
    "            except:\n",
    "                data = np.asarray(row).astype(np.float)\n",
    "    f.close()\n",
    "    y = data[:,0]\n",
    "    x = data[:,1:]\n",
    "    return y,x\n",
    "\n",
    "\n",
    "\n",
    "#obtem centroide e variância via KMedias \n",
    "def init_kmeans(data,k,epsilon):\n",
    "    m,dim = data.shape\n",
    "\n",
    "    randPos = np.random.randint(0,m,k)\n",
    "    cent = np.copy(data[randPos,:])\n",
    "    centAnt = np.copy(data[randPos,:])\n",
    "    count_cent = np.zeros((k))\n",
    "    \n",
    "    dist = np.zeros((k))\n",
    "    it = 0\n",
    "    while True:\n",
    "        for i in range(0,m):\n",
    "            for j in range(0,k):\n",
    "                dist[j] = np.linalg.norm(cent[j,:] - data[i,:])\n",
    "            posMin = np.where(dist == np.min(dist))\n",
    "            cent[posMin,:] += data[i,:]\n",
    "            count_cent[posMin] += 1\n",
    "        \n",
    "        deslocamento = 0\n",
    "        for j in range(0,k):\n",
    "            cent[j,:] /= count_cent[j]\n",
    "            deslocamento += np.linalg.norm(cent[j,:] - centAnt[j,:])\n",
    "            centAnt[j,:] = cent[j,:]\n",
    "\n",
    "        it += 1\n",
    "        if (deslocamento < epsilon) or (it > 1000): break\n",
    "\n",
    "        \n",
    "\n",
    "    #Cálculo dos campos receptivos ----------------------------------\n",
    "    campos = np.ones((k))\n",
    "    count_campos = np.zeros((k)) \n",
    "    for i in range(0,m):\n",
    "        for j in range(0,k):\n",
    "            dist[j] = np.linalg.norm(cent[j,:] - data[i,:])\n",
    "            posMin = np.where(dist == np.min(dist))\n",
    "        \n",
    "        count_campos[posMin] += 1\n",
    "        campos[posMin] += np.linalg.norm( cent[posMin,:] - data[i,:] )\n",
    "    \n",
    "    for j in range(0,k):\n",
    "        campos[j] /= (count_campos[j] + 1)\n",
    "    #-----------------------------------------------------------------\n",
    "    \n",
    "    return cent, campos\n",
    "\n",
    "\n",
    "#Função que transforma y das forma \"índice\" para \"vetor\"--------------\n",
    "def expected_output(y):\n",
    "    uy = np.unique(y)  #indices existentes\n",
    "    nclass = np.size(uy)\n",
    "    m = np.shape(y)[0] #número de exemplos\n",
    "    vecY = np.zeros( (nclass,m) )\n",
    "    for i in range(0,m):\n",
    "        pos = np.where(uy == y[i])\n",
    "        vecY[pos,i] = 1\n",
    "    return vecY\n",
    "\n",
    "\n",
    "#Função que faz o mapeamento dos dados pelos neurônios escondidos da RBF\n",
    "def map_rbf(x,mu,sig):\n",
    "    m = x.shape[0]\n",
    "    k = mu.shape[0]\n",
    "    mappedX = np.ndarray((m,k))\n",
    "    for i in range(0,m):\n",
    "        for j in range(0,k):\n",
    "            mappedX[i,j] = np.exp(-(np.linalg.norm(x[i,:] - mu[j,:])**2)/(2*(sig[j]**2)) )\n",
    "    return mappedX\n",
    "\n",
    "\n",
    "\n",
    "def train_rbf_net(x,y,k,epsilon):\n",
    "\n",
    "    #Indicador de classe vetorial\n",
    "    codeY = expected_output(y) \n",
    "\n",
    "    #Parâmetros dos neurônios da camada escondida (fase não supervisionado)\n",
    "    cent, campo = init_kmeans(x,k,epsilon)\n",
    "    \n",
    "    #Mapeamento dos dados de acordo com os neurônios da camada escondida\n",
    "    mapX = map_rbf(x,cent,campo)    \n",
    "\n",
    "    #Ajuste dos pesos da camada de saída (fase supervisionado)\n",
    "    A = np.dot( mapX.T , mapX)\n",
    "    B = np.linalg.inv(A)\n",
    "    C = np.dot(B , mapX.T)\n",
    "    W = np.dot( C , codeY.T)\n",
    "    return W, cent, campo\n",
    "\n",
    "\n",
    "#Classificação com a rede RBF\n",
    "def class_rbf_net(x,mu,sig,W):\n",
    "    \n",
    "    #Mapeia o elemento\n",
    "    k = mu.shape[0]; mx = np.ndarray((k))\n",
    "    for j in range(0,k): mx[j] = np.exp( -(np.linalg.norm(x - mu[j,:])**2)/(2*(sig[j]**2)) )\n",
    "\n",
    "    #Aplica os pesos da última camada e decide em favor da maior resposta\n",
    "    v = np.reshape( np.dot( np.reshape( mx , (1,W.shape[0])), W) , (W.shape[1]) )\n",
    "    pos = np.where(v == np.max(v))\n",
    "    \n",
    "    return pos[0]+1"
   ]
  },
  {
   "cell_type": "markdown",
   "metadata": {},
   "source": [
    "## Leitura dos dados\n",
    "* Os dados considerados aqui foram obtidos do Observatório de Alagamento de Dartmounth (http://www.dartmouth.edu)\n",
    "\n",
    "* Atributos são: Classe(indice-classe),Severidade,Longitude,Latitute,Duração (dias),Área afetada ($km^2$), Magnitude\n",
    "* Maginitde = $log(Severidade \\times Duracao \\times Area\\_afetada)$\n",
    "\n",
    "* Classes: \n",
    "    * 1 - Chuva forte; (azul escuro)\n",
    "    * 2 - Derretimento de gelo; (ciano)\n",
    "    * 3 - Chuva torrencial; (verde)\n",
    "    * 4 - Chuva de monção; (laranja)\n",
    "    * 5 - Outros (ciclone, tornado, questões relacionadas a barragens e gelo) (magenta)"
   ]
  },
  {
   "cell_type": "code",
   "execution_count": 13,
   "metadata": {},
   "outputs": [],
   "source": [
    "#Dados de treinamento\n",
    "path = 'FloodData.csv'\n",
    "\n",
    "#Leitura dos dados\n",
    "y,x_ = read_class_data(path)"
   ]
  },
  {
   "cell_type": "markdown",
   "metadata": {},
   "source": [
    "## Normalizar os dados... é interessante..."
   ]
  },
  {
   "cell_type": "code",
   "execution_count": 14,
   "metadata": {},
   "outputs": [],
   "source": [
    "x = np.copy(x_) #Cópia da variável\n",
    "AtributosNormalizar = [2,3,4,5]\n",
    "for i in AtributosNormalizar:\n",
    "    mi = x[:,i].min()\n",
    "    ma = x[:,i].max()\n",
    "    a = 1/(ma-mi)\n",
    "    b = -mi/(ma-mi)\n",
    "    x[:,i] = a*x[:,i] + b"
   ]
  },
  {
   "cell_type": "markdown",
   "metadata": {},
   "source": [
    "## Separação aleatória dos dados para treinamento e avaliação\n",
    "* Veremos ainda processos mais sofisticados que este (apesar deste ser útil também!)\n",
    "* É definida uma porcentagem destinada para avaliação, e restante é usado para treino\n",
    "* Tal divisão é aleatoria:\n",
    "    * Uma sequência de tamanho equivalente a quantidade de dados e gerada\n",
    "    * Em seguida, tal sequência é ordenada e o índice que define a ordenação é considerado\n",
    "    * A primeira parcela de P% dos dados é usado para avaliação e (100-P)% para treino"
   ]
  },
  {
   "cell_type": "code",
   "execution_count": 15,
   "metadata": {},
   "outputs": [],
   "source": [
    "#Gerar conjunto de treino e avaliação a partir de uma única fonte\n",
    "N = y.shape[0]\n",
    "percentAvalia = 0.33\n",
    "\n",
    "#A ordenação dos valores aleatórios segundo seu índice/argumento\n",
    "#O resultado é uma nova ordem aleatória (mais conveniente para este caso)\n",
    "posAleatorias = np.argsort(np.random.uniform(0,1, y.shape[0] ))\n",
    "\n",
    "#Subconjunto de avaliação\n",
    "yI = y[ posAleatorias[0: np.int64(np.ceil(N*percentAvalia)) ] ]\n",
    "xI = x[ posAleatorias[0: np.int64(np.ceil(N*percentAvalia)) ] , :]\n",
    "\n",
    "#Subconjunto de treino\n",
    "yD = y[ posAleatorias[np.int64(np.floor(N*percentAvalia)):-1] ]\n",
    "xD = x[ posAleatorias[np.int64(np.floor(N*percentAvalia)):-1] , :]"
   ]
  },
  {
   "cell_type": "markdown",
   "metadata": {},
   "source": [
    "## Visualizacão dos dados de treino/avaliação"
   ]
  },
  {
   "cell_type": "code",
   "execution_count": 16,
   "metadata": {},
   "outputs": [
    {
     "data": {
      "image/png": "[encoded data removed]",
      "text/plain": [
       "<Figure size 720x720 with 1 Axes>"
      ]
     },
     "metadata": {
      "needs_background": "light"
     },
     "output_type": "display_data"
    }
   ],
   "source": [
    "FS = (10,10) #Tamanho da figura a ser gerada\n",
    "fig = plt.figure(constrained_layout=True,figsize=FS)\n",
    "spec = gridspec.GridSpec(ncols=1, nrows=1, figure=fig)\n",
    "\n",
    "ax = fig.add_subplot(spec[0,0])\n",
    "\n",
    "ax.scatter( xD[:,0], xD[:,1], s=xD[:,5]*10, c='blue', alpha=0.5, label='Treino/Magnitude')\n",
    "ax.scatter( xI[:,0], xI[:,1], s=xI[:,5]*10, c='red', alpha=0.5, label='Teste/Magnitude')\n",
    "ax.set_xlabel('Longitude',fontsize=20)\n",
    "ax.set_ylabel('Latitude',fontsize=20)\n",
    "\n",
    "ax.set(xlim=(np.min(xD[:,0])-1,np.max(xD[:,0])+1), ylim=(np.min(xD[:,1])-1,np.max(xD[:,1])+1))\n",
    "ax.set_aspect('equal', 'box')\n",
    "\n",
    "ax.legend(fontsize=10)\n",
    "ax.grid(True)"
   ]
  },
  {
   "cell_type": "markdown",
   "metadata": {},
   "source": [
    "## Visualizacão dos dados de treino/classe"
   ]
  },
  {
   "cell_type": "code",
   "execution_count": 17,
   "metadata": {},
   "outputs": [
    {
     "data": {
      "image/png": "[encoded data removed]",
      "text/plain": [
       "<Figure size 720x720 with 1 Axes>"
      ]
     },
     "metadata": {
      "needs_background": "light"
     },
     "output_type": "display_data"
    }
   ],
   "source": [
    "#Usado na estilização do gráfico\n",
    "indClasse = [1,2,3,4,5]\n",
    "cores = ['blue', 'darkcyan', 'darkgreen', 'darkorange', 'magenta']\n",
    "simbolos = ['s', 'd', 'D', '^', '*']\n",
    "nomes = ['Chuva forte', 'Derretimento de gelo', 'Chuva torrencial', 'Chuva de monção', 'Outros']\n",
    "\n",
    "FS = (10,10) #Tamanho da figura a ser gerada\n",
    "fig = plt.figure(constrained_layout=True,figsize=FS)\n",
    "spec = gridspec.GridSpec(ncols=1, nrows=1, figure=fig)\n",
    "\n",
    "ax = fig.add_subplot(spec[0, 0])\n",
    "\n",
    "for i,cor,simb,rotulo in zip(indClasse,cores,simbolos,nomes):\n",
    "    pos = np.where(yD == i)[0]\n",
    "    ax.scatter( xD[pos,0], xD[pos,1], s=xD[pos,5]*10, c=cor, marker=simb, alpha=0.5, label=rotulo)\n",
    "    \n",
    "ax.set_xlabel('Longitude',fontsize=20)\n",
    "ax.set_ylabel('Latitude',fontsize=20)\n",
    "\n",
    "ax.set(xlim=(np.min(xD[:,0])-1,np.max(xD[:,0])+1), ylim=(np.min(xD[:,1])-1,np.max(xD[:,1])+1))\n",
    "ax.set_aspect('equal', 'box')\n",
    "\n",
    "ax.legend()\n",
    "ax.grid(True)"
   ]
  },
  {
   "cell_type": "markdown",
   "metadata": {},
   "source": [
    "## Classificação dos dados\n",
    "#### Parâmetros:\n",
    "* $\\texttt{k}$: número de neurônios na camada escondida\n",
    "* $\\texttt{epsilon}$: citério de convergência usado pelo método K-Médias (além de 1000 iterações)"
   ]
  },
  {
   "cell_type": "code",
   "execution_count": 40,
   "metadata": {},
   "outputs": [
    {
     "name": "stdout",
     "output_type": "stream",
     "text": [
      "[[0.         0.00869565 0.00258583 0.15907666]\n",
      " [0.         0.03478261 0.33949212 0.66888485]\n",
      " [0.04761905 0.06086957 0.01477248 0.46799941]\n",
      " [0.         0.02608696 0.02224896 0.40559683]\n",
      " [0.04761905 0.0173913  0.01188502 0.36096425]\n",
      " [0.         0.06956522 0.07424913 0.58556191]\n",
      " [0.04761905 0.07826087 0.06895544 0.6247687 ]\n",
      " [0.         0.03478261 0.13960383 0.58930218]\n",
      " [0.         0.         0.01619903 0.25325476]\n",
      " [0.         0.00869565 0.00258583 0.15907666]]\n"
     ]
    }
   ],
   "source": [
    "#Arquiteturas consideradas\n",
    "k = 10\n",
    "epsilon = 0.05\n",
    "\n",
    "#0- Longitude, 1 - Latitute, \n",
    "#2 - Severidade, 3 - Duração (dias), 4- Área afetada (𝑘𝑚2), 5 - Magnitude\n",
    "atributos = [2,3,4,5] #Permite escolhar qual atributo usar\n",
    "xD_sub = xD[:,atributos]\n",
    "xI_sub = xI[:,atributos]\n",
    "\n",
    "\n",
    "#Treinamento...\n",
    "W, cent, campo = train_rbf_net(xD_sub,yD,k,epsilon)"
   ]
  },
  {
   "cell_type": "markdown",
   "metadata": {},
   "source": [
    "## Avaliação do desempenho\n",
    "* Análise baseada na concordância (%) entre Predição $vs$ Esperado."
   ]
  },
  {
   "cell_type": "code",
   "execution_count": 41,
   "metadata": {},
   "outputs": [
    {
     "name": "stdout",
     "output_type": "stream",
     "text": [
      "Acurácia:  0.36220472440944884\n"
     ]
    }
   ],
   "source": [
    "#Predição efetuada por cada uma das redes\n",
    "N = yI.shape[0]\n",
    "\n",
    "yEst = np.zeros(N)\n",
    "for i in range(0,N):\n",
    "    padrao = xI_sub[i,:]\n",
    "    yEst[i] = class_rbf_net(padrao, cent, campo, W)\n",
    "    \n",
    "#Concordâncias...\n",
    "concord_g = np.count_nonzero(yEst == yI) / yI.shape[0]\n",
    "\n",
    "print('Acurácia: ', concord_g)"
   ]
  },
  {
   "cell_type": "markdown",
   "metadata": {},
   "source": [
    "## Qual classe acerta/erra mais? (com relação à melhor classificação acima)"
   ]
  },
  {
   "cell_type": "code",
   "execution_count": 10,
   "metadata": {},
   "outputs": [
    {
     "name": "stdout",
     "output_type": "stream",
     "text": [
      "Chuva forte :  0.0 \n",
      "Derretimento de gelo :  0.0 \n",
      "Chuva torrencial :  82.75862068965517 \n",
      "Chuva de monção :  34.48275862068966 \n",
      "Outros :  27.027027027027028 \n"
     ]
    }
   ],
   "source": [
    "for i,rotulo in zip(indClasse,nomes):\n",
    "    posClasse = np.where(yI == i)[0]\n",
    "    acc = np.count_nonzero(yEst[posClasse] == yI[posClasse]) / yI[posClasse].shape[0]\n",
    "    print(rotulo,': ',str(acc*100),'')"
   ]
  },
  {
   "cell_type": "code",
   "execution_count": null,
   "metadata": {},
   "outputs": [],
   "source": []
  }
 ],
 "metadata": {
  "kernelspec": {
   "display_name": "Python 3",
   "language": "python",
   "name": "python3"
  },
  "language_info": {
   "codemirror_mode": {
    "name": "ipython",
    "version": 3
   },
   "file_extension": ".py",
   "mimetype": "text/x-python",
   "name": "python",
   "nbconvert_exporter": "python",
   "pygments_lexer": "ipython3",
   "version": "3.8.3"
  }
 },
 "nbformat": 4,
 "nbformat_minor": 4
}
