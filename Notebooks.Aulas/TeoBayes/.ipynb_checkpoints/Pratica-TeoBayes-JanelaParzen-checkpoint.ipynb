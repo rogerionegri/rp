{
 "cells": [
  {
   "cell_type": "markdown",
   "metadata": {},
   "source": [
    "## Experimento: ajuste de distribuição de probabilidade\n",
    "\n",
    "* Uso de Janelas de Parzen"
   ]
  },
  {
   "cell_type": "markdown",
   "metadata": {},
   "source": [
    "## Importação das bibliotecas"
   ]
  },
  {
   "cell_type": "code",
   "execution_count": null,
   "metadata": {},
   "outputs": [],
   "source": [
    "import numpy as np                      #Função para operação matricial e etc.\n",
    "\n",
    "import matplotlib.pyplot as plt         #Função para geração de gráficos\n",
    "from matplotlib import cm               #Acesso à paletas de cores pré-definidas\n",
    "import matplotlib.gridspec as gridspec  #Útil para oragnizar as figuras em subgráficos\n",
    "from mpl_toolkits.mplot3d import Axes3D #Permite projeção 3d\n",
    "\n",
    "import csv                              #Necessário na função implementada para leitura de dados\n",
    "\n",
    "#Permite o uso do LaTeX nos gráficos a serem gerados\n",
    "from matplotlib import rcParams\n",
    "rcParams['text.usetex'] = True\n",
    "rcParams['text.latex.preamble'] = r'\\usepackage{amsmath}'"
   ]
  },
  {
   "cell_type": "markdown",
   "metadata": {},
   "source": [
    "## Definição das funções utilizadas"
   ]
  },
  {
   "cell_type": "code",
   "execution_count": null,
   "metadata": {},
   "outputs": [],
   "source": [
    "#Função de leitura dos dados------------------------------------\n",
    "def read_class_data(path):\n",
    "    with open(path, newline='') as f:\n",
    "        reader = csv.reader(f,delimiter=',')\n",
    "        for row in reader:\n",
    "            try:\n",
    "                data = np.vstack( (data , np.asarray(row).astype(np.float) ) )\n",
    "            except:\n",
    "                data = np.asarray(row).astype(np.float)\n",
    "    f.close()\n",
    "    y = data[:,0]\n",
    "    x = data[:,1:]\n",
    "    return y,x\n",
    "\n",
    "\n",
    "#--------------------------------------\n",
    "def funcao_phi(x):\n",
    "    p = (x.dot( x.T ))\n",
    "    res = 1/np.sqrt(2 * np.pi) * np.exp( -p/2 )\n",
    "    return res\n",
    "\n",
    "\n",
    "#--------------------------------------\n",
    "def janela_parzen(x,h,dataSet):\n",
    "    n = np.shape(dataSet)[1]\n",
    "    m = np.shape(dataSet)[0]\n",
    "\n",
    "    factor = (1/(h**n)) * (1/m)\n",
    "    s = 0.0\n",
    "    for i in range(0,m):\n",
    "        z = (dataSet[i,:] - x)/h\n",
    "        s += funcao_phi(z)\n",
    "    \n",
    "    return (factor * s)"
   ]
  },
  {
   "cell_type": "markdown",
   "metadata": {},
   "source": [
    "## Leitura dos dados (início do experimento)"
   ]
  },
  {
   "cell_type": "code",
   "execution_count": null,
   "metadata": {},
   "outputs": [],
   "source": [
    "path_data = 'saidaSim_D.txt'\n",
    "\n",
    "#Não vamos usar o y... apenas os dados já simulados\n",
    "y,x = read_class_data(path_data)"
   ]
  },
  {
   "cell_type": "markdown",
   "metadata": {},
   "source": [
    "## Definição de variáveis e itens de "
   ]
  },
  {
   "cell_type": "code",
   "execution_count": null,
   "metadata": {},
   "outputs": [],
   "source": [
    "h = 0.5 #largura da \"banda\" usada para estimar as probabilidades"
   ]
  },
  {
   "cell_type": "markdown",
   "metadata": {},
   "source": [
    "## Execução do método Janela de Parzen"
   ]
  },
  {
   "cell_type": "code",
   "execution_count": null,
   "metadata": {},
   "outputs": [],
   "source": [
    "#Número de itens/atributo\n",
    "N = 200\n",
    "\n",
    "#Definição espaço de atributos -- intervalo de valores em cada eixo (xmin~xmax) X (ymin ~ymax)\n",
    "xmin = np.min(x[:,0]); xmax = np.max(x[:,0])\n",
    "ymin = np.min(x[:,1]); ymax = np.max(x[:,1])\n",
    "\n",
    "#Útil o experimento e para os gráficos a seguir\n",
    "X1, X2 = np.meshgrid(np.linspace(xmin, xmax, N), np.linspace(ymin, ymax, N))\n",
    "\n",
    "#Aplicação do método\n",
    "Z = np.zeros((N,N))\n",
    "for i in range(0,N):\n",
    "    for j in range(0,N):\n",
    "        Z[i,j] = janela_parzen( [X1[i,j], X2[i,j]] ,h, x)"
   ]
  },
  {
   "cell_type": "markdown",
   "metadata": {},
   "source": [
    "## Visualizar os dados e a distribuição estimada..."
   ]
  },
  {
   "cell_type": "code",
   "execution_count": null,
   "metadata": {},
   "outputs": [],
   "source": [
    "FS = (15,5) #Tamanho da figura a ser gerada\n",
    "fig = plt.figure(constrained_layout=True,figsize=FS)\n",
    "spec = gridspec.GridSpec(ncols=3, nrows=1, figure=fig)\n",
    "\n",
    "\n",
    "# Subplot 1 ------------------------\n",
    "ax1 = fig.add_subplot(spec[0, 0])\n",
    "ax1.scatter(x[:,0],x[:,1], marker='o', color='green', s=40, alpha=0.5)\n",
    "ax1.set_xlabel('$x_1$', fontsize=22)\n",
    "ax1.set_ylabel('$x_2$', fontsize=22)\n",
    "\n",
    "\n",
    "# Subplot 2 ------------------------\n",
    "ax2 = fig.add_subplot(spec[0, 1],projection='3d')\n",
    "ax2.plot_surface(X1, X2, Z, rstride=2, cstride=2, linewidth=0.25, antialiased=True,cmap=cm.coolwarm, edgecolors='k',alpha=0.5)\n",
    "ax2.w_xaxis.set_pane_color((0.75, 0.75, 0.75, 0.75))\n",
    "ax2.w_yaxis.set_pane_color((0.75, 0.75, 0.75, 0.75))\n",
    "ax2.w_zaxis.set_pane_color((0.95, 0.95, 0.95, 0.95))\n",
    "ax2.set_xlabel('$x_1$', fontsize=22)\n",
    "ax2.set_ylabel('$x_2$', fontsize=22)\n",
    "ax2.set_zlabel(r'$\\widehat{p}(\\mathbf{x})$', fontsize=22)\n",
    "\n",
    "\n",
    "# Subplot 3 ------------------------\n",
    "ax3 = fig.add_subplot(spec[0, 2])\n",
    "g1 = ax3.contourf(X1, X2, Z, cmap=cm.RdBu)\n",
    "ax3.set_xlabel('$x_1$', fontsize=22)\n",
    "ax3.set_ylabel('$x_2$', fontsize=22)\n",
    "fig.colorbar(g1, orientation=\"vertical\", label= r'$\\widehat{p}(\\mathbf{x})$')\n",
    "\n",
    "plt.show()"
   ]
  },
  {
   "cell_type": "code",
   "execution_count": null,
   "metadata": {},
   "outputs": [],
   "source": []
  }
 ],
 "metadata": {
  "kernelspec": {
   "display_name": "Python 3",
   "language": "python",
   "name": "python3"
  },
  "language_info": {
   "codemirror_mode": {
    "name": "ipython",
    "version": 3
   },
   "file_extension": ".py",
   "mimetype": "text/x-python",
   "name": "python",
   "nbconvert_exporter": "python",
   "pygments_lexer": "ipython3",
   "version": "3.8.3"
  }
 },
 "nbformat": 4,
 "nbformat_minor": 4
}
