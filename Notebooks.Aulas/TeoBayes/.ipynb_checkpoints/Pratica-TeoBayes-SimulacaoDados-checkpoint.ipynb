{
 "cells": [
  {
   "cell_type": "code",
   "execution_count": 3,
   "metadata": {},
   "outputs": [],
   "source": [
    "import numpy as np\n",
    "np.random.seed(123456)  #Dedinição da semente de geração, caso necessário\n",
    "\n",
    "#Caminho do arquivo gerado...\n",
    "path_out = 'saidaSim_D.txt'\n",
    "\n",
    "#Configuração da parcela de dados a simular\n",
    "\n",
    "#Conjunto D\n",
    "mu1 = [1,1]; sigma1 =[ [0.75 , 0.5] , [0.5 , 2.0]] \n",
    "rotulo1 = 1; qnt1 = 50\n",
    "mu2 = [-2,-2]; sigma2 = [[0.5 , -0.5] , [-0.5 , 1]]\n",
    "rotulo2 = 2; qnt2 = 40\n",
    "\n",
    "#Conjunto I\n",
    "#mu1 = [0.9, 0.9]; sigma1 =[ [1.5 , 0.75] , [0.75 , 1.5]]\n",
    "#rotulo1 = 1; qnt1 = 500\n",
    "#mu2 = [-1.75,-1.75]; sigma2 = [[1.5 , -0.5] , [-0.5 , 1.5]]\n",
    "#rotulo2 = 2; qnt2 = 500\n",
    "\n",
    "#Construção de arrays de:\n",
    "rotulos = np.array([rotulo1, rotulo2]) #Indicador das classes\n",
    "quantidades = np.array([qnt1,qnt2])    #Número de simulações da classe/rótulo\n",
    "conjMu = np.array([mu1,mu2])           #Vetor médio da classe/rótulo\n",
    "conjSigma = np.array([sigma1,sigma2])  #Mat. cov. da classe/rótulo\n",
    "\n",
    "f= open(path_out,\"w\")\n",
    "for r in range(rotulos.size):\n",
    "    dados = np.random.multivariate_normal(conjMu[r,:], conjSigma[r,:,:], quantidades[r]).T\n",
    "\n",
    "    for i in range(0,quantidades[r]):\n",
    "        st = str(rotulos[r])\n",
    "        for j in range(0,dados.shape[0]): #dados.shape = ('dim. espaço','num. simula.')\n",
    "            st += ','+ str(dados[j,i])\n",
    "        st += '\\n' #depois que forma linha, 'pula para próxima linha'\n",
    "        f.write(st)\n",
    "\n",
    "f.close()"
   ]
  },
  {
   "cell_type": "code",
   "execution_count": 8,
   "metadata": {},
   "outputs": [
    {
     "data": {
      "text/plain": [
       "2"
      ]
     },
     "execution_count": 8,
     "metadata": {},
     "output_type": "execute_result"
    }
   ],
   "source": [
    "len(rotulos)"
   ]
  },
  {
   "cell_type": "code",
   "execution_count": null,
   "metadata": {},
   "outputs": [],
   "source": []
  }
 ],
 "metadata": {
  "kernelspec": {
   "display_name": "Python 3",
   "language": "python",
   "name": "python3"
  },
  "language_info": {
   "codemirror_mode": {
    "name": "ipython",
    "version": 3
   },
   "file_extension": ".py",
   "mimetype": "text/x-python",
   "name": "python",
   "nbconvert_exporter": "python",
   "pygments_lexer": "ipython3",
   "version": "3.8.3"
  }
 },
 "nbformat": 4,
 "nbformat_minor": 4
}
