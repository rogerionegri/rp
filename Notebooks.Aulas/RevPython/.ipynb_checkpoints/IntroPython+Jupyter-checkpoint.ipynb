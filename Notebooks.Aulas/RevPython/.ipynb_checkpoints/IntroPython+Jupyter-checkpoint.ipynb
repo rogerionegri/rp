{
 "cells": [
  {
   "cell_type": "markdown",
   "id": "elementary-disco",
   "metadata": {},
   "source": [
    "# Notebook da \"brevíssima introdução ao Python\"\n",
    "\n",
    "### Os \"jupyter-notebooks\" permitem a execução de códigos escritos em Python seguindo um esquema célula-a-célula (similar ao esquema Mathematica e Maxima)\n",
    "\n",
    "* Crie células com \"shift+Enter\" ou pelo símbolo \"+\" localizado no menu superior\n",
    "* Navegue entre células com uso das setas do teclado, após desabilitar a edição da célula com \"Esc\"\n",
    "* Alterne entre \"Markdown\" e \"Code\" com as teclas \"m\" e \"y\" (quando desabilitado para edição)\n",
    "* Delete células com \"d\" (também quando desabilitado para edição)\n",
    "* Pressione \"shift+Enter\" para executar a célula\n",
    "* Use #, ##, ###... para definir níveis markdown e * para criar lista de itens\n",
    "* Insira expressões entre \"cifrão\" para escrever expressões em LaTeX, por exemplo: $\\displaystyle \\int_0^1 e^x dx = e-1$"
   ]
  },
  {
   "cell_type": "markdown",
   "id": "cultural-publicity",
   "metadata": {},
   "source": [
    "## Primeiros teste..."
   ]
  },
  {
   "cell_type": "code",
   "execution_count": null,
   "id": "stupid-catering",
   "metadata": {},
   "outputs": [],
   "source": [
    "x = 5\n",
    "y = 3.1415\n",
    "s = 'RP é massa!'\n",
    "\n",
    "#isso é um comentário\n",
    "#escreva as variáveis aqui nesta célula e execute com shift+enter..."
   ]
  },
  {
   "cell_type": "code",
   "execution_count": null,
   "id": "muslim-brief",
   "metadata": {},
   "outputs": [],
   "source": [
    "x = 10\n",
    "y = 2\n",
    "print(x+y, x**y) #cadê a virgula?\n",
    "print((x+y)%2 == 0)\n",
    "print(\"(x**y) > (10**3): \", (x**y)>(10**3))\n",
    "print(\"not((x**y) > (10**3)): \", not((x**y)>(10**3)))"
   ]
  },
  {
   "cell_type": "markdown",
   "id": "pressed-monaco",
   "metadata": {},
   "source": [
    "## Comandos padrão para entrada/saída de dados"
   ]
  },
  {
   "cell_type": "code",
   "execution_count": null,
   "id": "electoral-phase",
   "metadata": {},
   "outputs": [],
   "source": [
    "x = 10\n",
    "print(x)\n",
    "y = input('Informe um número: ')\n",
    "type(y)\n",
    "print('1aVar = %d  2aVar = %f' %(x,float(y)))"
   ]
  },
  {
   "cell_type": "markdown",
   "id": "documented-teaching",
   "metadata": {},
   "source": [
    "### Vamos consertar esse problema..."
   ]
  },
  {
   "cell_type": "code",
   "execution_count": null,
   "id": "inappropriate-buying",
   "metadata": {},
   "outputs": [],
   "source": [
    "pi = 3.1415\n",
    "res = sin(pi/2) #...espero que seja 1\n",
    "print(res)"
   ]
  },
  {
   "cell_type": "markdown",
   "id": "incomplete-journalism",
   "metadata": {},
   "source": [
    "### Primeiro exemplo com Numpy (\"Enter the Dragon\")"
   ]
  },
  {
   "cell_type": "code",
   "execution_count": null,
   "id": "confident-finland",
   "metadata": {},
   "outputs": [],
   "source": [
    "import numpy as np\n",
    "x = np.linspace(1,10,4) #inicio,fim,quantidade\n",
    "y = x**2\n",
    "print('x = ',x)\n",
    "print('y = ',y)"
   ]
  },
  {
   "cell_type": "markdown",
   "id": "premium-infrastructure",
   "metadata": {},
   "source": [
    "## Criar e preencher um vetor Numpy"
   ]
  },
  {
   "cell_type": "code",
   "execution_count": null,
   "id": "vocational-clearing",
   "metadata": {},
   "outputs": [],
   "source": [
    "resposta = input('Defina a dimesão do vetor: ')\n",
    "dim = np.int64(resposta)\n",
    "#dim = int(resposta) #<--- Também funciona!\n",
    "vetor = np.ndarray((dim))\n",
    "\n",
    "for i in range(dim):\n",
    "    resposta = input(\"Insira o valor da componente \"+str(i+1)+\": \")\n",
    "    vetor[i] = np.float( resposta )\n",
    "    #vetor[i] = float(resposta) #<--- Também funciona!\n",
    "\n",
    "print(vetor) #<--- Apenas para mostrar o resultado"
   ]
  },
  {
   "cell_type": "markdown",
   "id": "trained-ballet",
   "metadata": {},
   "source": [
    "### Plotagem com Matplotlib.plt"
   ]
  },
  {
   "cell_type": "code",
   "execution_count": null,
   "id": "induced-executive",
   "metadata": {},
   "outputs": [],
   "source": [
    "import numpy as np\n",
    "import matplotlib.pyplot as plt\n",
    "x = np.linspace(-2*np.pi,2*np.pi,100)\n",
    "y = np.sin(x)\n",
    "plt.plot(x,y,linewidth=2,color='g',linestyle='dashed')\n",
    "plt.plot(x,y,linewidth=0,color='r',markersize=3,marker='s')\n",
    "plt.xlabel('eixo X'), plt.ylabel('eixo Y'),\n",
    "plt.title('$f(x)=sin(x)$'), plt.show()"
   ]
  },
  {
   "cell_type": "markdown",
   "id": "intended-restoration",
   "metadata": {},
   "source": [
    "## Definindo uma função simples e em seguida aplicando ela em outra coisa simples"
   ]
  },
  {
   "cell_type": "code",
   "execution_count": null,
   "id": "western-criterion",
   "metadata": {},
   "outputs": [],
   "source": [
    "def parabola(x,a,b,c):\n",
    "    y = a*x**2 + b*x + c\n",
    "    return y"
   ]
  },
  {
   "cell_type": "code",
   "execution_count": null,
   "id": "polish-december",
   "metadata": {},
   "outputs": [],
   "source": [
    "x = np.linspace(-2,2,10)\n",
    "z = parabola(x,2,1,1)\n",
    "plt.plot(x,z)\n",
    "plt.plot(x, parabola(x,-2,1,3))\n",
    "plt.show()"
   ]
  },
  {
   "cell_type": "markdown",
   "id": "overall-ridge",
   "metadata": {},
   "source": [
    "### Volte na célula anterior e dê uma melhorada na aparência $\\smile$"
   ]
  },
  {
   "cell_type": "markdown",
   "id": "common-enclosure",
   "metadata": {},
   "source": [
    "## Exemplo análogo, agora com uso de \"lambda\""
   ]
  },
  {
   "cell_type": "code",
   "execution_count": null,
   "id": "sized-plenty",
   "metadata": {},
   "outputs": [],
   "source": [
    "parab_anonima = lambda x, a, b, c: a*x**2 + b*x + c\n",
    "\n",
    "plt.plot(np.linspace(-2,2,10), parab_anonima(np.linspace(-2,2,10),2,1,1))"
   ]
  },
  {
   "cell_type": "markdown",
   "id": "after-aspect",
   "metadata": {},
   "source": [
    "## Estruturas de repetição"
   ]
  },
  {
   "cell_type": "code",
   "execution_count": null,
   "id": "uniform-species",
   "metadata": {},
   "outputs": [],
   "source": [
    "for i in range(10):\n",
    "    print(i)"
   ]
  },
  {
   "cell_type": "code",
   "execution_count": null,
   "id": "complicated-geography",
   "metadata": {},
   "outputs": [],
   "source": [
    "lista = ['a',1,'oioi!',2.5,'RP']\n",
    "for i in lista:\n",
    "    print(i)"
   ]
  },
  {
   "cell_type": "code",
   "execution_count": null,
   "id": "stuffed-accessory",
   "metadata": {},
   "outputs": [],
   "source": [
    "n = 1; soma = 0; st = ''\n",
    "while n <= 5:\n",
    "    soma += (1/n)\n",
    "    st += '+ 1/'+str(n)\n",
    "    n += 1\n",
    "print(st,' = ',soma)"
   ]
  },
  {
   "cell_type": "markdown",
   "id": "blank-taste",
   "metadata": {},
   "source": [
    "## Estruturas de repetição"
   ]
  },
  {
   "cell_type": "code",
   "execution_count": null,
   "id": "educated-better",
   "metadata": {},
   "outputs": [],
   "source": [
    "x = 10\n",
    "if x%2 == 0:\n",
    "    print('%d é par!'%x)\n",
    "else :\n",
    "    print('%d é ímpar!'%x)"
   ]
  },
  {
   "cell_type": "markdown",
   "id": "comparative-viewer",
   "metadata": {},
   "source": [
    "## Manipulação de arquivos"
   ]
  },
  {
   "cell_type": "code",
   "execution_count": null,
   "id": "demanding-wisconsin",
   "metadata": {},
   "outputs": [],
   "source": [
    "nomeEntrada = 'dados.txt'\n",
    "nomeSaida = 'saida.txt'\n",
    "\n",
    "arqEntrada = open(nomeEntrada,'r')\n",
    "arqSaida = open(nomeSaida,'w')\n",
    "\n",
    "for l in arqEntrada:\n",
    "    v = l.split()\n",
    "    x,y,z = float(v[0]),float(v[2]),float(v[2])\n",
    "    arqSaida.write('%f %f %f\\n' % (x,y,z))\n",
    "    print(x,' ',y,' ',z)\n",
    "arqEntrada.close()\n",
    "arqSaida.close()"
   ]
  },
  {
   "cell_type": "markdown",
   "id": "moral-walter",
   "metadata": {},
   "source": [
    "### Pratique mais!\n",
    "1 - Implemente a função $\\texttt{far2cels}$ que, dado um valor em graus Farenheights, retorne o valor em Celsius.\n",
    "\n",
    "2 - Implemente uma função, denominada $\\texttt{primo}$, para verificar se um dado $n \\in \\mathbb{Z}$ é primo.\n",
    "\n",
    "3 - Escreva um programa que verifica se um dado número é triangular. $x \\in \\mathbb{Z}$ é triangular se $x = a\\cdot(a+1)\\cdot(a+2)$ para algum $a \\in \\mathbb{Z}$ e $a < x$."
   ]
  },
  {
   "cell_type": "code",
   "execution_count": null,
   "id": "communist-guatemala",
   "metadata": {},
   "outputs": [],
   "source": []
  }
 ],
 "metadata": {
  "kernelspec": {
   "display_name": "Python 3",
   "language": "python",
   "name": "python3"
  },
  "language_info": {
   "codemirror_mode": {
    "name": "ipython",
    "version": 3
   },
   "file_extension": ".py",
   "mimetype": "text/x-python",
   "name": "python",
   "nbconvert_exporter": "python",
   "pygments_lexer": "ipython3",
   "version": "3.8.3"
  }
 },
 "nbformat": 4,
 "nbformat_minor": 5
}
