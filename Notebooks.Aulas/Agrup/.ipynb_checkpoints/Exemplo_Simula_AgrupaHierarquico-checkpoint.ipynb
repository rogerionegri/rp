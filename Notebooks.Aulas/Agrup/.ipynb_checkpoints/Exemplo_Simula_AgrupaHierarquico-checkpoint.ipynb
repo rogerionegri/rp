{
 "cells": [
  {
   "cell_type": "markdown",
   "metadata": {},
   "source": [
    "## Bibliotecas e módulos"
   ]
  },
  {
   "cell_type": "code",
   "execution_count": null,
   "metadata": {},
   "outputs": [],
   "source": [
    "import matplotlib.pyplot as plt\n",
    "import matplotlib.gridspec as gridspec\n",
    "\n",
    "import numpy as np\n",
    "import pandas as pd\n",
    "from scipy.cluster.hierarchy import dendrogram, linkage\n",
    "\n",
    "from sklearn.datasets import make_blobs\n",
    "\n",
    "from sklearn.cluster import AgglomerativeClustering\n",
    "\n",
    "#from matplotlib import rcParams\n",
    "#rcParams['text.usetex'] = True\n",
    "#rcParams['text.latex.preamble'] = r'\\usepackage{amsmath}'"
   ]
  },
  {
   "cell_type": "markdown",
   "metadata": {},
   "source": [
    "## Simulação e visualização dos dados"
   ]
  },
  {
   "cell_type": "code",
   "execution_count": null,
   "metadata": {},
   "outputs": [],
   "source": [
    "np.random.seed(2)\n",
    "agrupamentos = 4\n",
    "x, y = make_blobs(n_features=2, centers=agrupamentos, n_samples=200)\n",
    "\n",
    "marr = ['o','+','^','*']\n",
    "    \n",
    "FS = (5,5) #Tamanho da figura a ser gerada\n",
    "fig = plt.figure(constrained_layout=True,figsize=FS)\n",
    "spec = gridspec.GridSpec(ncols=1, nrows=1, figure=fig)\n",
    "\n",
    "#Subgráficos...\n",
    "ax = fig.add_subplot(spec[0, 0])\n",
    "for i in range(agrupamentos):\n",
    "    pos =  np.where(y == i)\n",
    "    ax.scatter(x[pos, 0], x[pos, 1], marker=marr[i], c='k', s=30)\n",
    "\n",
    "ax.set_xlabel('$x_1$', fontsize=20)\n",
    "ax.set_ylabel('$x_2$', fontsize=30)\n",
    "ax.set(xlim=(np.min(x[:,0]), np.max(x[:,0])), ylim=(np.min(x[:,1]), np.max(x[:,1])))"
   ]
  },
  {
   "cell_type": "markdown",
   "metadata": {},
   "source": [
    "## Agrupamento hierárquico dos dados simulados"
   ]
  },
  {
   "cell_type": "code",
   "execution_count": null,
   "metadata": {},
   "outputs": [],
   "source": [
    "#Número de agrupamentos\n",
    "n_clusters = 4\n",
    "\n",
    "tipos = ['single','complete','ward','average']\n",
    "metodo = []\n",
    "\n",
    "for t in range(4):\n",
    "    metodo.append( AgglomerativeClustering(n_clusters=n_clusters, linkage=tipos[t], affinity='euclidean') )\n",
    "    metodo[t].fit(x)"
   ]
  },
  {
   "cell_type": "code",
   "execution_count": null,
   "metadata": {
    "scrolled": true
   },
   "outputs": [],
   "source": [
    "path_save = 'compAglomeraHierarquicos.png'\n",
    "posSpec = [[0,0],[0,1],[1,0],[1,1]]\n",
    "\n",
    "coll = ['red','blue','green','orange']\n",
    "nomes = ['SL','CL','Ward','AL']\n",
    "    \n",
    "FS = (10,10) #Tamanho da figura a ser gerada\n",
    "fig = plt.figure(constrained_layout=True,figsize=FS)\n",
    "spec = gridspec.GridSpec(ncols=2, nrows=2, figure=fig)\n",
    "\n",
    "for t in range(4):\n",
    "    #Subgráfico...\n",
    "    ax = fig.add_subplot(spec[ posSpec[t][0],posSpec[t][1] ])\n",
    "    for i in range(n_clusters):\n",
    "        pos =  np.where(y == i)\n",
    "        vecCol = [];\n",
    "        for j in metodo[t].labels_[pos]: vecCol.append(coll[j])\n",
    "        ax.scatter(x[pos, 0], x[pos, 1], marker=marr[i], c=vecCol, s=50)\n",
    "\n",
    "    ax.set_xlabel('$x_1$', fontsize=20); ax.set_ylabel('$x_2$', fontsize=20)\n",
    "    ax.set_title(nomes[t],fontsize=20)\n",
    "\n",
    "plt.savefig(path_save,dpi=300)\n",
    "plt.show()"
   ]
  },
  {
   "cell_type": "code",
   "execution_count": null,
   "metadata": {},
   "outputs": [],
   "source": []
  }
 ],
 "metadata": {
  "kernelspec": {
   "display_name": "Python 3",
   "language": "python",
   "name": "python3"
  },
  "language_info": {
   "codemirror_mode": {
    "name": "ipython",
    "version": 3
   },
   "file_extension": ".py",
   "mimetype": "text/x-python",
   "name": "python",
   "nbconvert_exporter": "python",
   "pygments_lexer": "ipython3",
   "version": "3.8.3"
  }
 },
 "nbformat": 4,
 "nbformat_minor": 4
}
