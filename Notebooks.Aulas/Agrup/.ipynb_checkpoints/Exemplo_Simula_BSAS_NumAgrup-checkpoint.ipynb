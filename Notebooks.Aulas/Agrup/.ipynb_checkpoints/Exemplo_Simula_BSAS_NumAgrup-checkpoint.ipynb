{
 "cells": [
  {
   "cell_type": "markdown",
   "metadata": {},
   "source": [
    "## Bibliotecas e módulos"
   ]
  },
  {
   "cell_type": "code",
   "execution_count": null,
   "metadata": {},
   "outputs": [],
   "source": [
    "import matplotlib.pyplot as plt\n",
    "import matplotlib.gridspec as gridspec\n",
    "\n",
    "import numpy as np\n",
    "import pandas as pd\n",
    "from scipy.cluster.hierarchy import dendrogram, linkage\n",
    "\n",
    "from sklearn.datasets import make_blobs\n",
    "\n",
    "from sklearn.cluster import AgglomerativeClustering\n",
    "\n",
    "#from matplotlib import rcParams\n",
    "#rcParams['text.usetex'] = True\n",
    "#rcParams['text.latex.preamble'] = r'\\usepackage{amsmath}'"
   ]
  },
  {
   "cell_type": "markdown",
   "metadata": {},
   "source": [
    "## Funções implementadas"
   ]
  },
  {
   "cell_type": "code",
   "execution_count": null,
   "metadata": {},
   "outputs": [],
   "source": [
    "#Menor/maior distância interna aos dados\n",
    "def find_minmax_tau(x):\n",
    "    m = x.shape[0]\n",
    "    minTau, maxTau = np.infty, -1*np.infty\n",
    "    for i in range(m-1):\n",
    "        for j in range(i+1,m):\n",
    "            dist = np.linalg.norm( x[i,:] - x[j,:])\n",
    "            if dist < minTau: minTau = dist\n",
    "            if dist > maxTau: maxTau = dist\n",
    "    return minTau, maxTau\n",
    "\n",
    "\n",
    "#Implementação do modelo BSAS\n",
    "def BSAS(x,tau,maxClusters):\n",
    "    c = 0  #Inicialização do contador de agrupamentos\n",
    "    G = {} #Incialização de um dicionário\n",
    "    ind = np.zeros(x.shape[0])-1 #Criação da lista de indicador de agrupamentos\n",
    "\n",
    "    G[c] = []; G[c].append( x[0,:] ) #Inclusão do primeiro exemplo\n",
    "    vecMu = []; vecMu.append( x[0,:] ) #Incialização do representante do G[1]\n",
    "    ind[0] = c\n",
    "\n",
    "    for i in range(1,x.shape[0]):\n",
    "        diss = np.zeros(c+1) #adição para compatibilizar 'c' com quantidade de agrupamentos\n",
    "        for j in range(c+1):\n",
    "            diss[j] = np.linalg.norm( x[i,:] - vecMu[j] )\n",
    "        k = np.argmin(diss)\n",
    "    \n",
    "        if (diss[k] > tau) and (c < maxClusters-1):\n",
    "            c += 1\n",
    "            G[c] = []; G[c].append( x[i,:] )\n",
    "            ind[i] = c\n",
    "            vecMu.append( x[i,:] )\n",
    "        else:\n",
    "            G[k].append( x[i,:] )\n",
    "            ind[i] = k\n",
    "            vecMu[k] = ((len(G[k]) -1)*vecMu[k] + x[i,:])/len(G[k])\n",
    "    \n",
    "    return ind"
   ]
  },
  {
   "cell_type": "markdown",
   "metadata": {},
   "source": [
    "## Simulação e visualização dos dados"
   ]
  },
  {
   "cell_type": "code",
   "execution_count": null,
   "metadata": {},
   "outputs": [],
   "source": [
    "path_save = '/home/rogerio/GIT/rp/author/figs/CapAgrup/sim10BSAS.png'\n",
    "\n",
    "np.random.seed(10)\n",
    "agrupamentos = 10\n",
    "x, y = make_blobs(n_features=2, centers=agrupamentos, n_samples=200)\n",
    "\n",
    "cores = ['red','blue','green','orange','magenta','cyan','grey','darkred','darkblue','darkcyan']\n",
    "\n",
    "FS = (5,5) #Tamanho da figura a ser gerada\n",
    "fig = plt.figure(constrained_layout=True,figsize=FS)\n",
    "spec = gridspec.GridSpec(ncols=1, nrows=1, figure=fig)\n",
    "\n",
    "#Subgráficos...\n",
    "ax = fig.add_subplot(spec[0, 0])\n",
    "for i in range(agrupamentos):\n",
    "    pos =  np.where(y == i)\n",
    "    ax.scatter(x[pos, 0], x[pos, 1], marker='o', c=cores[i], s=30)\n",
    "\n",
    "ax.set_xlabel('$x_1$', fontsize=20)\n",
    "ax.set_ylabel('$x_2$', fontsize=20)\n",
    "\n",
    "plt.savefig(path_save,dpi=300)\n",
    "plt.show()"
   ]
  },
  {
   "cell_type": "markdown",
   "metadata": {},
   "source": [
    "## Avaliação sobre o número de agrupamentos"
   ]
  },
  {
   "cell_type": "code",
   "execution_count": null,
   "metadata": {},
   "outputs": [],
   "source": [
    "path_save = '/home/rogerio/GIT/rp/author/figs/CapAgrup/grafAgrupsBSAS.png'\n",
    "\n",
    "#Busca automatica de agrupamentos\n",
    "minTau, maxTau = find_minmax_tau(x)\n",
    "steps = 200 #Número de avaliações no intervalo\n",
    "repeticoes = 10\n",
    "\n",
    "vecTau = np.linspace(minTau,maxTau,steps)\n",
    "vecAgrups = []\n",
    "for tau in vecTau:\n",
    "    vec = []\n",
    "    for _ in range(repeticoes):\n",
    "        rand = np.argsort(np.random.randint(0,1,x.shape[0]))\n",
    "        randX = np.copy(x[rand,:])\n",
    "        res = BSAS(x,tau,randX.shape[0])\n",
    "        vec.append( np.unique(res).shape[0] )\n",
    "    vecAgrups.append( np.median(vec) )\n",
    "\n",
    "\n",
    "FS = (5,5) #Tamanho da figura a ser gerada\n",
    "fig = plt.figure(constrained_layout=True,figsize=FS)\n",
    "spec = gridspec.GridSpec(ncols=1, nrows=1, figure=fig)\n",
    "    \n",
    "plt.plot(vecTau,vecAgrups,'r-')\n",
    "#plt.plot( [minTau,maxTau] , [np.mean(vecAgrups),np.mean(vecAgrups)],'g--')\n",
    "\n",
    "plt.xlabel(r'$\\tau$',fontsize=20)\n",
    "plt.ylabel('Número mediano de agrupamentos',fontsize=20)\n",
    "\n",
    "plt.savefig(path_save,dpi=300)\n",
    "plt.show()\n",
    "\n",
    "print('Média: ', np.mean(vecAgrups))\n",
    "print('Mediana: ', np.median(vecAgrups))"
   ]
  },
  {
   "cell_type": "code",
   "execution_count": null,
   "metadata": {},
   "outputs": [],
   "source": []
  }
 ],
 "metadata": {
  "kernelspec": {
   "display_name": "Python 3",
   "language": "python",
   "name": "python3"
  },
  "language_info": {
   "codemirror_mode": {
    "name": "ipython",
    "version": 3
   },
   "file_extension": ".py",
   "mimetype": "text/x-python",
   "name": "python",
   "nbconvert_exporter": "python",
   "pygments_lexer": "ipython3",
   "version": "3.8.3"
  }
 },
 "nbformat": 4,
 "nbformat_minor": 4
}
