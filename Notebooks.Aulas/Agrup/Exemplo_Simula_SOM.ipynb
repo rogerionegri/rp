{
 "cells": [
  {
   "cell_type": "markdown",
   "metadata": {},
   "source": [
    "## Bibliotecas e módulos"
   ]
  },
  {
   "cell_type": "code",
   "execution_count": 1,
   "metadata": {},
   "outputs": [],
   "source": [
    "import numpy as np\n",
    "import matplotlib.pyplot as plt\n",
    "from matplotlib import cm\n",
    "import matplotlib.gridspec as gridspec\n",
    "\n",
    "from sklearn.cluster import AgglomerativeClustering\n",
    "from sklearn.datasets import make_blobs\n",
    "\n",
    "import csv\n",
    "\n",
    "#from matplotlib import rcParams\n",
    "#rcParams['text.usetex'] = True\n",
    "#rcParams['text.latex.preamble'] = r'\\usepackage{amsmath}'"
   ]
  },
  {
   "cell_type": "markdown",
   "metadata": {},
   "source": [
    "## Funções implementadas"
   ]
  },
  {
   "cell_type": "code",
   "execution_count": 2,
   "metadata": {},
   "outputs": [],
   "source": [
    "#Função de leitura dos dados------------------------------------\n",
    "def read_class_data(path):\n",
    "    with open(path, newline='') as f:\n",
    "        reader = csv.reader(f,delimiter=',')\n",
    "        for row in reader:\n",
    "            try:\n",
    "                data = np.vstack( (data , np.asarray(row).astype(np.float) ) )\n",
    "            except:\n",
    "                data = np.asarray(row).astype(np.float)\n",
    "    f.close()\n",
    "    y = data[:,0]\n",
    "    x = data[:,1:]\n",
    "    return y,x"
   ]
  },
  {
   "cell_type": "code",
   "execution_count": 5,
   "metadata": {},
   "outputs": [],
   "source": [
    "#Normaliza dados------------------------------------------------\n",
    "def norm_data(data):\n",
    "    val = []\n",
    "    for i in range(data.shape[0]):\n",
    "        val.append( np.linalg.norm( data[i,:] ) )\n",
    "\n",
    "    fator = val[ np.argmax(val) ]\n",
    "    data /= fator\n",
    "    return data\n",
    "\n",
    "#Normaliza pesos/mapa------------------------------------------\n",
    "def norm_map(Map):\n",
    "    val = []\n",
    "    for i in range(Map.shape[1]):\n",
    "        for j in range(Map.shape[2]):\n",
    "            val.append( np.linalg.norm( Map[:,i,j] ) )\n",
    "\n",
    "    fator = val[ np.argmax(val) ]\n",
    "    Map /= fator\n",
    "    return Map\n",
    "\n",
    "#Verifica o neurônio mais próximo/similar_----------------------\n",
    "def neuro_win(x,Map,L):\n",
    "    cost = np.infty\n",
    "    wx,wy = 0,0\n",
    "    for i in range(L):\n",
    "        for j in range(L):\n",
    "            dif = np.linalg.norm( x - Map[:,i,j] )\n",
    "            if dif < cost:\n",
    "                cost = dif\n",
    "                wx,wy = i,j\n",
    "    return wx,wy\n",
    "\n",
    "#Atualização dos pesos do mapa de neurônios----------------------\n",
    "def update_map(pos,L,x,Map,eta,sig):\n",
    "    upMap = np.copy(Map)\n",
    "    for i in range(L):\n",
    "        for j in range(L):\n",
    "            alpha = neigh_rate(pos,[i,j],sig)\n",
    "            upMap[:,i,j] = Map[:,i,j] + eta*alpha*(x - Map[:,i,j])\n",
    "    upMap = norm_map(upMap)\n",
    "    return upMap\n",
    "\n",
    "#Função para ponderação do ajuste na vizinhança-----------------\n",
    "def neigh_rate(pos1,pos2,sig):\n",
    "    return np.exp( -(np.linalg.norm(np.array((pos1))-np.array((pos2)))**2)/(2*(sig**2)) )\n",
    "\n",
    "#Função para associação padrão-agrupamento----------------------\n",
    "def map_decision(x,Map,clusterMap,L):\n",
    "    ind = []\n",
    "    for k in range(x.shape[0]):\n",
    "        i,j = neuro_win(x[k,:],Map,L)\n",
    "        ind.append( clusterMap[i,j] )\n",
    "    return ind"
   ]
  },
  {
   "cell_type": "markdown",
   "metadata": {},
   "source": [
    "## Simulação dos dados (o mesmo de exemplos anteriores)"
   ]
  },
  {
   "cell_type": "code",
   "execution_count": 6,
   "metadata": {},
   "outputs": [],
   "source": [
    "np.random.seed(2)\n",
    "agrupamentos = 4\n",
    "x, y = make_blobs(n_features=2, centers=agrupamentos, n_samples=200)"
   ]
  },
  {
   "cell_type": "markdown",
   "metadata": {},
   "source": [
    "## Ajuste do SOM"
   ]
  },
  {
   "cell_type": "code",
   "execution_count": 7,
   "metadata": {},
   "outputs": [
    {
     "name": "stdout",
     "output_type": "stream",
     "text": [
      "5.61766002367637\n",
      "2.027734290944641\n",
      "0.7505528907043947\n",
      "0.42706376323353\n",
      "0.2340940133497386\n",
      "0.11710420654324323\n",
      "0.09037984632984354\n",
      "0.0517149528929813\n",
      "0.03521676315141303\n",
      "0.025291372016544862\n",
      "0.02242929021855588\n",
      "0.01699959865917207\n",
      "0.019348500454586758\n",
      "0.013093526229572704\n",
      "0.009911409567398005\n",
      "0.007953536378353632\n",
      "0.012409401205192707\n",
      "0.011676836085301357\n",
      "0.007878255398068383\n",
      "0.005845075688174171\n",
      "0.009214069225001455\n",
      "0.006310800752636305\n",
      "0.008642782575535447\n",
      "0.006576333361859167\n",
      "0.00940753455887012\n",
      "0.006174024748857328\n",
      "0.007767763056647227\n",
      "0.00531061961379082\n",
      "0.00487979695714616\n",
      "0.003679645170717025\n",
      "0.0029254811010426414\n",
      "0.002426827325341874\n",
      "0.006105013836395554\n",
      "0.005021021022120217\n",
      "0.006031035047832593\n",
      "0.009993977461400943\n",
      "0.0071444411173746105\n",
      "0.005268772737116113\n",
      "0.003992092799040922\n",
      "0.0030985092270685594\n",
      "0.0024587423561413775\n",
      "0.0019922597937128\n",
      "0.0016469773671652036\n",
      "0.0013880552007045105\n",
      "0.001191513492748692\n",
      "0.0010404714778398467\n"
     ]
    }
   ],
   "source": [
    "#--------------------------------------------\n",
    "L = 10          #Largura do mapa de neurônios\n",
    "sig = 1.0       #Parâmetros sigma usado na fun. viz. topológica\n",
    "eta = 1.0       #Taxa de aprendizado\n",
    "epsilon = 0.001 #Tolerância para detecção de convergência\n",
    "#----------\n",
    "\n",
    "m,n  = x.shape #Número de observações/dimensões\n",
    "\n",
    "x = norm_data(x) #Normalização dos dados\n",
    "\n",
    "Map = np.zeros((x.shape[1],L,L)) #Gera mapa de neurônios (n x L x L)\n",
    "\n",
    "#Inicialização aleatória dos neurônios\n",
    "pos = np.argsort( np.random.randint(0,1,m) ); k = 0\n",
    "for i in range(L):\n",
    "    for j in range(L):\n",
    "        Map[:,i,j] = x[pos[k],:]\n",
    "        k += 1\n",
    "\n",
    "epoca = 0 #Contador de época\n",
    "while True:\n",
    "    oldMap = np.copy(Map) #Usado para testar convergência\n",
    "\n",
    "    #Define uma ortem aletória a cada iteração\n",
    "    pos = np.argsort( np.random.randint(0,1,m) )\n",
    "    xs = np.copy( x[pos,:] ) #Cópia 'desordenada' do conjunto de dados\n",
    "\n",
    "    for i in range(m):\n",
    "        pi,pj = neuro_win(xs[i,:],Map,L)\n",
    "        Map = update_map([pi,pj],L,xs[i,:],Map,eta,sig)\n",
    "\n",
    "    if np.max( np.linalg.norm( Map - oldMap ) ) < epsilon: break\n",
    "    print( np.max( np.linalg.norm( Map - oldMap ) ) )\n",
    "\n",
    "    epoca += 1\n",
    "    eta = 1.0/epoca"
   ]
  },
  {
   "cell_type": "markdown",
   "metadata": {},
   "source": [
    "## Determinação dos agrupamentos e visualização do mapa"
   ]
  },
  {
   "cell_type": "code",
   "execution_count": 8,
   "metadata": {},
   "outputs": [
    {
     "data": {
      "image/png": "[encoded data removed]",
      "text/plain": [
       "<Figure size 432x288 with 1 Axes>"
      ]
     },
     "metadata": {
      "needs_background": "light"
     },
     "output_type": "display_data"
    }
   ],
   "source": [
    "path_out = 'MapaSOM.png'\n",
    "\n",
    "#Determinação do número de agrupamentos\n",
    "agrupamentos = 4\n",
    "\n",
    "coll = ['red','blue','green','magenta','orange','cyan','darkred','grey']\n",
    "\n",
    "#Visualização do mapa/grupos\n",
    "g = AgglomerativeClustering(n_clusters=agrupamentos, linkage='complete', affinity='euclidean')\n",
    "agrup = g.fit( Map.reshape( (n,L*L), order='C').T )\n",
    "clusterMap = np.reshape( agrup.labels_ , (L,L) )\n",
    "\n",
    "plt.imshow(clusterMap,cmap=cm.gist_rainbow)\n",
    "plt.savefig(path_out,dpi=300)\n",
    "plt.show()"
   ]
  },
  {
   "cell_type": "markdown",
   "metadata": {},
   "source": [
    "## Visualização da configuração final do mapa de neurônios"
   ]
  },
  {
   "cell_type": "code",
   "execution_count": 9,
   "metadata": {},
   "outputs": [
    {
     "data": {
      "image/png": "[encoded data removed]",
      "text/plain": [
       "<Figure size 432x288 with 1 Axes>"
      ]
     },
     "metadata": {
      "needs_background": "light"
     },
     "output_type": "display_data"
    },
    {
     "data": {
      "image/png": "[encoded data removed]",
      "text/plain": [
       "<Figure size 432x288 with 1 Axes>"
      ]
     },
     "metadata": {
      "needs_background": "light"
     },
     "output_type": "display_data"
    }
   ],
   "source": [
    "plt.imshow(Map[0,:,:],cmap=cm.gist_rainbow)\n",
    "plt.savefig(path_out,dpi=300)\n",
    "plt.show()\n",
    "\n",
    "plt.imshow(Map[1,:,:],cmap=cm.gist_rainbow)\n",
    "plt.savefig(path_out,dpi=300)\n",
    "plt.show()"
   ]
  },
  {
   "cell_type": "markdown",
   "metadata": {},
   "source": [
    "## Agrupamento dos dados (segundo interpretação do mapa de neurônios)"
   ]
  },
  {
   "cell_type": "code",
   "execution_count": 11,
   "metadata": {},
   "outputs": [
    {
     "data": {
      "image/png": "[encoded data removed]",
      "text/plain": [
       "<Figure size 360x360 with 1 Axes>"
      ]
     },
     "metadata": {
      "needs_background": "light"
     },
     "output_type": "display_data"
    }
   ],
   "source": [
    "path_out = 'AgrupSOM.png'\n",
    "\n",
    "#Classificação segundo o mapa obtido\n",
    "res = map_decision(x,Map,clusterMap,L)\n",
    "\n",
    "FS = (5,5) #Tamanho da figura a ser gerada\n",
    "fig = plt.figure(constrained_layout=True,figsize=FS)\n",
    "spec = gridspec.GridSpec(ncols=1, nrows=1, figure=fig)\n",
    "\n",
    "coll = ['red','blue','green','magenta','orange','cyan','darkred','grey']\n",
    "marr = ['o','+','^','*','D','x','p','h']\n",
    "\n",
    "vecCol = []\n",
    "for c in res: vecCol.append( coll[c] )\n",
    "\n",
    "#Subgráfico 1 (K-Médias)\n",
    "ax = fig.add_subplot(spec[0,0])\n",
    "ax.scatter(x[:, 0], x[:, 1], marker='o', c=vecCol, s=30)\n",
    "ax.set_xlabel('$x_1$', fontsize=20)\n",
    "ax.set_ylabel('$x_2$', fontsize=20)\n",
    "\n",
    "plt.savefig(path_out,dpi=300)\n",
    "plt.show()"
   ]
  },
  {
   "cell_type": "code",
   "execution_count": null,
   "metadata": {},
   "outputs": [],
   "source": []
  }
 ],
 "metadata": {
  "kernelspec": {
   "display_name": "Python 3",
   "language": "python",
   "name": "python3"
  },
  "language_info": {
   "codemirror_mode": {
    "name": "ipython",
    "version": 3
   },
   "file_extension": ".py",
   "mimetype": "text/x-python",
   "name": "python",
   "nbconvert_exporter": "python",
   "pygments_lexer": "ipython3",
   "version": "3.8.3"
  }
 },
 "nbformat": 4,
 "nbformat_minor": 4
}
