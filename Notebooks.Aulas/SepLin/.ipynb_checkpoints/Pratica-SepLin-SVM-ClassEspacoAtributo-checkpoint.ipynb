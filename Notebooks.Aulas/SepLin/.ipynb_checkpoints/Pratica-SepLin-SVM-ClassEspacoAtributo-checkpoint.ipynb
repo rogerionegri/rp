{
 "cells": [
  {
   "cell_type": "markdown",
   "metadata": {},
   "source": [
    "## Declaração de bibliotecas e demais configurações"
   ]
  },
  {
   "cell_type": "code",
   "execution_count": null,
   "metadata": {},
   "outputs": [],
   "source": [
    "import numpy as np\n",
    "import matplotlib.pyplot as plt\n",
    "from matplotlib import cm\n",
    "import csv\n",
    "from sklearn import svm\n",
    "\n",
    "from matplotlib import rcParams\n",
    "rcParams['text.usetex'] = True\n",
    "rcParams['text.latex.preamble'] = r'\\usepackage{amsmath}'"
   ]
  },
  {
   "cell_type": "markdown",
   "metadata": {},
   "source": [
    "## Funções relacionadas ao método ou auxiliares"
   ]
  },
  {
   "cell_type": "code",
   "execution_count": null,
   "metadata": {},
   "outputs": [],
   "source": [
    "#Função de leitura dos dados------------------------------------\n",
    "def read_class_data(path):\n",
    "    with open(path, newline='') as f:\n",
    "        reader = csv.reader(f,delimiter=',')\n",
    "        for row in reader:\n",
    "            try:\n",
    "                data = np.vstack( (data , np.asarray(row).astype(np.float) ) )\n",
    "            except:\n",
    "                data = np.asarray(row).astype(np.float)\n",
    "    f.close()\n",
    "    y = data[:,0]\n",
    "    x = data[:,1:]\n",
    "    return y,x"
   ]
  },
  {
   "cell_type": "markdown",
   "metadata": {},
   "source": [
    "## Leitura dos dados\n",
    "* Fazemos aqui a leitura dos dados simulados no 'juputer-notebook':\"Pratica-SepLin-SimulacaoDados\"\n",
    "* $\\texttt{path_D}$ corresponde aos dados de treinamento\n",
    "* $\\texttt{path_I}$ corresponde aos dados usados para avaliação do método"
   ]
  },
  {
   "cell_type": "code",
   "execution_count": null,
   "metadata": {},
   "outputs": [],
   "source": [
    "#Dados de treinamento\n",
    "path_D = 'saidaSim_D_SepLin.txt'\n",
    "\n",
    "#Dados de avaliação\n",
    "path_I = 'saidaSim_I_SepLin.txt'\n",
    "\n",
    "#Leitura dos dados\n",
    "yD,xD = read_class_data(path_D)\n",
    "yI,xI = read_class_data(path_I)"
   ]
  },
  {
   "cell_type": "markdown",
   "metadata": {},
   "source": [
    "## Classificação dos dados\n",
    "* $\\texttt{g}$ é uma instanciação gerada via svm.SVC\n",
    "* $C=100$ e $\\texttt{kernel='linear'}$ são parâmetros do método\n",
    "* $\\texttt{decision_function_shape='ovr'}$ determina o uso da estratégia 'ovr'\n",
    "* O Treinamento é efetuado pelo método 'fit'"
   ]
  },
  {
   "cell_type": "code",
   "execution_count": null,
   "metadata": {},
   "outputs": [],
   "source": [
    "g = svm.SVC(C=100,kernel='linear',decision_function_shape='ovo')\n",
    "g.fit(xD,yD)"
   ]
  },
  {
   "cell_type": "markdown",
   "metadata": {},
   "source": [
    "## Classificação do espaço de atributos \n",
    "### (na verdade, vamos classificar um conjunto ampo de elementos neste espaço!)\n",
    "* Como já sabemos, a classificação (predição) é realizada pelo método 'predict'\n",
    "* Para fins de visualização,é preciso compatibilizar os elementos (veja código)"
   ]
  },
  {
   "cell_type": "code",
   "execution_count": null,
   "metadata": {},
   "outputs": [],
   "source": [
    "N = 400\n",
    "minX, maxX = np.floor(np.min(xI[:,0])), np.ceil(np.max(xI[:,0]))\n",
    "minY, maxY = np.floor(np.min(xI[:,1])), np.ceil(np.max(xI[:,1]))\n",
    "\n",
    "N = 200\n",
    "X1 = np.linspace(minX, maxX,N)\n",
    "X2 = np.linspace(minY, maxY,N)\n",
    "X1, X2 = np.meshgrid(X1, X2)\n",
    "\n",
    "cla = np.ndarray((N,N))\n",
    "for i in range(0,N):\n",
    "    for j in range(0,N):\n",
    "        cla[i,j] = g.predict( [ [X1[i,j] , X2[i,j]] ] ) \n",
    "\n",
    "plt.contourf(X1, X2, cla, cmap=cm.Set3,alpha=0.5)\n",
    "\n",
    "plt.plot( xI[np.where(yI == +1), 0], xI[np.where(yI == +1), 1], 's', color='green', markersize=2)\n",
    "plt.plot( xI[np.where(yI == +2), 0], xI[np.where(yI == +2), 1], 's', color='red', markersize=2)\n",
    "plt.plot( xI[np.where(yI == +3), 0], xI[np.where(yI == +3), 1], 's', color='grey', markersize=2)\n",
    "plt.plot( xI[np.where(yI == +4), 0], xI[np.where(yI == +4), 1], 's', color='orange', markersize=2)\n",
    "\n",
    "plt.show()"
   ]
  },
  {
   "cell_type": "markdown",
   "metadata": {},
   "source": [
    "## Vamos repetir o processo, agora com a estratégia OVO\n",
    "* Com uso do kernel linear, é esperado que as alterações no resultados sejam mínimas (caso ocorram)"
   ]
  },
  {
   "cell_type": "code",
   "execution_count": null,
   "metadata": {},
   "outputs": [],
   "source": [
    "g = svm.SVC(C=1000,kernel='linear',decision_function_shape='ovr')\n",
    "g.fit(xD,yD)\n",
    "\n",
    "N = 400\n",
    "minX, maxX = np.floor(np.min(xI[:,0])), np.ceil(np.max(xI[:,0]))\n",
    "minY, maxY = np.floor(np.min(xI[:,1])), np.ceil(np.max(xI[:,1]))\n",
    "\n",
    "N = 200\n",
    "X1 = np.linspace(minX, maxX,N)\n",
    "X2 = np.linspace(minY, maxY,N)\n",
    "X1, X2 = np.meshgrid(X1, X2)\n",
    "\n",
    "cla = np.ndarray((N,N))\n",
    "for i in range(0,N):\n",
    "    for j in range(0,N):\n",
    "        cla[i,j] = g.predict( [ [X1[i,j] , X2[i,j]] ] ) \n",
    "\n",
    "plt.contourf(X1, X2, cla, cmap=cm.Set3,alpha=0.5)\n",
    "\n",
    "plt.plot( xI[np.where(yI == +1), 0], xI[np.where(yI == +1), 1], 's', color='green', markersize=2)\n",
    "plt.plot( xI[np.where(yI == +2), 0], xI[np.where(yI == +2), 1], 's', color='red', markersize=2)\n",
    "plt.plot( xI[np.where(yI == +3), 0], xI[np.where(yI == +3), 1], 's', color='grey', markersize=2)\n",
    "plt.plot( xI[np.where(yI == +4), 0], xI[np.where(yI == +4), 1], 's', color='orange', markersize=2)\n",
    "\n",
    "plt.show()"
   ]
  }
 ],
 "metadata": {
  "kernelspec": {
   "display_name": "Python 3",
   "language": "python",
   "name": "python3"
  },
  "language_info": {
   "codemirror_mode": {
    "name": "ipython",
    "version": 3
   },
   "file_extension": ".py",
   "mimetype": "text/x-python",
   "name": "python",
   "nbconvert_exporter": "python",
   "pygments_lexer": "ipython3",
   "version": "3.8.3"
  }
 },
 "nbformat": 4,
 "nbformat_minor": 4
}
