{
 "cells": [
  {
   "cell_type": "markdown",
   "metadata": {},
   "source": [
    "## Simulação multiclasses\n",
    "* Extensão do conceito/função introduzida na aula sobre \"Teo. da Decisão de Bayes\"\n",
    "* Aproveite e dê mais uma vez atenção aos parâmetros da distribuição gaussiana multivariada\n",
    "   * Vetores de médias\n",
    "   * Matrizes de covariância\n",
    "* Armazene as versões de treino/avaliação segundo os parâmetros sugeridos\n",
    "* Posteriormente...\n",
    "   * Faça novos experimentos alterando estes parâmetros\n",
    "   * Visualize o arranjo dos dados (no espaço bidimensional)\n",
    "   * Atenção, a matriz de covariância deve ser simétrica e com determinante não nulo\n",
    "   \n",
    "---\n",
    "\n",
    "#### A função \"plt.scatter\" gera um diagrama de espalhamento (muito simples) ao passo que cada classe é simulada"
   ]
  },
  {
   "cell_type": "code",
   "execution_count": null,
   "metadata": {},
   "outputs": [],
   "source": [
    "import numpy as np\n",
    "import matplotlib.pyplot as plt\n",
    "\n",
    "np.random.seed(123456)  #Definição da semente de geração de números aleatórios (caso necessário)\n",
    "\n",
    "#Caminho do arquivo gerado...\n",
    "path_out = 'saidaSim_D_SepLin.txt'\n",
    "\n",
    "\n",
    "#Conjunto D - Treinamento\n",
    "mu1 = [-2,2]; sigma1 =[ [0.75 , 0.75] , [0.75 , 2.0]]; rotulo1 = 1; qnt1 = 50\n",
    "mu2 = [-2,-2]; sigma2 = [[0.5 , -0.5] , [-0.5 , 1]]; rotulo2 = 2; qnt2 = 60\n",
    "mu3 = [2,2]; sigma3 = [[0.5 , -0.5] , [-0.5 , 1]]; rotulo3 = 3; qnt3 = 70\n",
    "mu4 = [2,-2]; sigma4 = [[2 , 0] , [0 , 2]]; rotulo4 = 4; qnt4 = 80\n",
    "\n",
    "\n",
    "#Conjunto I - Avaliação\n",
    "#mu1 = [-2,2]; sigma1 =[ [1.0 , 0.85] , [0.85 , 1.5]]; rotulo1 = 1; qnt1 = 500\n",
    "#mu2 = [-2,-2]; sigma2 = [[0.75 , -0.5] , [-0.5 , 1.25]]; rotulo2 = 2; qnt2 = 500\n",
    "#mu3 = [2,2]; sigma3 = [[0.75 , -0.75] , [-0.75 , 1.0]]; rotulo3 = 3; qnt3 = 500\n",
    "#mu4 = [2,-2]; sigma4 = [[2.5 , 0] , [0 , 2.5]]; rotulo4 = 4; qnt4 = 500\n",
    "\n",
    "\n",
    "rotulos = np.array([rotulo1, rotulo2, rotulo3, rotulo4]) #Indicador das classes\n",
    "quantidades = np.array([qnt1,qnt2,qnt3,qnt4])    #Número de simulações da classe/rótulo\n",
    "conjMu = np.array([mu1,mu2,mu3,mu4])           #Vetor médio da classe/rótulo\n",
    "conjSigma = np.array([sigma1,sigma2,sigma3,sigma4])  #Mat. cov. da classe/rótulo\n",
    "\n",
    "f= open(path_out,\"w\")\n",
    "for r in range(rotulos.size):\n",
    "    dados = np.random.multivariate_normal(conjMu[r,:], conjSigma[r,:,:], quantidades[r]).T\n",
    "\n",
    "    #Descomente a linha abaixo caso queira visualizar os dados simulados!\n",
    "    plt.scatter(dados[0,:],dados[1,:])\n",
    "    \n",
    "    for i in range(0,quantidades[r]):\n",
    "        st = str(rotulos[r])\n",
    "        for j in range(0,dados.shape[0]): #dados.shape = ('dim. espaço','num. simula.')\n",
    "            st += ','+ str(dados[j,i])\n",
    "        st += '\\n' #depois que forma linha, 'pula para próxima linha'\n",
    "        f.write(st)\n",
    "\n",
    "f.close()"
   ]
  }
 ],
 "metadata": {
  "kernelspec": {
   "display_name": "Python 3",
   "language": "python",
   "name": "python3"
  },
  "language_info": {
   "codemirror_mode": {
    "name": "ipython",
    "version": 3
   },
   "file_extension": ".py",
   "mimetype": "text/x-python",
   "name": "python",
   "nbconvert_exporter": "python",
   "pygments_lexer": "ipython3",
   "version": "3.8.3"
  }
 },
 "nbformat": 4,
 "nbformat_minor": 4
}
