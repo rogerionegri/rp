{
 "cells": [
  {
   "cell_type": "markdown",
   "metadata": {},
   "source": [
    "## Declaração de bibliotecas e demais configurações"
   ]
  },
  {
   "cell_type": "code",
   "execution_count": null,
   "metadata": {},
   "outputs": [],
   "source": [
    "import numpy as np\n",
    "import matplotlib.pyplot as plt\n",
    "import csv\n",
    "\n",
    "from matplotlib import rcParams\n",
    "rcParams['text.usetex'] = True\n",
    "rcParams['text.latex.preamble'] = r'\\usepackage{amsmath}'"
   ]
  },
  {
   "cell_type": "markdown",
   "metadata": {},
   "source": [
    "## Funções relacionadas ao método ou auxiliares"
   ]
  },
  {
   "cell_type": "code",
   "execution_count": null,
   "metadata": {},
   "outputs": [],
   "source": [
    "#Função de leitura dos dados------------------------------------\n",
    "def read_class_data(path):\n",
    "    with open(path, newline='') as f:\n",
    "        reader = csv.reader(f,delimiter=',')\n",
    "        for row in reader:\n",
    "            try:\n",
    "                data = np.vstack( (data , np.asarray(row).astype(np.float) ) )\n",
    "            except:\n",
    "                data = np.asarray(row).astype(np.float)\n",
    "    f.close()\n",
    "    y = data[:,0]\n",
    "    x = data[:,1:]\n",
    "    return y,x\n",
    "\n",
    "\n",
    "#Função de predição---------------------------------------------------------\n",
    "def class_predictor(x,w):\n",
    "    if (w.dot( np.hstack((1,x)) ) > 0): return 1\n",
    "    else: return -1\n",
    "\n",
    "#Função discriminante-------------------------------------------------------\n",
    "def disc_function_value(x,w):\n",
    "    return w.dot( np.hstack((1,x)) )\n",
    "\n",
    "\n",
    "#Algoritmo \"Soma dos Erros Quadráticos-------------------------------------\n",
    "def SSE(x,y):\n",
    "    w = np.zeros( x.shape[1] + 1 ) #espaço extendido...\n",
    "    A = np.zeros( (x.shape[1] + 1 , x.shape[1] + 1) ) #definidno uma matriz (n+1)x(n+1)\n",
    "    B = np.zeros( x.shape[1] + 1 ) #definidno uma matriz/vetor 1x(n+1)\n",
    "    \n",
    "    for xi, yi in zip(x,y):\n",
    "        A += (np.asmatrix( np.hstack( (1,xi) )  ).T).dot(np.asmatrix( np.hstack( (1,xi) ) ))\n",
    "        B += yi * np.hstack( (1,xi) )\n",
    "        \n",
    "    w = B.dot(np.linalg.inv(A))\n",
    "    return w"
   ]
  },
  {
   "cell_type": "markdown",
   "metadata": {},
   "source": [
    "## Implementação da estratégia OVR adaptada ao SSE"
   ]
  },
  {
   "cell_type": "code",
   "execution_count": null,
   "metadata": {},
   "outputs": [],
   "source": [
    "def multiclass_ovr_dataset_sse(trainX, trainY, dataset):\n",
    "    \n",
    "    N = dataset.shape[0]\n",
    "    claIndex = np.unique(trainY)\n",
    "    discFun = np.ndarray( (claIndex.size , N) )\n",
    "    for k in range(0,claIndex.size):\n",
    "\n",
    "        labelPos = np.where(trainY == claIndex[k])\n",
    "        labelNeg = np.where(trainY != claIndex[k])\n",
    "\n",
    "        binY = np.copy(trainY)\n",
    "        binY[labelPos] = +1\n",
    "        binY[labelNeg] = -1\n",
    "\n",
    "        w =  SSE(trainX,binY)\n",
    "\n",
    "        for i in range(0,N):\n",
    "            padrao = dataset[i,:]\n",
    "            discFun[k,i] = disc_function_value(padrao,w)\n",
    "\n",
    "    yEst = np.zeros(N)\n",
    "    for i in range(0,N):\n",
    "        maxInd = np.where( discFun[:,i] == np.max(discFun[:,i]) )\n",
    "        yEst[i] = claIndex[maxInd]\n",
    "\n",
    "    return yEst"
   ]
  },
  {
   "cell_type": "markdown",
   "metadata": {},
   "source": [
    "## Leitura dos dados\n",
    "* Fazemos aqui a leitura dos dados simulados no 'juputer-notebook':\"Pratica-SepLin-SimulacaoDados\"\n",
    "* $\\texttt{path_D}$ corresponde aos dados de treinamento\n",
    "* $\\texttt{path_I}$ corresponde aos dados usados para avaliação do método"
   ]
  },
  {
   "cell_type": "code",
   "execution_count": null,
   "metadata": {},
   "outputs": [],
   "source": [
    "#Dados de treinamento\n",
    "path_D = 'saidaSim_D_SepLin.txt'\n",
    "\n",
    "#Dados de avaliação\n",
    "path_I = 'saidaSim_I_SepLin.txt'\n",
    "\n",
    "#Leitura dos dados\n",
    "yD,xD = read_class_data(path_D)\n",
    "yI,xI = read_class_data(path_I)"
   ]
  },
  {
   "cell_type": "markdown",
   "metadata": {},
   "source": [
    "## Classificação dos dados\n",
    "* A função $\\texttt{multiclass_ovr_dataset_sse}$ é usada na classificação multiclasse;\n",
    "* A estratégia OVR é usada (observar o código para entender como a estratégia atua);\n",
    "* Os dois primeiros argumentos correspondem às informações de treinamento, já o terceiro argumento compreende o conjunto de dados a ser classificado;\n",
    "* Em especial, os dados a serem classificados estão organizados em uma matriz $N \\times n$, sendo $N$ o número de exemplos a ser classificado e $n$ é a dimensão dos padrões (neste caso $n=2$)"
   ]
  },
  {
   "cell_type": "code",
   "execution_count": null,
   "metadata": {},
   "outputs": [],
   "source": [
    "yEst = multiclass_ovr_dataset_sse(xD, yD, xI)"
   ]
  },
  {
   "cell_type": "markdown",
   "metadata": {},
   "source": [
    "## Avaliação da acurácia\n",
    "* O processo de avaliação é bem simples\n",
    "* É apenas feita uma contagem do número de concordâncias entre $\\texttt{yI}$ e $\\texttt{yEst}$\n",
    "* O valor obtido é dividido por $N$, a fim de expressar a precisão em termos de porcentagem"
   ]
  },
  {
   "cell_type": "code",
   "execution_count": null,
   "metadata": {},
   "outputs": [],
   "source": [
    "acerto = np.count_nonzero( yI == yEst ) / yI.size\n",
    "print(\"Acerto: %f \"%(acerto))"
   ]
  },
  {
   "cell_type": "markdown",
   "metadata": {},
   "source": [
    "## Visualização dos resultados\n",
    "* Diferente da aula anterior, vamos fazer uma visualização diferente dos resultados\n",
    "* Acertos de classificação serão denotados em azul\n",
    "* Erros de classificação serão denotados em vermelho"
   ]
  },
  {
   "cell_type": "code",
   "execution_count": null,
   "metadata": {},
   "outputs": [],
   "source": [
    "posAcerto = np.where( (yI-yEst) == 0)\n",
    "posErro   = np.where( (yI-yEst) != 0)\n",
    "\n",
    "plt.plot(xI[posAcerto,0],xI[posAcerto,1],'s',color='blue', markersize=1)\n",
    "plt.plot(xI[posErro,0],xI[posErro,1],'s',color='red', markersize=1)\n",
    "\n",
    "plt.xlabel('$x_1$', fontsize=22)\n",
    "plt.ylabel('$x_2$', fontsize=22)\n",
    "\n",
    "plt.show()"
   ]
  }
 ],
 "metadata": {
  "kernelspec": {
   "display_name": "Python 3",
   "language": "python",
   "name": "python3"
  },
  "language_info": {
   "codemirror_mode": {
    "name": "ipython",
    "version": 3
   },
   "file_extension": ".py",
   "mimetype": "text/x-python",
   "name": "python",
   "nbconvert_exporter": "python",
   "pygments_lexer": "ipython3",
   "version": "3.8.3"
  }
 },
 "nbformat": 4,
 "nbformat_minor": 4
}
