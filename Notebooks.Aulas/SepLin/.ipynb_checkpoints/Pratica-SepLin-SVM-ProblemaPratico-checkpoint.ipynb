{
 "cells": [
  {
   "cell_type": "markdown",
   "metadata": {},
   "source": [
    "## Declaração de bibliotecas e demais configurações"
   ]
  },
  {
   "cell_type": "code",
   "execution_count": 1,
   "metadata": {},
   "outputs": [],
   "source": [
    "import numpy as np\n",
    "import matplotlib.pyplot as plt\n",
    "import csv\n",
    "from sklearn import svm\n",
    "import matplotlib.gridspec as gridspec"
   ]
  },
  {
   "cell_type": "markdown",
   "metadata": {},
   "source": [
    "## Funções relacionadas ao método ou auxiliares"
   ]
  },
  {
   "cell_type": "code",
   "execution_count": 2,
   "metadata": {},
   "outputs": [],
   "source": [
    "#Função de leitura dos dados------------------------------------\n",
    "def read_class_data(path):\n",
    "    with open(path, newline='') as f:\n",
    "        reader = csv.reader(f,delimiter=',')\n",
    "        for row in reader:\n",
    "            try:\n",
    "                data = np.vstack( (data , np.asarray(row).astype(np.float) ) )\n",
    "            except:\n",
    "                data = np.asarray(row).astype(np.float)\n",
    "    f.close()\n",
    "    y = data[:,0]\n",
    "    x = data[:,1:]\n",
    "    return y,x"
   ]
  },
  {
   "cell_type": "markdown",
   "metadata": {},
   "source": [
    "## Leitura dos dados\n",
    "* Fazemos aqui a leitura dos dados obtidos externamente...\n",
    "* O software ENVI foi usado para coletar os dados\n",
    "* $\\texttt{path_D}$ corresponde aos dados de treinamento\n",
    "* $\\texttt{path_I}$ corresponde aos dados usados para avaliação do método\n",
    "\n",
    "---\n",
    "\n",
    "* Diferente dos exemplos anteriores, os dados possuem duas componentes adicionais: latitude e longitude da informação\n",
    "* Estas informações não devem ser incluídas no processo de treinamento, classificação e avaliação\n",
    "* Serão utilizadas somente na construção de representações espaciais! ;)"
   ]
  },
  {
   "cell_type": "code",
   "execution_count": 3,
   "metadata": {},
   "outputs": [],
   "source": [
    "#Dados de treinamento\n",
    "path_D = 'dados_treino_geoloc_2class.txt'\n",
    "\n",
    "#Dados de avaliação\n",
    "path_V = 'dados_avaliacao_geoloc_2class.txt'\n",
    "\n",
    "#Dados a serem classifcados\n",
    "path_I = 'area_classificacao.txt'\n",
    "\n",
    "#Leitura dos dados\n",
    "yD,xD_g = read_class_data(path_D)\n",
    "yV,xV_g = read_class_data(path_V)\n",
    "yI,xI_g = read_class_data(path_I) #note que yI não tem muita funcionalidade aqui (será sobrescrito lobo abaixo)\n",
    "\n",
    "#remoção da lat/long de xD e xI (usada apenas para garação dos gráficos)\n",
    "xD = np.copy(xD_g[:,2:]) #copia o conteúdo, de todas as linhas, da 3a até a última coluna\n",
    "xV = np.copy(xV_g[:,2:]) \n",
    "xI = np.copy(xI_g[:,2:])"
   ]
  },
  {
   "cell_type": "markdown",
   "metadata": {},
   "source": [
    "## Treinamento do método\n",
    "* $\\texttt{g}$ é uma instanciação gerada via svm.SVC\n",
    "* $C=100$ e $\\texttt{kernel='linear'}$ são parâmetros do método\n",
    "* $\\texttt{decision_function_shape='ovr'}$ determina o uso da estratégia 'ovr'\n",
    "* O Treinamento é efetuado pelo método 'fit'"
   ]
  },
  {
   "cell_type": "code",
   "execution_count": 4,
   "metadata": {},
   "outputs": [
    {
     "data": {
      "text/plain": [
       "SVC(C=100, kernel='linear')"
      ]
     },
     "execution_count": 4,
     "metadata": {},
     "output_type": "execute_result"
    }
   ],
   "source": [
    "#Parametrização e treinamento do SVM--------------------------------------\n",
    "gx = svm.SVC(C=100,kernel='linear',decision_function_shape='ovr')\n",
    "gx.fit(xD,yD)"
   ]
  },
  {
   "cell_type": "markdown",
   "metadata": {},
   "source": [
    "## Avaliação do treinamento"
   ]
  },
  {
   "cell_type": "code",
   "execution_count": 5,
   "metadata": {},
   "outputs": [
    {
     "name": "stdout",
     "output_type": "stream",
     "text": [
      "Acerto: 0.998314 \n"
     ]
    }
   ],
   "source": [
    "#Fase de avaliação--------------------------------------------------------\n",
    "yEst = np.copy(yV)\n",
    "for i in range(0, yV.size):\n",
    "    padrao = [ xV[i,:] ]       #Compatibilizar com função 'predict'\n",
    "    yEst[i] = gx.predict(padrao)\n",
    "\n",
    "acerto = np.count_nonzero( yV == yEst ) / yV.size\n",
    "print(\"Acerto: %f \"%(acerto))"
   ]
  },
  {
   "cell_type": "markdown",
   "metadata": {},
   "source": [
    "## Classificação dos dados"
   ]
  },
  {
   "cell_type": "code",
   "execution_count": 6,
   "metadata": {},
   "outputs": [],
   "source": [
    "#Classificação de cada padrão vindo de 'path_I'---------------------------\n",
    "for i in range(0, yI.size):\n",
    "    padrao = [ xI[i,:] ]       #Compatibilizar com função 'predict'\n",
    "    yI[i] = gx.predict(padrao)"
   ]
  },
  {
   "cell_type": "markdown",
   "metadata": {},
   "source": [
    "## Geração da representação espacial"
   ]
  },
  {
   "cell_type": "code",
   "execution_count": null,
   "metadata": {},
   "outputs": [],
   "source": [
    "#Posição da predição de cada classe em yI\n",
    "cla1Pos = np.where(yI == 1)\n",
    "cla2Pos = np.where(yI == 2)\n",
    "cla3Pos = np.where(yI == 3)\n",
    "\n",
    "#Construção do gráfico com os resultados do processo----------------------\n",
    "\n",
    "#Variação de latitude e longitude na área de estudo\n",
    "mapVarLat = np.ceil( np.max(xD_g[:,0]) - np.min(xD_g[:,0]) )\n",
    "mapVarLon = np.ceil( np.max(xD_g[:,1]) - np.min(xD_g[:,1]) )\n",
    "\n",
    "#Tamanho da figura a ser gerada -- proporcinal à área de estudo\n",
    "FS = ( 5*(mapVarLon/mapVarLat),5*(mapVarLat/mapVarLon))\n",
    "\n",
    "#Ajustes da componente que compõe a figura\n",
    "fig = plt.figure(constrained_layout=True,figsize=FS)\n",
    "spec = gridspec.GridSpec(ncols=1, nrows=1, figure=fig)\n",
    "ax = fig.add_subplot(spec[0, 0])\n",
    "\n",
    "#Construção do gráfico-----------------------------------------\n",
    "if np.size(cla1Pos) > 1:\n",
    "    ax.plot( xI_g[cla1Pos, 1], xI_g[cla1Pos, 0], '.', color='green', markersize=1)\n",
    "    \n",
    "if np.size(cla2Pos) > 1:\n",
    "    ax.plot( xI_g[cla2Pos, 1], xI_g[cla2Pos, 0], '.', color='yellow', markersize=1)\n",
    "\n",
    "if np.size(cla3Pos) > 1:\n",
    "    ax.plot( xI_g[cla3Pos, 1], xI_g[cla3Pos, 0], '.', color='blue', markersize=1)\n",
    "\n",
    "ax.set_xlabel('Longitude', fontsize=18)\n",
    "ax.set_ylabel('Latitude', fontsize=18)\n",
    "ax.set( xlim=(np.min(xI_g[:,1]), np.max(xI_g[:,1])), ylim=(np.min(xI_g[:,0]), np.max(xI_g[:,0])) )\n",
    "ax.set_aspect('equal')\n",
    "\n",
    "plt.show()"
   ]
  },
  {
   "cell_type": "code",
   "execution_count": null,
   "metadata": {},
   "outputs": [],
   "source": []
  }
 ],
 "metadata": {
  "kernelspec": {
   "display_name": "Python 3",
   "language": "python",
   "name": "python3"
  },
  "language_info": {
   "codemirror_mode": {
    "name": "ipython",
    "version": 3
   },
   "file_extension": ".py",
   "mimetype": "text/x-python",
   "name": "python",
   "nbconvert_exporter": "python",
   "pygments_lexer": "ipython3",
   "version": "3.8.3"
  }
 },
 "nbformat": 4,
 "nbformat_minor": 4
}
