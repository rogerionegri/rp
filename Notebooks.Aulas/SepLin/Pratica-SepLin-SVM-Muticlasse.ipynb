{
 "cells": [
  {
   "cell_type": "markdown",
   "metadata": {},
   "source": [
    "## Declaração de bibliotecas e demais configurações"
   ]
  },
  {
   "cell_type": "code",
   "execution_count": 1,
   "metadata": {},
   "outputs": [],
   "source": [
    "import numpy as np\n",
    "import matplotlib.pyplot as plt\n",
    "import csv\n",
    "\n",
    "from sklearn import svm\n",
    "\n",
    "from matplotlib import rcParams\n",
    "rcParams['text.usetex'] = True\n",
    "rcParams['text.latex.preamble'] = r'\\usepackage{amsmath}'"
   ]
  },
  {
   "cell_type": "markdown",
   "metadata": {},
   "source": [
    "## Funções relacionadas ao método ou auxiliares"
   ]
  },
  {
   "cell_type": "code",
   "execution_count": 2,
   "metadata": {},
   "outputs": [],
   "source": [
    "#Função de leitura dos dados------------------------------------\n",
    "def read_class_data(path):\n",
    "    with open(path, newline='') as f:\n",
    "        reader = csv.reader(f,delimiter=',')\n",
    "        for row in reader:\n",
    "            try:\n",
    "                data = np.vstack( (data , np.asarray(row).astype(np.float) ) )\n",
    "            except:\n",
    "                data = np.asarray(row).astype(np.float)\n",
    "    f.close()\n",
    "    y = data[:,0]\n",
    "    x = data[:,1:]\n",
    "    return y,x"
   ]
  },
  {
   "cell_type": "markdown",
   "metadata": {},
   "source": [
    "## Leitura dos dados\n",
    "* Fazemos aqui a leitura dos dados simulados no 'juputer-notebook':\"Pratica-SepLin-SimulacaoDados\"\n",
    "* $\\texttt{path_D}$ corresponde aos dados de treinamento\n",
    "* $\\texttt{path_I}$ corresponde aos dados usados para avaliação do método"
   ]
  },
  {
   "cell_type": "code",
   "execution_count": 3,
   "metadata": {},
   "outputs": [],
   "source": [
    "#Dados de treinamento\n",
    "path_D = 'saidaSim_D_SepLin.txt'\n",
    "\n",
    "#Dados de avaliação\n",
    "path_I = 'saidaSim_I_SepLin.txt'\n",
    "\n",
    "#Leitura dos dados\n",
    "yD,xD = read_class_data(path_D)\n",
    "yI,xI = read_class_data(path_I)"
   ]
  },
  {
   "cell_type": "markdown",
   "metadata": {},
   "source": [
    "## Classificação dos dados\n",
    "* $\\texttt{g}$ é uma instanciação gerada via svm.SVC\n",
    "* $C=100$ e $\\texttt{kernel='linear'}$ são parâmetros do método\n",
    "* $\\texttt{decision\\_function\\_shape='ovr'}$ determina o uso da estratégia 'ovr'\n",
    "* O Treinamento é efetuado pelo método 'fit'\n",
    "* A classificação (predição) é realizada pelo método 'predict'"
   ]
  },
  {
   "cell_type": "code",
   "execution_count": 4,
   "metadata": {},
   "outputs": [],
   "source": [
    "g = svm.SVC(C=100,kernel='linear',decision_function_shape='ovr')\n",
    "g.fit(xD,yD)\n",
    "\n",
    "yEst = g.predict(xI)"
   ]
  },
  {
   "cell_type": "markdown",
   "metadata": {},
   "source": [
    "## Avaliação da acurácia\n",
    "* O processo de avaliação é bem simples\n",
    "* É apenas feita uma contagem do número de concordâncias entre $\\texttt{yI}$ e $\\texttt{yEst}$\n",
    "* O valor obtido é dividido por $N$, a fim de expressar a precisão em termos de porcentagem"
   ]
  },
  {
   "cell_type": "code",
   "execution_count": 5,
   "metadata": {},
   "outputs": [
    {
     "name": "stdout",
     "output_type": "stream",
     "text": [
      "Acerto: 0.902000 \n"
     ]
    }
   ],
   "source": [
    "acerto = np.count_nonzero( yI == yEst ) / yI.size\n",
    "print(\"Acerto: %f \"%(acerto))"
   ]
  },
  {
   "cell_type": "markdown",
   "metadata": {},
   "source": [
    "## Visualização dos resultados\n",
    "* Diferente da aula anterior, vamos fazer uma visualização diferente dos resultados\n",
    "* Acertos de classificação serão denotados em azul\n",
    "* Erros de classificação serão denotados em vermelho"
   ]
  },
  {
   "cell_type": "code",
   "execution_count": 6,
   "metadata": {},
   "outputs": [
    {
     "data": {
      "image/png": "[encoded data removed]",
      "text/plain": [
       "<Figure size 432x288 with 1 Axes>"
      ]
     },
     "metadata": {
      "needs_background": "light"
     },
     "output_type": "display_data"
    }
   ],
   "source": [
    "posAcerto = np.where( (yI-yEst) == 0)\n",
    "posErro   = np.where( (yI-yEst) != 0)\n",
    "\n",
    "plt.plot(xI[posAcerto,0],xI[posAcerto,1],'s',color='blue', markersize=1)\n",
    "plt.plot(xI[posErro,0],xI[posErro,1],'s',color='red', markersize=1)\n",
    "\n",
    "plt.xlabel('$x_1$', fontsize=22)\n",
    "plt.ylabel('$x_2$', fontsize=22)\n",
    "\n",
    "plt.show()"
   ]
  },
  {
   "cell_type": "code",
   "execution_count": null,
   "metadata": {},
   "outputs": [],
   "source": []
  }
 ],
 "metadata": {
  "kernelspec": {
   "display_name": "Python 3",
   "language": "python",
   "name": "python3"
  },
  "language_info": {
   "codemirror_mode": {
    "name": "ipython",
    "version": 3
   },
   "file_extension": ".py",
   "mimetype": "text/x-python",
   "name": "python",
   "nbconvert_exporter": "python",
   "pygments_lexer": "ipython3",
   "version": "3.8.3"
  }
 },
 "nbformat": 4,
 "nbformat_minor": 4
}
