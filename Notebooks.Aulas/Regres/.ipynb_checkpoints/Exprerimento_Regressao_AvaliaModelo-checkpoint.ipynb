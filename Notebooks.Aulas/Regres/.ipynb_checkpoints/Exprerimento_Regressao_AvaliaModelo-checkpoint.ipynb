{
 "cells": [
  {
   "cell_type": "markdown",
   "metadata": {},
   "source": [
    "## Bibliotecas/módulos"
   ]
  },
  {
   "cell_type": "code",
   "execution_count": 1,
   "metadata": {},
   "outputs": [],
   "source": [
    "import matplotlib.pyplot as plt\n",
    "import matplotlib.gridspec as gridspec\n",
    "from matplotlib import cm\n",
    "\n",
    "import numpy as np\n",
    "import csv\n",
    "\n",
    "#from matplotlib import rcParams\n",
    "#rcParams['text.usetex'] = True\n",
    "#rcParams['text.latex.preamble'] = r'\\usepackage{amsmath}'\n",
    "\n",
    "from sklearn import linear_model\n",
    "from sklearn.preprocessing import PolynomialFeatures\n",
    "from sklearn.model_selection import train_test_split"
   ]
  },
  {
   "cell_type": "markdown",
   "metadata": {},
   "source": [
    "## Função para avaliação do modelo"
   ]
  },
  {
   "cell_type": "code",
   "execution_count": 6,
   "metadata": {},
   "outputs": [],
   "source": [
    "def medidaAvaliaModelo(x,y,d,q,r):\n",
    "    \n",
    "    pol = PolynomialFeatures(d)\n",
    "    regLin = linear_model.LinearRegression()\n",
    "    sGeral = 0\n",
    "\n",
    "    for perc in np.linspace(0.1,0.9,q):\n",
    "        vec = []\n",
    "        for _ in range(r):\n",
    "            xD, xI, yD, yI = train_test_split(x,y,test_size=perc)\n",
    "\n",
    "            polXD = pol.fit_transform(xD)\n",
    "            polXI = pol.fit_transform(xI)\n",
    "\n",
    "            regLin.fit(polXD,yD)\n",
    "            estYI = regLin.predict(polXI)\n",
    "\n",
    "            vec.append( np.sum( (estYI - yI)**2 )/len(yI) )\n",
    "        sGeral += np.mean(vec)\n",
    "        #sGeral += np.median(vec)\n",
    "        \n",
    "    return sGeral"
   ]
  },
  {
   "cell_type": "markdown",
   "metadata": {},
   "source": [
    "## Dados simulados segundo a função:\n",
    "$f(x) = x \\cdot (\\cos(x) + 1) + \\zeta; \\ \\ \\zeta \\sim \\mathcal{N}(0,1)$"
   ]
  },
  {
   "cell_type": "code",
   "execution_count": 7,
   "metadata": {},
   "outputs": [
    {
     "data": {
      "image/png": "[encoded data removed]",
      "text/plain": [
       "<Figure size 432x288 with 1 Axes>"
      ]
     },
     "metadata": {
      "needs_background": "light"
     },
     "output_type": "display_data"
    }
   ],
   "source": [
    "np.random.seed(0)\n",
    "x = np.random.uniform(0,7,50).reshape(-1,1)\n",
    "y = x + np.cos(x)*x + np.random.normal(0,1,len(x)).reshape(-1,1)\n",
    "\n",
    "plt.plot(x,y,'r.')\n",
    "plt.xlabel(r'$x$',fontsize=20)\n",
    "plt.ylabel(r'$f(x)$',fontsize=20)\n",
    "plt.grid()"
   ]
  },
  {
   "cell_type": "markdown",
   "metadata": {},
   "source": [
    "## Processo de avaliação/seleção"
   ]
  },
  {
   "cell_type": "code",
   "execution_count": 16,
   "metadata": {},
   "outputs": [
    {
     "name": "stdout",
     "output_type": "stream",
     "text": [
      "Grau:  1  -- SEQ Mediano:  2.000238298804176\n",
      "Grau:  2  -- SEQ Mediano:  1.74327509945801\n",
      "Grau:  3  -- SEQ Mediano:  4.029525834541085\n",
      "Grau:  4  -- SEQ Mediano:  7.264673024878831\n",
      "Grau:  5  -- SEQ Mediano:  5.8503694249869405\n",
      "Grau:  6  -- SEQ Mediano:  6.74517421648443\n",
      "Grau:  7  -- SEQ Mediano:  8.939648644627173\n",
      "Grau:  8  -- SEQ Mediano:  13.079937814921918\n",
      "Grau:  9  -- SEQ Mediano:  11.510809378791237\n"
     ]
    }
   ],
   "source": [
    "ds = [1,2,3,4,5,6,7,8,9]\n",
    "vec = []\n",
    "for i in ds:\n",
    "    #vec.append( medidaAvaliaModelo(x,y,i,10,100) )\n",
    "    vec.append( np.log10( medidaAvaliaModelo(x,y,i,10,100) ) )\n",
    "    print('Grau: ',i,' -- SEQ Mediano: ',vec[-1])"
   ]
  },
  {
   "cell_type": "markdown",
   "metadata": {},
   "source": [
    "## Visualização..."
   ]
  },
  {
   "cell_type": "code",
   "execution_count": 15,
   "metadata": {},
   "outputs": [
    {
     "data": {
      "image/png": "[encoded data removed]",
      "text/plain": [
       "<Figure size 504x360 with 1 Axes>"
      ]
     },
     "metadata": {
      "needs_background": "light"
     },
     "output_type": "display_data"
    }
   ],
   "source": [
    "FS = (7,5) #Tamanho da figura a ser gerada\n",
    "fig = plt.figure(constrained_layout=True,figsize=FS)\n",
    "spec = gridspec.GridSpec(ncols=1, nrows=1, figure=fig)\n",
    "\n",
    "ax = fig.add_subplot(spec[0, 0])\n",
    "\n",
    "ax.plot(ds,vec,'r-')\n",
    "ax.set_xlabel('Grau',fontsize=20)\n",
    "ax.set_ylabel('Log.(Erro Médio Quadrático)',fontsize=20)\n",
    "#ax.set_yscale('logit')\n",
    "#ax.set_ylim([np.min(vec),np.min(vec)*50])\n",
    "\n",
    "plt.show()"
   ]
  },
  {
   "cell_type": "code",
   "execution_count": null,
   "metadata": {},
   "outputs": [],
   "source": []
  }
 ],
 "metadata": {
  "kernelspec": {
   "display_name": "Python 3",
   "language": "python",
   "name": "python3"
  },
  "language_info": {
   "codemirror_mode": {
    "name": "ipython",
    "version": 3
   },
   "file_extension": ".py",
   "mimetype": "text/x-python",
   "name": "python",
   "nbconvert_exporter": "python",
   "pygments_lexer": "ipython3",
   "version": "3.8.3"
  }
 },
 "nbformat": 4,
 "nbformat_minor": 4
}
